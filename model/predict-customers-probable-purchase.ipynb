{
 "cells": [
  {
   "cell_type": "markdown",
   "metadata": {
    "_cell_guid": "f83fb516-5757-474c-9f96-35da5869b2b0",
    "_uuid": "e096dee8-cc0a-45aa-82df-c3cf5f37a5b2",
    "trusted": true
   },
   "source": [
    "# Predict whether a customer is going to buy a product next month."
   ]
  },
  {
   "cell_type": "markdown",
   "metadata": {},
   "source": [
    "In this notebook we'll understand how to build a Machine Learning model to predict whether customers will make their next purchase after a certain period."
   ]
  },
  {
   "cell_type": "markdown",
   "metadata": {},
   "source": [
    "Suppose the managerial team of an online retail shop approaches you, a data scientist, with the dataset wanting to know whether customers will make their next purchase 90 days from the day they made their last purchase. Your answer to their inquiry will help them identify which customers their marketing team need to have a focus on with regard to the next promotional offers they will be rolling out."
   ]
  },
  {
   "cell_type": "code",
   "execution_count": 2,
   "metadata": {
    "_cell_guid": "3a9093e8-e783-4acc-98a0-abe4d5977f37",
    "_uuid": "8ce7e81e-c3f4-4da2-b39a-404cd3e0f4f0",
    "collapsed": false,
    "execution": {
     "iopub.execute_input": "2024-11-06T17:50:22.867441Z",
     "iopub.status.busy": "2024-11-06T17:50:22.867055Z",
     "iopub.status.idle": "2024-11-06T17:50:22.877958Z",
     "shell.execute_reply": "2024-11-06T17:50:22.876890Z",
     "shell.execute_reply.started": "2024-11-06T17:50:22.867404Z"
    },
    "jupyter": {
     "outputs_hidden": false
    },
    "trusted": true
   },
   "outputs": [],
   "source": [
    "import numpy as np # linear algebra\n",
    "import pandas as pd # data processing, CSV file I/O (e.g. pd.read_csv)\n",
    "# avoid displaying warnings\n",
    "import warnings\n",
    "warnings.filterwarnings(\"ignore\")\n",
    "\n",
    "import matplotlib.pyplot as plt\n",
    "import seaborn as sns\n",
    "\n",
    "import plotly.express as px\n",
    "#import plotly.offline as pyoff\n",
    "import plotly.graph_objs as go \n",
    "#import plotly.figure_factory as ff\n",
    "#AUC, confusion matrix\n",
    "\n",
    "#import machine learning related libraries\n",
    "from sklearn.svm import SVC\n",
    "from sklearn.multioutput import MultiOutputClassifier\n",
    "from sklearn.ensemble import GradientBoostingClassifier\n",
    "from sklearn.tree import DecisionTreeClassifier\n",
    "from sklearn.neighbors import KNeighborsClassifier\n",
    "from sklearn.naive_bayes import GaussianNB\n",
    "from sklearn.ensemble import RandomForestClassifier\n",
    "from sklearn.linear_model import LogisticRegression\n",
    "from sklearn.model_selection import KFold, cross_val_score, train_test_split, GridSearchCV, cross_validate\n",
    "from sklearn.metrics import accuracy_score, f1_score, precision_score, recall_score, confusion_matrix\n",
    "from sklearn.cluster import KMeans\n",
    "import xgboost as xgb\n",
    "import time\n",
    "from sklearn.metrics import classification_report,confusion_matrix\n",
    "\n",
    "\n",
    "from sklearn.cluster import KMeans\n",
    "from sklearn.model_selection import KFold, cross_val_score, train_test_split, GridSearchCV, cross_validate\n",
    "from sklearn.metrics import accuracy_score, f1_score, precision_score, recall_score, confusion_matrix"
   ]
  },
  {
   "cell_type": "code",
   "execution_count": 3,
   "metadata": {
    "_cell_guid": "9d634894-b3c8-4854-a9a9-ea214f1505f9",
    "_uuid": "aacbc2ee-dd35-4310-8bd0-6f6ce0c9db27",
    "collapsed": false,
    "execution": {
     "iopub.execute_input": "2024-11-06T17:50:22.880450Z",
     "iopub.status.busy": "2024-11-06T17:50:22.880063Z",
     "iopub.status.idle": "2024-11-06T17:50:24.804602Z",
     "shell.execute_reply": "2024-11-06T17:50:24.803510Z",
     "shell.execute_reply.started": "2024-11-06T17:50:22.880407Z"
    },
    "jupyter": {
     "outputs_hidden": false
    },
    "trusted": true
   },
   "outputs": [],
   "source": [
    "data = pd.read_csv(\"dataset/Data.csv\")"
   ]
  },
  {
   "cell_type": "code",
   "execution_count": 4,
   "metadata": {
    "_cell_guid": "608b7c25-630d-45fe-b38f-d7ecc9445abc",
    "_uuid": "77df00f6-7cb1-4a7c-84a1-a94beaf6bcdc",
    "collapsed": false,
    "execution": {
     "iopub.execute_input": "2024-11-06T17:50:24.806451Z",
     "iopub.status.busy": "2024-11-06T17:50:24.806126Z",
     "iopub.status.idle": "2024-11-06T17:50:24.836756Z",
     "shell.execute_reply": "2024-11-06T17:50:24.835854Z",
     "shell.execute_reply.started": "2024-11-06T17:50:24.806414Z"
    },
    "jupyter": {
     "outputs_hidden": false
    },
    "trusted": true
   },
   "outputs": [
    {
     "data": {
      "text/html": [
       "<div>\n",
       "<style scoped>\n",
       "    .dataframe tbody tr th:only-of-type {\n",
       "        vertical-align: middle;\n",
       "    }\n",
       "\n",
       "    .dataframe tbody tr th {\n",
       "        vertical-align: top;\n",
       "    }\n",
       "\n",
       "    .dataframe thead th {\n",
       "        text-align: right;\n",
       "    }\n",
       "</style>\n",
       "<table border=\"1\" class=\"dataframe\">\n",
       "  <thead>\n",
       "    <tr style=\"text-align: right;\">\n",
       "      <th></th>\n",
       "      <th>Invoice</th>\n",
       "      <th>StockCode</th>\n",
       "      <th>Description</th>\n",
       "      <th>Quantity</th>\n",
       "      <th>InvoiceDate</th>\n",
       "      <th>Price</th>\n",
       "      <th>Customer ID</th>\n",
       "      <th>Country</th>\n",
       "    </tr>\n",
       "  </thead>\n",
       "  <tbody>\n",
       "    <tr>\n",
       "      <th>0</th>\n",
       "      <td>489434</td>\n",
       "      <td>85048</td>\n",
       "      <td>15CM CHRISTMAS GLASS BALL 20 LIGHTS</td>\n",
       "      <td>12</td>\n",
       "      <td>2009-12-01 07:45:00</td>\n",
       "      <td>6.95</td>\n",
       "      <td>13085.0</td>\n",
       "      <td>United Kingdom</td>\n",
       "    </tr>\n",
       "    <tr>\n",
       "      <th>1</th>\n",
       "      <td>489434</td>\n",
       "      <td>79323P</td>\n",
       "      <td>PINK CHERRY LIGHTS</td>\n",
       "      <td>12</td>\n",
       "      <td>2009-12-01 07:45:00</td>\n",
       "      <td>6.75</td>\n",
       "      <td>13085.0</td>\n",
       "      <td>United Kingdom</td>\n",
       "    </tr>\n",
       "    <tr>\n",
       "      <th>2</th>\n",
       "      <td>489434</td>\n",
       "      <td>79323W</td>\n",
       "      <td>WHITE CHERRY LIGHTS</td>\n",
       "      <td>12</td>\n",
       "      <td>2009-12-01 07:45:00</td>\n",
       "      <td>6.75</td>\n",
       "      <td>13085.0</td>\n",
       "      <td>United Kingdom</td>\n",
       "    </tr>\n",
       "    <tr>\n",
       "      <th>3</th>\n",
       "      <td>489434</td>\n",
       "      <td>22041</td>\n",
       "      <td>RECORD FRAME 7\" SINGLE SIZE</td>\n",
       "      <td>48</td>\n",
       "      <td>2009-12-01 07:45:00</td>\n",
       "      <td>2.10</td>\n",
       "      <td>13085.0</td>\n",
       "      <td>United Kingdom</td>\n",
       "    </tr>\n",
       "    <tr>\n",
       "      <th>4</th>\n",
       "      <td>489434</td>\n",
       "      <td>21232</td>\n",
       "      <td>STRAWBERRY CERAMIC TRINKET BOX</td>\n",
       "      <td>24</td>\n",
       "      <td>2009-12-01 07:45:00</td>\n",
       "      <td>1.25</td>\n",
       "      <td>13085.0</td>\n",
       "      <td>United Kingdom</td>\n",
       "    </tr>\n",
       "    <tr>\n",
       "      <th>...</th>\n",
       "      <td>...</td>\n",
       "      <td>...</td>\n",
       "      <td>...</td>\n",
       "      <td>...</td>\n",
       "      <td>...</td>\n",
       "      <td>...</td>\n",
       "      <td>...</td>\n",
       "      <td>...</td>\n",
       "    </tr>\n",
       "    <tr>\n",
       "      <th>944463</th>\n",
       "      <td>575312</td>\n",
       "      <td>22083</td>\n",
       "      <td>PAPER CHAIN KIT RETROSPOT</td>\n",
       "      <td>6</td>\n",
       "      <td>2011-11-09 12:49:00</td>\n",
       "      <td>2.95</td>\n",
       "      <td>13588.0</td>\n",
       "      <td>United Kingdom</td>\n",
       "    </tr>\n",
       "    <tr>\n",
       "      <th>944464</th>\n",
       "      <td>575312</td>\n",
       "      <td>23355</td>\n",
       "      <td>HOT WATER BOTTLE KEEP CALM</td>\n",
       "      <td>4</td>\n",
       "      <td>2011-11-09 12:49:00</td>\n",
       "      <td>4.95</td>\n",
       "      <td>13588.0</td>\n",
       "      <td>United Kingdom</td>\n",
       "    </tr>\n",
       "    <tr>\n",
       "      <th>944465</th>\n",
       "      <td>575312</td>\n",
       "      <td>22110</td>\n",
       "      <td>BIRD HOUSE HOT WATER BOTTLE</td>\n",
       "      <td>6</td>\n",
       "      <td>2011-11-09 12:49:00</td>\n",
       "      <td>2.55</td>\n",
       "      <td>13588.0</td>\n",
       "      <td>United Kingdom</td>\n",
       "    </tr>\n",
       "    <tr>\n",
       "      <th>944466</th>\n",
       "      <td>575312</td>\n",
       "      <td>22037</td>\n",
       "      <td>ROBOT BIRTHDAY CARD</td>\n",
       "      <td>12</td>\n",
       "      <td>2011-11-09 12:49:00</td>\n",
       "      <td>0.42</td>\n",
       "      <td>13588.0</td>\n",
       "      <td>United Kingdom</td>\n",
       "    </tr>\n",
       "    <tr>\n",
       "      <th>944467</th>\n",
       "      <td>575312</td>\n",
       "      <td>21790</td>\n",
       "      <td>VINTAGE SNAP CARDS</td>\n",
       "      <td>12</td>\n",
       "      <td>2011-11-09 12:49:00</td>\n",
       "      <td>0.85</td>\n",
       "      <td>13588.0</td>\n",
       "      <td>United Kingdom</td>\n",
       "    </tr>\n",
       "  </tbody>\n",
       "</table>\n",
       "<p>944468 rows × 8 columns</p>\n",
       "</div>"
      ],
      "text/plain": [
       "       Invoice StockCode                          Description  Quantity  \\\n",
       "0       489434     85048  15CM CHRISTMAS GLASS BALL 20 LIGHTS        12   \n",
       "1       489434    79323P                   PINK CHERRY LIGHTS        12   \n",
       "2       489434    79323W                  WHITE CHERRY LIGHTS        12   \n",
       "3       489434     22041         RECORD FRAME 7\" SINGLE SIZE         48   \n",
       "4       489434     21232       STRAWBERRY CERAMIC TRINKET BOX        24   \n",
       "...        ...       ...                                  ...       ...   \n",
       "944463  575312     22083            PAPER CHAIN KIT RETROSPOT         6   \n",
       "944464  575312     23355           HOT WATER BOTTLE KEEP CALM         4   \n",
       "944465  575312     22110          BIRD HOUSE HOT WATER BOTTLE         6   \n",
       "944466  575312     22037                  ROBOT BIRTHDAY CARD        12   \n",
       "944467  575312     21790                   VINTAGE SNAP CARDS        12   \n",
       "\n",
       "                InvoiceDate  Price  Customer ID         Country  \n",
       "0       2009-12-01 07:45:00   6.95      13085.0  United Kingdom  \n",
       "1       2009-12-01 07:45:00   6.75      13085.0  United Kingdom  \n",
       "2       2009-12-01 07:45:00   6.75      13085.0  United Kingdom  \n",
       "3       2009-12-01 07:45:00   2.10      13085.0  United Kingdom  \n",
       "4       2009-12-01 07:45:00   1.25      13085.0  United Kingdom  \n",
       "...                     ...    ...          ...             ...  \n",
       "944463  2011-11-09 12:49:00   2.95      13588.0  United Kingdom  \n",
       "944464  2011-11-09 12:49:00   4.95      13588.0  United Kingdom  \n",
       "944465  2011-11-09 12:49:00   2.55      13588.0  United Kingdom  \n",
       "944466  2011-11-09 12:49:00   0.42      13588.0  United Kingdom  \n",
       "944467  2011-11-09 12:49:00   0.85      13588.0  United Kingdom  \n",
       "\n",
       "[944468 rows x 8 columns]"
      ]
     },
     "execution_count": 4,
     "metadata": {},
     "output_type": "execute_result"
    }
   ],
   "source": [
    "data"
   ]
  },
  {
   "cell_type": "code",
   "execution_count": 4,
   "metadata": {
    "_cell_guid": "415fc9bd-6cb7-4f68-a5dd-b54cd48bbd7f",
    "_uuid": "b477b83a-b5cf-41a9-bc20-f691fc388c0a",
    "collapsed": false,
    "execution": {
     "iopub.execute_input": "2024-11-06T17:50:24.839459Z",
     "iopub.status.busy": "2024-11-06T17:50:24.839008Z",
     "iopub.status.idle": "2024-11-06T17:50:24.859413Z",
     "shell.execute_reply": "2024-11-06T17:50:24.858353Z",
     "shell.execute_reply.started": "2024-11-06T17:50:24.839409Z"
    },
    "jupyter": {
     "outputs_hidden": false
    },
    "trusted": true
   },
   "outputs": [
    {
     "data": {
      "text/html": [
       "<div>\n",
       "<style scoped>\n",
       "    .dataframe tbody tr th:only-of-type {\n",
       "        vertical-align: middle;\n",
       "    }\n",
       "\n",
       "    .dataframe tbody tr th {\n",
       "        vertical-align: top;\n",
       "    }\n",
       "\n",
       "    .dataframe thead th {\n",
       "        text-align: right;\n",
       "    }\n",
       "</style>\n",
       "<table border=\"1\" class=\"dataframe\">\n",
       "  <thead>\n",
       "    <tr style=\"text-align: right;\">\n",
       "      <th></th>\n",
       "      <th>InvoiceNo</th>\n",
       "      <th>StockCode</th>\n",
       "      <th>Description</th>\n",
       "      <th>Quantity</th>\n",
       "      <th>InvoiceDate</th>\n",
       "      <th>UnitPrice</th>\n",
       "      <th>CustomerID</th>\n",
       "      <th>Country</th>\n",
       "    </tr>\n",
       "  </thead>\n",
       "  <tbody>\n",
       "    <tr>\n",
       "      <th>0</th>\n",
       "      <td>489434</td>\n",
       "      <td>85048</td>\n",
       "      <td>15CM CHRISTMAS GLASS BALL 20 LIGHTS</td>\n",
       "      <td>12</td>\n",
       "      <td>2009-12-01 07:45:00</td>\n",
       "      <td>6.95</td>\n",
       "      <td>13085.0</td>\n",
       "      <td>United Kingdom</td>\n",
       "    </tr>\n",
       "    <tr>\n",
       "      <th>1</th>\n",
       "      <td>489434</td>\n",
       "      <td>79323P</td>\n",
       "      <td>PINK CHERRY LIGHTS</td>\n",
       "      <td>12</td>\n",
       "      <td>2009-12-01 07:45:00</td>\n",
       "      <td>6.75</td>\n",
       "      <td>13085.0</td>\n",
       "      <td>United Kingdom</td>\n",
       "    </tr>\n",
       "    <tr>\n",
       "      <th>2</th>\n",
       "      <td>489434</td>\n",
       "      <td>79323W</td>\n",
       "      <td>WHITE CHERRY LIGHTS</td>\n",
       "      <td>12</td>\n",
       "      <td>2009-12-01 07:45:00</td>\n",
       "      <td>6.75</td>\n",
       "      <td>13085.0</td>\n",
       "      <td>United Kingdom</td>\n",
       "    </tr>\n",
       "    <tr>\n",
       "      <th>3</th>\n",
       "      <td>489434</td>\n",
       "      <td>22041</td>\n",
       "      <td>RECORD FRAME 7\" SINGLE SIZE</td>\n",
       "      <td>48</td>\n",
       "      <td>2009-12-01 07:45:00</td>\n",
       "      <td>2.10</td>\n",
       "      <td>13085.0</td>\n",
       "      <td>United Kingdom</td>\n",
       "    </tr>\n",
       "    <tr>\n",
       "      <th>4</th>\n",
       "      <td>489434</td>\n",
       "      <td>21232</td>\n",
       "      <td>STRAWBERRY CERAMIC TRINKET BOX</td>\n",
       "      <td>24</td>\n",
       "      <td>2009-12-01 07:45:00</td>\n",
       "      <td>1.25</td>\n",
       "      <td>13085.0</td>\n",
       "      <td>United Kingdom</td>\n",
       "    </tr>\n",
       "  </tbody>\n",
       "</table>\n",
       "</div>"
      ],
      "text/plain": [
       "  InvoiceNo StockCode                          Description  Quantity  \\\n",
       "0    489434     85048  15CM CHRISTMAS GLASS BALL 20 LIGHTS        12   \n",
       "1    489434    79323P                   PINK CHERRY LIGHTS        12   \n",
       "2    489434    79323W                  WHITE CHERRY LIGHTS        12   \n",
       "3    489434     22041         RECORD FRAME 7\" SINGLE SIZE         48   \n",
       "4    489434     21232       STRAWBERRY CERAMIC TRINKET BOX        24   \n",
       "\n",
       "           InvoiceDate  UnitPrice  CustomerID         Country  \n",
       "0  2009-12-01 07:45:00       6.95     13085.0  United Kingdom  \n",
       "1  2009-12-01 07:45:00       6.75     13085.0  United Kingdom  \n",
       "2  2009-12-01 07:45:00       6.75     13085.0  United Kingdom  \n",
       "3  2009-12-01 07:45:00       2.10     13085.0  United Kingdom  \n",
       "4  2009-12-01 07:45:00       1.25     13085.0  United Kingdom  "
      ]
     },
     "execution_count": 4,
     "metadata": {},
     "output_type": "execute_result"
    }
   ],
   "source": [
    "data.rename(columns={'Invoice':'InvoiceNo', 'Customer ID':'CustomerID', 'Price':'UnitPrice'}, inplace=True)\n",
    "data.head()"
   ]
  },
  {
   "cell_type": "code",
   "execution_count": 6,
   "metadata": {
    "_cell_guid": "1dd91c05-ce96-4c16-8e0c-8f65e33aada7",
    "_uuid": "ce009066-0303-44ee-a299-d4a4b2374a69",
    "collapsed": false,
    "execution": {
     "iopub.execute_input": "2024-11-06T17:50:24.861205Z",
     "iopub.status.busy": "2024-11-06T17:50:24.860861Z",
     "iopub.status.idle": "2024-11-06T17:50:25.127717Z",
     "shell.execute_reply": "2024-11-06T17:50:25.126559Z",
     "shell.execute_reply.started": "2024-11-06T17:50:24.861167Z"
    },
    "jupyter": {
     "outputs_hidden": false
    },
    "trusted": true
   },
   "outputs": [
    {
     "name": "stdout",
     "output_type": "stream",
     "text": [
      "<class 'pandas.core.frame.DataFrame'>\n",
      "RangeIndex: 944468 entries, 0 to 944467\n",
      "Data columns (total 8 columns):\n",
      " #   Column       Non-Null Count   Dtype  \n",
      "---  ------       --------------   -----  \n",
      " 0   InvoiceNo    944468 non-null  object \n",
      " 1   StockCode    944468 non-null  object \n",
      " 2   Description  940274 non-null  object \n",
      " 3   Quantity     944468 non-null  int64  \n",
      " 4   InvoiceDate  944468 non-null  object \n",
      " 5   UnitPrice    944468 non-null  float64\n",
      " 6   CustomerID   732567 non-null  float64\n",
      " 7   Country      944468 non-null  object \n",
      "dtypes: float64(2), int64(1), object(5)\n",
      "memory usage: 57.6+ MB\n"
     ]
    }
   ],
   "source": [
    "data.info()"
   ]
  },
  {
   "cell_type": "markdown",
   "metadata": {
    "_cell_guid": "28a2b3ee-8dc9-43a3-9d89-d08e5a4da283",
    "_uuid": "3dbc4807-ecce-4f2d-ba3d-9a44ca9bee84",
    "trusted": true
   },
   "source": [
    "we can see that the CustomerID and Description columns are likely to have missing values. Also we may want to change the data type of the objects in the InvoiceDate column to proper date objects with the to_datetime method."
   ]
  },
  {
   "cell_type": "markdown",
   "metadata": {
    "_cell_guid": "3a7d0642-e02c-402f-9c0f-002678c228ae",
    "_uuid": "37260fe4-1181-4cef-8071-56500f2ae29c",
    "trusted": true
   },
   "source": [
    "Let's count the number of missing values in each column of the dataframe."
   ]
  },
  {
   "cell_type": "code",
   "execution_count": 5,
   "metadata": {
    "_cell_guid": "820e9d28-2f20-4895-a581-03a3f0d100f5",
    "_uuid": "8a0c149a-78f0-4f99-ba6b-9c03171fb7ed",
    "collapsed": false,
    "execution": {
     "iopub.execute_input": "2024-11-06T17:50:25.130218Z",
     "iopub.status.busy": "2024-11-06T17:50:25.129263Z",
     "iopub.status.idle": "2024-11-06T17:50:25.404359Z",
     "shell.execute_reply": "2024-11-06T17:50:25.403333Z",
     "shell.execute_reply.started": "2024-11-06T17:50:25.130166Z"
    },
    "jupyter": {
     "outputs_hidden": false
    },
    "trusted": true
   },
   "outputs": [
    {
     "data": {
      "text/plain": [
       "InvoiceNo           0\n",
       "StockCode           0\n",
       "Description      4194\n",
       "Quantity            0\n",
       "InvoiceDate         0\n",
       "UnitPrice           0\n",
       "CustomerID     211901\n",
       "Country             0\n",
       "dtype: int64"
      ]
     },
     "execution_count": 5,
     "metadata": {},
     "output_type": "execute_result"
    }
   ],
   "source": [
    "data.isnull().sum()"
   ]
  },
  {
   "cell_type": "markdown",
   "metadata": {
    "_cell_guid": "d8ee700e-9c07-4686-977c-63602c021331",
    "_uuid": "46abe6b1-b729-46d3-a9e2-a92bf4c38181",
    "trusted": true
   },
   "source": [
    "As predicted, the columns CustomerID and Description have 211901 and 4194 missing data respectively."
   ]
  },
  {
   "cell_type": "code",
   "execution_count": 8,
   "metadata": {
    "_cell_guid": "a40b7db7-c523-4111-9efd-57b7d92f1b47",
    "_uuid": "a58d7a99-2127-48a5-99bd-e4b5f15a1093",
    "collapsed": false,
    "execution": {
     "iopub.execute_input": "2024-11-06T17:50:25.405840Z",
     "iopub.status.busy": "2024-11-06T17:50:25.405594Z",
     "iopub.status.idle": "2024-11-06T17:50:25.650177Z",
     "shell.execute_reply": "2024-11-06T17:50:25.649161Z",
     "shell.execute_reply.started": "2024-11-06T17:50:25.405810Z"
    },
    "jupyter": {
     "outputs_hidden": false
    },
    "trusted": true
   },
   "outputs": [
    {
     "data": {
      "text/plain": [
       "22.44"
      ]
     },
     "execution_count": 8,
     "metadata": {},
     "output_type": "execute_result"
    }
   ],
   "source": [
    "np.round(data.isnull().sum()[\"CustomerID\"]/data.InvoiceNo.shape[0] * 100, 2)"
   ]
  },
  {
   "cell_type": "markdown",
   "metadata": {
    "_cell_guid": "af350146-4f63-41e6-a41f-0055f845c253",
    "_uuid": "f6898504-ea0c-4778-8724-2953ecdc1f5a",
    "trusted": true
   },
   "source": [
    "The missing data in the CustomerID column represents 22.44% of the entire online customers."
   ]
  },
  {
   "cell_type": "markdown",
   "metadata": {
    "_cell_guid": "99161daf-a61c-43cf-83a6-c5b5a223c5e1",
    "_uuid": "59063df2-644e-4e49-adcf-5d6f8d044598",
    "trusted": true
   },
   "source": [
    "How do we deal with these missing data?  \n",
    "\n",
    "The item that has a missing CustomerID should be deleted. One can achieve this with the dropna method."
   ]
  },
  {
   "cell_type": "code",
   "execution_count": 6,
   "metadata": {
    "_cell_guid": "70984a5f-b638-44b4-af68-453ad3dfad64",
    "_uuid": "2a5133b5-eff0-4570-9cf5-1a02a3755982",
    "collapsed": false,
    "execution": {
     "iopub.execute_input": "2024-11-06T17:50:25.651895Z",
     "iopub.status.busy": "2024-11-06T17:50:25.651559Z",
     "iopub.status.idle": "2024-11-06T17:50:26.192047Z",
     "shell.execute_reply": "2024-11-06T17:50:26.191007Z",
     "shell.execute_reply.started": "2024-11-06T17:50:25.651848Z"
    },
    "jupyter": {
     "outputs_hidden": false
    },
    "trusted": true
   },
   "outputs": [
    {
     "name": "stdout",
     "output_type": "stream",
     "text": [
      "<class 'pandas.core.frame.DataFrame'>\n",
      "Index: 732567 entries, 0 to 944467\n",
      "Data columns (total 8 columns):\n",
      " #   Column       Non-Null Count   Dtype  \n",
      "---  ------       --------------   -----  \n",
      " 0   InvoiceNo    732567 non-null  object \n",
      " 1   StockCode    732567 non-null  object \n",
      " 2   Description  732567 non-null  object \n",
      " 3   Quantity     732567 non-null  int64  \n",
      " 4   InvoiceDate  732567 non-null  object \n",
      " 5   UnitPrice    732567 non-null  float64\n",
      " 6   CustomerID   732567 non-null  float64\n",
      " 7   Country      732567 non-null  object \n",
      "dtypes: float64(2), int64(1), object(5)\n",
      "memory usage: 50.3+ MB\n"
     ]
    }
   ],
   "source": [
    "df_data = data.dropna()\n",
    "df_data.info()"
   ]
  },
  {
   "cell_type": "markdown",
   "metadata": {
    "_cell_guid": "8e3ef327-5186-4ff8-87b1-0be39a73e0e0",
    "_uuid": "72191872-b44e-4a2e-9ee1-306e36934fa6",
    "trusted": true
   },
   "source": [
    "Next, we update the dataframe df_data by converting the date field, InvoiceDate to datetime object. One can use the to_datetime method to achieve this."
   ]
  },
  {
   "cell_type": "code",
   "execution_count": 7,
   "metadata": {
    "_cell_guid": "38bcd69d-9dbe-4994-9a64-fd294c51954b",
    "_uuid": "ecc5c95d-64d5-46dd-9b88-2948437da97a",
    "collapsed": false,
    "execution": {
     "iopub.execute_input": "2024-11-06T17:50:26.194945Z",
     "iopub.status.busy": "2024-11-06T17:50:26.194641Z",
     "iopub.status.idle": "2024-11-06T17:50:26.403912Z",
     "shell.execute_reply": "2024-11-06T17:50:26.402870Z",
     "shell.execute_reply.started": "2024-11-06T17:50:26.194908Z"
    },
    "jupyter": {
     "outputs_hidden": false
    },
    "trusted": true
   },
   "outputs": [
    {
     "data": {
      "text/html": [
       "<div>\n",
       "<style scoped>\n",
       "    .dataframe tbody tr th:only-of-type {\n",
       "        vertical-align: middle;\n",
       "    }\n",
       "\n",
       "    .dataframe tbody tr th {\n",
       "        vertical-align: top;\n",
       "    }\n",
       "\n",
       "    .dataframe thead th {\n",
       "        text-align: right;\n",
       "    }\n",
       "</style>\n",
       "<table border=\"1\" class=\"dataframe\">\n",
       "  <thead>\n",
       "    <tr style=\"text-align: right;\">\n",
       "      <th></th>\n",
       "      <th>InvoiceNo</th>\n",
       "      <th>StockCode</th>\n",
       "      <th>Description</th>\n",
       "      <th>Quantity</th>\n",
       "      <th>InvoiceDate</th>\n",
       "      <th>UnitPrice</th>\n",
       "      <th>CustomerID</th>\n",
       "      <th>Country</th>\n",
       "    </tr>\n",
       "  </thead>\n",
       "  <tbody>\n",
       "    <tr>\n",
       "      <th>0</th>\n",
       "      <td>489434</td>\n",
       "      <td>85048</td>\n",
       "      <td>15CM CHRISTMAS GLASS BALL 20 LIGHTS</td>\n",
       "      <td>12</td>\n",
       "      <td>2009-12-01 07:45:00</td>\n",
       "      <td>6.95</td>\n",
       "      <td>13085.0</td>\n",
       "      <td>United Kingdom</td>\n",
       "    </tr>\n",
       "    <tr>\n",
       "      <th>1</th>\n",
       "      <td>489434</td>\n",
       "      <td>79323P</td>\n",
       "      <td>PINK CHERRY LIGHTS</td>\n",
       "      <td>12</td>\n",
       "      <td>2009-12-01 07:45:00</td>\n",
       "      <td>6.75</td>\n",
       "      <td>13085.0</td>\n",
       "      <td>United Kingdom</td>\n",
       "    </tr>\n",
       "    <tr>\n",
       "      <th>2</th>\n",
       "      <td>489434</td>\n",
       "      <td>79323W</td>\n",
       "      <td>WHITE CHERRY LIGHTS</td>\n",
       "      <td>12</td>\n",
       "      <td>2009-12-01 07:45:00</td>\n",
       "      <td>6.75</td>\n",
       "      <td>13085.0</td>\n",
       "      <td>United Kingdom</td>\n",
       "    </tr>\n",
       "    <tr>\n",
       "      <th>3</th>\n",
       "      <td>489434</td>\n",
       "      <td>22041</td>\n",
       "      <td>RECORD FRAME 7\" SINGLE SIZE</td>\n",
       "      <td>48</td>\n",
       "      <td>2009-12-01 07:45:00</td>\n",
       "      <td>2.10</td>\n",
       "      <td>13085.0</td>\n",
       "      <td>United Kingdom</td>\n",
       "    </tr>\n",
       "    <tr>\n",
       "      <th>4</th>\n",
       "      <td>489434</td>\n",
       "      <td>21232</td>\n",
       "      <td>STRAWBERRY CERAMIC TRINKET BOX</td>\n",
       "      <td>24</td>\n",
       "      <td>2009-12-01 07:45:00</td>\n",
       "      <td>1.25</td>\n",
       "      <td>13085.0</td>\n",
       "      <td>United Kingdom</td>\n",
       "    </tr>\n",
       "  </tbody>\n",
       "</table>\n",
       "</div>"
      ],
      "text/plain": [
       "  InvoiceNo StockCode                          Description  Quantity  \\\n",
       "0    489434     85048  15CM CHRISTMAS GLASS BALL 20 LIGHTS        12   \n",
       "1    489434    79323P                   PINK CHERRY LIGHTS        12   \n",
       "2    489434    79323W                  WHITE CHERRY LIGHTS        12   \n",
       "3    489434     22041         RECORD FRAME 7\" SINGLE SIZE         48   \n",
       "4    489434     21232       STRAWBERRY CERAMIC TRINKET BOX        24   \n",
       "\n",
       "          InvoiceDate  UnitPrice  CustomerID         Country  \n",
       "0 2009-12-01 07:45:00       6.95     13085.0  United Kingdom  \n",
       "1 2009-12-01 07:45:00       6.75     13085.0  United Kingdom  \n",
       "2 2009-12-01 07:45:00       6.75     13085.0  United Kingdom  \n",
       "3 2009-12-01 07:45:00       2.10     13085.0  United Kingdom  \n",
       "4 2009-12-01 07:45:00       1.25     13085.0  United Kingdom  "
      ]
     },
     "execution_count": 7,
     "metadata": {},
     "output_type": "execute_result"
    }
   ],
   "source": [
    "df_data.InvoiceDate = pd.to_datetime(df_data.InvoiceDate)\n",
    "df_data.head()"
   ]
  },
  {
   "cell_type": "code",
   "execution_count": 11,
   "metadata": {
    "_cell_guid": "5cc9330a-4c67-4ae5-b498-f0d682ce0e82",
    "_uuid": "aa3ea3d9-91ee-4be0-87e2-b846e7b5d61b",
    "collapsed": false,
    "execution": {
     "iopub.execute_input": "2024-11-06T17:50:26.405476Z",
     "iopub.status.busy": "2024-11-06T17:50:26.405216Z",
     "iopub.status.idle": "2024-11-06T17:50:26.527642Z",
     "shell.execute_reply": "2024-11-06T17:50:26.526617Z",
     "shell.execute_reply.started": "2024-11-06T17:50:26.405445Z"
    },
    "jupyter": {
     "outputs_hidden": false
    },
    "trusted": true
   },
   "outputs": [
    {
     "data": {
      "text/html": [
       "<div>\n",
       "<style scoped>\n",
       "    .dataframe tbody tr th:only-of-type {\n",
       "        vertical-align: middle;\n",
       "    }\n",
       "\n",
       "    .dataframe tbody tr th {\n",
       "        vertical-align: top;\n",
       "    }\n",
       "\n",
       "    .dataframe thead th {\n",
       "        text-align: right;\n",
       "    }\n",
       "</style>\n",
       "<table border=\"1\" class=\"dataframe\">\n",
       "  <thead>\n",
       "    <tr style=\"text-align: right;\">\n",
       "      <th></th>\n",
       "      <th>Quantity</th>\n",
       "      <th>UnitPrice</th>\n",
       "      <th>CustomerID</th>\n",
       "    </tr>\n",
       "  </thead>\n",
       "  <tbody>\n",
       "    <tr>\n",
       "      <th>count</th>\n",
       "      <td>944468.000000</td>\n",
       "      <td>944468.000000</td>\n",
       "      <td>732567.000000</td>\n",
       "    </tr>\n",
       "    <tr>\n",
       "      <th>mean</th>\n",
       "      <td>10.220727</td>\n",
       "      <td>4.649261</td>\n",
       "      <td>15313.607487</td>\n",
       "    </tr>\n",
       "    <tr>\n",
       "      <th>std</th>\n",
       "      <td>139.363557</td>\n",
       "      <td>125.813579</td>\n",
       "      <td>1694.646055</td>\n",
       "    </tr>\n",
       "    <tr>\n",
       "      <th>min</th>\n",
       "      <td>-74215.000000</td>\n",
       "      <td>-53594.360000</td>\n",
       "      <td>12346.000000</td>\n",
       "    </tr>\n",
       "    <tr>\n",
       "      <th>25%</th>\n",
       "      <td>1.000000</td>\n",
       "      <td>1.250000</td>\n",
       "      <td>13952.000000</td>\n",
       "    </tr>\n",
       "    <tr>\n",
       "      <th>50%</th>\n",
       "      <td>3.000000</td>\n",
       "      <td>2.100000</td>\n",
       "      <td>15242.000000</td>\n",
       "    </tr>\n",
       "    <tr>\n",
       "      <th>75%</th>\n",
       "      <td>11.000000</td>\n",
       "      <td>4.150000</td>\n",
       "      <td>16784.000000</td>\n",
       "    </tr>\n",
       "    <tr>\n",
       "      <th>max</th>\n",
       "      <td>74215.000000</td>\n",
       "      <td>38970.000000</td>\n",
       "      <td>18287.000000</td>\n",
       "    </tr>\n",
       "  </tbody>\n",
       "</table>\n",
       "</div>"
      ],
      "text/plain": [
       "            Quantity      UnitPrice     CustomerID\n",
       "count  944468.000000  944468.000000  732567.000000\n",
       "mean       10.220727       4.649261   15313.607487\n",
       "std       139.363557     125.813579    1694.646055\n",
       "min    -74215.000000  -53594.360000   12346.000000\n",
       "25%         1.000000       1.250000   13952.000000\n",
       "50%         3.000000       2.100000   15242.000000\n",
       "75%        11.000000       4.150000   16784.000000\n",
       "max     74215.000000   38970.000000   18287.000000"
      ]
     },
     "execution_count": 11,
     "metadata": {},
     "output_type": "execute_result"
    }
   ],
   "source": [
    "data.describe()"
   ]
  },
  {
   "cell_type": "markdown",
   "metadata": {
    "_cell_guid": "3ad2c132-c35d-4e35-a411-2bdbd954aff3",
    "_uuid": "8ad71262-86e8-419b-bd81-c6011d9252e8",
    "trusted": true
   },
   "source": [
    "### 1. How many online customers are there in the dataset and what is their country of origin?"
   ]
  },
  {
   "cell_type": "code",
   "execution_count": 12,
   "metadata": {
    "_cell_guid": "9434920a-a78a-4ec9-8959-e8211405633e",
    "_uuid": "53c7c88e-cdf5-4031-b6e7-937637a89513",
    "collapsed": false,
    "execution": {
     "iopub.execute_input": "2024-11-06T17:50:26.529208Z",
     "iopub.status.busy": "2024-11-06T17:50:26.528926Z",
     "iopub.status.idle": "2024-11-06T17:50:26.602440Z",
     "shell.execute_reply": "2024-11-06T17:50:26.601433Z",
     "shell.execute_reply.started": "2024-11-06T17:50:26.529175Z"
    },
    "jupyter": {
     "outputs_hidden": false
    },
    "trusted": true
   },
   "outputs": [
    {
     "name": "stdout",
     "output_type": "stream",
     "text": [
      "From the dataset, the online retail shop has 5780 customers from 41 different countries.\n"
     ]
    }
   ],
   "source": [
    "print('From the dataset, the online retail shop has {} customers \\\n",
    "from {} different countries.'.format(len(df_data.CustomerID.unique()), len(df_data.Country.unique())))"
   ]
  },
  {
   "cell_type": "markdown",
   "metadata": {
    "_cell_guid": "3fb8c3d4-3920-44e2-8e32-6960667d47f2",
    "_uuid": "08b0ede9-490f-4ca6-a136-7b57c96773c2",
    "trusted": true
   },
   "source": [
    "### 2. What are the countries that are most represented in the dataset?"
   ]
  },
  {
   "cell_type": "code",
   "execution_count": 8,
   "metadata": {
    "_cell_guid": "1537c99b-9cc7-4093-b7b5-ebfeb66a4aed",
    "_uuid": "22fd0f74-3e85-4b15-be12-24354833e9d6",
    "collapsed": false,
    "execution": {
     "iopub.execute_input": "2024-11-06T17:50:26.604590Z",
     "iopub.status.busy": "2024-11-06T17:50:26.604322Z",
     "iopub.status.idle": "2024-11-06T17:50:26.930395Z",
     "shell.execute_reply": "2024-11-06T17:50:26.929175Z",
     "shell.execute_reply.started": "2024-11-06T17:50:26.604557Z"
    },
    "jupyter": {
     "outputs_hidden": false
    },
    "trusted": true
   },
   "outputs": [
    {
     "data": {
      "text/html": [
       "<div>\n",
       "<style scoped>\n",
       "    .dataframe tbody tr th:only-of-type {\n",
       "        vertical-align: middle;\n",
       "    }\n",
       "\n",
       "    .dataframe tbody tr th {\n",
       "        vertical-align: top;\n",
       "    }\n",
       "\n",
       "    .dataframe thead th {\n",
       "        text-align: right;\n",
       "    }\n",
       "</style>\n",
       "<table border=\"1\" class=\"dataframe\">\n",
       "  <thead>\n",
       "    <tr style=\"text-align: right;\">\n",
       "      <th></th>\n",
       "      <th>Country</th>\n",
       "      <th>CustomerID</th>\n",
       "      <th>Percentage</th>\n",
       "    </tr>\n",
       "  </thead>\n",
       "  <tbody>\n",
       "    <tr>\n",
       "      <th>38</th>\n",
       "      <td>United Kingdom</td>\n",
       "      <td>5268</td>\n",
       "      <td>90.94</td>\n",
       "    </tr>\n",
       "    <tr>\n",
       "      <th>14</th>\n",
       "      <td>Germany</td>\n",
       "      <td>102</td>\n",
       "      <td>1.76</td>\n",
       "    </tr>\n",
       "    <tr>\n",
       "      <th>13</th>\n",
       "      <td>France</td>\n",
       "      <td>89</td>\n",
       "      <td>1.54</td>\n",
       "    </tr>\n",
       "    <tr>\n",
       "      <th>32</th>\n",
       "      <td>Spain</td>\n",
       "      <td>40</td>\n",
       "      <td>0.69</td>\n",
       "    </tr>\n",
       "    <tr>\n",
       "      <th>3</th>\n",
       "      <td>Belgium</td>\n",
       "      <td>29</td>\n",
       "      <td>0.50</td>\n",
       "    </tr>\n",
       "    <tr>\n",
       "      <th>24</th>\n",
       "      <td>Netherlands</td>\n",
       "      <td>23</td>\n",
       "      <td>0.40</td>\n",
       "    </tr>\n",
       "    <tr>\n",
       "      <th>28</th>\n",
       "      <td>Portugal</td>\n",
       "      <td>22</td>\n",
       "      <td>0.38</td>\n",
       "    </tr>\n",
       "    <tr>\n",
       "      <th>34</th>\n",
       "      <td>Switzerland</td>\n",
       "      <td>21</td>\n",
       "      <td>0.36</td>\n",
       "    </tr>\n",
       "    <tr>\n",
       "      <th>33</th>\n",
       "      <td>Sweden</td>\n",
       "      <td>19</td>\n",
       "      <td>0.33</td>\n",
       "    </tr>\n",
       "    <tr>\n",
       "      <th>18</th>\n",
       "      <td>Italy</td>\n",
       "      <td>16</td>\n",
       "      <td>0.28</td>\n",
       "    </tr>\n",
       "  </tbody>\n",
       "</table>\n",
       "</div>"
      ],
      "text/plain": [
       "           Country  CustomerID  Percentage\n",
       "38  United Kingdom        5268       90.94\n",
       "14         Germany         102        1.76\n",
       "13          France          89        1.54\n",
       "32           Spain          40        0.69\n",
       "3          Belgium          29        0.50\n",
       "24     Netherlands          23        0.40\n",
       "28        Portugal          22        0.38\n",
       "34     Switzerland          21        0.36\n",
       "33          Sweden          19        0.33\n",
       "18           Italy          16        0.28"
      ]
     },
     "execution_count": 8,
     "metadata": {},
     "output_type": "execute_result"
    }
   ],
   "source": [
    "ctm_cntry_df = df_data.groupby(['CustomerID', 'Country']).count().reset_index()\n",
    "\n",
    "ctm_cntry_df = ctm_cntry_df.groupby('Country')['CustomerID'].count().reset_index().sort_values(\n",
    "    by=['CustomerID'], ascending=False)\n",
    "\n",
    "# Create a new column, Percentage to calculate the customer representation in percentage\n",
    "ctm_cntry_df['Percentage']= np.round(ctm_cntry_df.CustomerID / ctm_cntry_df.CustomerID.sum() * 100, 2)\n",
    "\n",
    "ctm_cntry_df.head(10)"
   ]
  },
  {
   "cell_type": "markdown",
   "metadata": {
    "_cell_guid": "01bf314a-5c7f-4d59-b186-81c463ff8833",
    "_uuid": "354fa2ab-8613-421c-9e2b-4566a2ff47f3",
    "trusted": true
   },
   "source": [
    "The output above, shows the top  countries of that purchase from the online retail shop with the United Kingdom being the country with the highest customers. They represent about **90.94%** of the entire online customers."
   ]
  },
  {
   "cell_type": "code",
   "execution_count": 9,
   "metadata": {
    "_cell_guid": "0b691f57-07ee-4cd3-8be7-92e4f3ac72e1",
    "_uuid": "76e1a0df-568b-4928-b8a2-6485b228f0b5",
    "collapsed": false,
    "execution": {
     "iopub.execute_input": "2024-11-06T17:50:26.931930Z",
     "iopub.status.busy": "2024-11-06T17:50:26.931663Z",
     "iopub.status.idle": "2024-11-06T17:50:35.597064Z",
     "shell.execute_reply": "2024-11-06T17:50:35.596107Z",
     "shell.execute_reply.started": "2024-11-06T17:50:26.931895Z"
    },
    "jupyter": {
     "outputs_hidden": false
    },
    "trusted": true
   },
   "outputs": [
    {
     "data": {
      "text/html": [
       "<div>\n",
       "<style scoped>\n",
       "    .dataframe tbody tr th:only-of-type {\n",
       "        vertical-align: middle;\n",
       "    }\n",
       "\n",
       "    .dataframe tbody tr th {\n",
       "        vertical-align: top;\n",
       "    }\n",
       "\n",
       "    .dataframe thead th {\n",
       "        text-align: right;\n",
       "    }\n",
       "</style>\n",
       "<table border=\"1\" class=\"dataframe\">\n",
       "  <thead>\n",
       "    <tr style=\"text-align: right;\">\n",
       "      <th></th>\n",
       "      <th>12417.0</th>\n",
       "      <th>12455.0</th>\n",
       "      <th>12422.0</th>\n",
       "      <th>12431.0</th>\n",
       "      <th>12745.0</th>\n",
       "      <th>12370.0</th>\n",
       "      <th>12429.0</th>\n",
       "      <th>12423.0</th>\n",
       "      <th>12449.0</th>\n",
       "      <th>12457.0</th>\n",
       "      <th>12652.0</th>\n",
       "      <th>12413.0</th>\n",
       "      <th>12394.0</th>\n",
       "    </tr>\n",
       "  </thead>\n",
       "  <tbody>\n",
       "    <tr>\n",
       "      <th>0</th>\n",
       "      <td>Belgium</td>\n",
       "      <td>Cyprus</td>\n",
       "      <td>Australia</td>\n",
       "      <td>Belgium</td>\n",
       "      <td>EIRE</td>\n",
       "      <td>Austria</td>\n",
       "      <td>Denmark</td>\n",
       "      <td>Denmark</td>\n",
       "      <td>Denmark</td>\n",
       "      <td>Switzerland</td>\n",
       "      <td>Germany</td>\n",
       "      <td>Spain</td>\n",
       "      <td>Belgium</td>\n",
       "    </tr>\n",
       "    <tr>\n",
       "      <th>1</th>\n",
       "      <td>Spain</td>\n",
       "      <td>Spain</td>\n",
       "      <td>Switzerland</td>\n",
       "      <td>Australia</td>\n",
       "      <td>United Kingdom</td>\n",
       "      <td>Cyprus</td>\n",
       "      <td>Austria</td>\n",
       "      <td>Belgium</td>\n",
       "      <td>Belgium</td>\n",
       "      <td>Cyprus</td>\n",
       "      <td>France</td>\n",
       "      <td>France</td>\n",
       "      <td>Denmark</td>\n",
       "    </tr>\n",
       "  </tbody>\n",
       "</table>\n",
       "</div>"
      ],
      "text/plain": [
       "   12417.0 12455.0      12422.0    12431.0         12745.0  12370.0  12429.0  \\\n",
       "0  Belgium  Cyprus    Australia    Belgium            EIRE  Austria  Denmark   \n",
       "1    Spain   Spain  Switzerland  Australia  United Kingdom   Cyprus  Austria   \n",
       "\n",
       "   12423.0  12449.0      12457.0  12652.0 12413.0  12394.0  \n",
       "0  Denmark  Denmark  Switzerland  Germany   Spain  Belgium  \n",
       "1  Belgium  Belgium       Cyprus   France  France  Denmark  "
      ]
     },
     "execution_count": 9,
     "metadata": {},
     "output_type": "execute_result"
    }
   ],
   "source": [
    "# Initialise a dict object. This is supposed to collect all customers who indicated more than 1 country\n",
    "ctm_2_cntry = {} \n",
    "\n",
    "# for each index and customer id\n",
    "for idx, cid in enumerate(df_data.CustomerID.unique()):\n",
    "    \n",
    "    # Get the country that the customer resides\n",
    "    cntry = df_data[df_data.CustomerID == cid].Country.unique()\n",
    "    \n",
    "    # if customer has lived in more than 1 country\n",
    "    if len(cntry) > 1: \n",
    "        \n",
    "        # Update the ctm_2_cntry\n",
    "        ctm_2_cntry[cid] = cntry\n",
    "\n",
    "pd.DataFrame(ctm_2_cntry) # Create a pandas dataframe using ctm_2_cntry"
   ]
  },
  {
   "cell_type": "code",
   "execution_count": 10,
   "metadata": {
    "_cell_guid": "3bd3bae7-82b9-4a19-b47b-3354331878e0",
    "_uuid": "66779233-2542-4655-a8d5-7c7ceb0ab866",
    "collapsed": false,
    "execution": {
     "iopub.execute_input": "2024-11-06T17:50:35.599289Z",
     "iopub.status.busy": "2024-11-06T17:50:35.598902Z",
     "iopub.status.idle": "2024-11-06T17:50:35.617143Z",
     "shell.execute_reply": "2024-11-06T17:50:35.616181Z",
     "shell.execute_reply.started": "2024-11-06T17:50:35.599249Z"
    },
    "jupyter": {
     "outputs_hidden": false
    },
    "trusted": true
   },
   "outputs": [
    {
     "data": {
      "text/html": [
       "<div>\n",
       "<style scoped>\n",
       "    .dataframe tbody tr th:only-of-type {\n",
       "        vertical-align: middle;\n",
       "    }\n",
       "\n",
       "    .dataframe tbody tr th {\n",
       "        vertical-align: top;\n",
       "    }\n",
       "\n",
       "    .dataframe thead th {\n",
       "        text-align: right;\n",
       "    }\n",
       "</style>\n",
       "<table border=\"1\" class=\"dataframe\">\n",
       "  <thead>\n",
       "    <tr style=\"text-align: right;\">\n",
       "      <th></th>\n",
       "      <th>Country</th>\n",
       "      <th>CustomerID</th>\n",
       "      <th>Percentage</th>\n",
       "      <th>CountryCategory</th>\n",
       "    </tr>\n",
       "  </thead>\n",
       "  <tbody>\n",
       "    <tr>\n",
       "      <th>38</th>\n",
       "      <td>United Kingdom</td>\n",
       "      <td>5268</td>\n",
       "      <td>90.94</td>\n",
       "      <td>United Kingdom</td>\n",
       "    </tr>\n",
       "    <tr>\n",
       "      <th>14</th>\n",
       "      <td>Germany</td>\n",
       "      <td>102</td>\n",
       "      <td>1.76</td>\n",
       "      <td>Germany</td>\n",
       "    </tr>\n",
       "    <tr>\n",
       "      <th>13</th>\n",
       "      <td>France</td>\n",
       "      <td>89</td>\n",
       "      <td>1.54</td>\n",
       "      <td>France</td>\n",
       "    </tr>\n",
       "    <tr>\n",
       "      <th>32</th>\n",
       "      <td>Spain</td>\n",
       "      <td>40</td>\n",
       "      <td>0.69</td>\n",
       "      <td>Spain</td>\n",
       "    </tr>\n",
       "    <tr>\n",
       "      <th>3</th>\n",
       "      <td>Belgium</td>\n",
       "      <td>29</td>\n",
       "      <td>0.50</td>\n",
       "      <td>Belgium</td>\n",
       "    </tr>\n",
       "    <tr>\n",
       "      <th>24</th>\n",
       "      <td>Netherlands</td>\n",
       "      <td>23</td>\n",
       "      <td>0.40</td>\n",
       "      <td>Netherlands</td>\n",
       "    </tr>\n",
       "    <tr>\n",
       "      <th>28</th>\n",
       "      <td>Portugal</td>\n",
       "      <td>22</td>\n",
       "      <td>0.38</td>\n",
       "      <td>Portugal</td>\n",
       "    </tr>\n",
       "    <tr>\n",
       "      <th>34</th>\n",
       "      <td>Switzerland</td>\n",
       "      <td>21</td>\n",
       "      <td>0.36</td>\n",
       "      <td>Switzerland</td>\n",
       "    </tr>\n",
       "    <tr>\n",
       "      <th>33</th>\n",
       "      <td>Sweden</td>\n",
       "      <td>19</td>\n",
       "      <td>0.33</td>\n",
       "      <td>Sweden</td>\n",
       "    </tr>\n",
       "    <tr>\n",
       "      <th>18</th>\n",
       "      <td>Italy</td>\n",
       "      <td>16</td>\n",
       "      <td>0.28</td>\n",
       "      <td>Italy</td>\n",
       "    </tr>\n",
       "    <tr>\n",
       "      <th>0</th>\n",
       "      <td>Australia</td>\n",
       "      <td>15</td>\n",
       "      <td>0.26</td>\n",
       "      <td>Australia</td>\n",
       "    </tr>\n",
       "  </tbody>\n",
       "</table>\n",
       "</div>"
      ],
      "text/plain": [
       "           Country  CustomerID  Percentage CountryCategory\n",
       "38  United Kingdom        5268       90.94  United Kingdom\n",
       "14         Germany         102        1.76         Germany\n",
       "13          France          89        1.54          France\n",
       "32           Spain          40        0.69           Spain\n",
       "3          Belgium          29        0.50         Belgium\n",
       "24     Netherlands          23        0.40     Netherlands\n",
       "28        Portugal          22        0.38        Portugal\n",
       "34     Switzerland          21        0.36     Switzerland\n",
       "33          Sweden          19        0.33          Sweden\n",
       "18           Italy          16        0.28           Italy\n",
       "0        Australia          15        0.26       Australia"
      ]
     },
     "execution_count": 10,
     "metadata": {},
     "output_type": "execute_result"
    }
   ],
   "source": [
    "percent_margin = 0.25\n",
    "\n",
    "# Create a new column, CountryCategory and set values to the corresponding values of the Country column\n",
    "ctm_cntry_df['CountryCategory'] = ctm_cntry_df.Country\n",
    "\n",
    "# Set Countries with Percentage less than or equal to percent_margin to 'Other Countries'\n",
    "\n",
    "ctm_cntry_df.loc[ctm_cntry_df.Percentage <= percent_margin, 'CountryCategory'] = 'Other Countries'\n",
    "\n",
    "ctm_cntry_df.head(11)"
   ]
  },
  {
   "cell_type": "code",
   "execution_count": 16,
   "metadata": {
    "_cell_guid": "27cf93f1-9926-4f05-860f-7f81a130264a",
    "_uuid": "133a0f60-0aca-4058-a5f5-7a14b4224640",
    "collapsed": false,
    "execution": {
     "iopub.execute_input": "2024-11-06T17:50:35.618811Z",
     "iopub.status.busy": "2024-11-06T17:50:35.618521Z",
     "iopub.status.idle": "2024-11-06T17:50:35.822098Z",
     "shell.execute_reply": "2024-11-06T17:50:35.820976Z",
     "shell.execute_reply.started": "2024-11-06T17:50:35.618774Z"
    },
    "jupyter": {
     "outputs_hidden": false
    },
    "trusted": true
   },
   "outputs": [
    {
     "data": {
      "text/html": [
       "        <script type=\"text/javascript\">\n",
       "        window.PlotlyConfig = {MathJaxConfig: 'local'};\n",
       "        if (window.MathJax) {MathJax.Hub.Config({SVG: {font: \"STIX-Web\"}});}\n",
       "        if (typeof require !== 'undefined') {\n",
       "        require.undef(\"plotly\");\n",
       "        requirejs.config({\n",
       "            paths: {\n",
       "                'plotly': ['https://cdn.plot.ly/plotly-2.9.0.min']\n",
       "            }\n",
       "        });\n",
       "        require(['plotly'], function(Plotly) {\n",
       "            window._Plotly = Plotly;\n",
       "        });\n",
       "        }\n",
       "        </script>\n",
       "        "
      ]
     },
     "metadata": {},
     "output_type": "display_data"
    },
    {
     "data": {
      "text/html": [
       "<div>                            <div id=\"c2ce5010-58b6-4382-8a9a-f23d1b6926c0\" class=\"plotly-graph-div\" style=\"height:525px; width:100%;\"></div>            <script type=\"text/javascript\">                require([\"plotly\"], function(Plotly) {                    window.PLOTLYENV=window.PLOTLYENV || {};                                    if (document.getElementById(\"c2ce5010-58b6-4382-8a9a-f23d1b6926c0\")) {                    Plotly.newPlot(                        \"c2ce5010-58b6-4382-8a9a-f23d1b6926c0\",                        [{\"domain\":{\"x\":[0.0,1.0],\"y\":[0.0,1.0]},\"hovertemplate\":\"CountryCategory=%{label}<br>Percentage=%{value}<extra></extra>\",\"labels\":[\"United Kingdom\",\"Germany\",\"France\",\"Spain\",\"Belgium\",\"Netherlands\",\"Portugal\",\"Switzerland\",\"Sweden\",\"Italy\",\"Australia\",\"Other Countries\",\"Other Countries\",\"Other Countries\",\"Other Countries\",\"Other Countries\",\"Other Countries\",\"Other Countries\",\"Other Countries\",\"Other Countries\",\"Other Countries\",\"Other Countries\",\"Other Countries\",\"Other Countries\",\"Other Countries\",\"Other Countries\",\"Other Countries\",\"Other Countries\",\"Other Countries\",\"Other Countries\",\"Other Countries\",\"Other Countries\",\"Other Countries\",\"Other Countries\",\"Other Countries\",\"Other Countries\",\"Other Countries\",\"Other Countries\",\"Other Countries\",\"Other Countries\",\"Other Countries\"],\"legendgroup\":\"\",\"name\":\"\",\"showlegend\":true,\"values\":[90.94,1.76,1.54,0.69,0.5,0.4,0.38,0.36,0.33,0.28,0.26,0.24,0.24,0.22,0.22,0.19,0.19,0.17,0.14,0.12,0.1,0.09,0.09,0.07,0.07,0.07,0.03,0.03,0.03,0.03,0.03,0.02,0.02,0.02,0.02,0.02,0.02,0.02,0.02,0.02,0.02],\"type\":\"pie\"}],                        {\"template\":{\"data\":{\"bar\":[{\"error_x\":{\"color\":\"#2a3f5f\"},\"error_y\":{\"color\":\"#2a3f5f\"},\"marker\":{\"line\":{\"color\":\"#E5ECF6\",\"width\":0.5},\"pattern\":{\"fillmode\":\"overlay\",\"size\":10,\"solidity\":0.2}},\"type\":\"bar\"}],\"barpolar\":[{\"marker\":{\"line\":{\"color\":\"#E5ECF6\",\"width\":0.5},\"pattern\":{\"fillmode\":\"overlay\",\"size\":10,\"solidity\":0.2}},\"type\":\"barpolar\"}],\"carpet\":[{\"aaxis\":{\"endlinecolor\":\"#2a3f5f\",\"gridcolor\":\"white\",\"linecolor\":\"white\",\"minorgridcolor\":\"white\",\"startlinecolor\":\"#2a3f5f\"},\"baxis\":{\"endlinecolor\":\"#2a3f5f\",\"gridcolor\":\"white\",\"linecolor\":\"white\",\"minorgridcolor\":\"white\",\"startlinecolor\":\"#2a3f5f\"},\"type\":\"carpet\"}],\"choropleth\":[{\"colorbar\":{\"outlinewidth\":0,\"ticks\":\"\"},\"type\":\"choropleth\"}],\"contour\":[{\"colorbar\":{\"outlinewidth\":0,\"ticks\":\"\"},\"colorscale\":[[0.0,\"#0d0887\"],[0.1111111111111111,\"#46039f\"],[0.2222222222222222,\"#7201a8\"],[0.3333333333333333,\"#9c179e\"],[0.4444444444444444,\"#bd3786\"],[0.5555555555555556,\"#d8576b\"],[0.6666666666666666,\"#ed7953\"],[0.7777777777777778,\"#fb9f3a\"],[0.8888888888888888,\"#fdca26\"],[1.0,\"#f0f921\"]],\"type\":\"contour\"}],\"contourcarpet\":[{\"colorbar\":{\"outlinewidth\":0,\"ticks\":\"\"},\"type\":\"contourcarpet\"}],\"heatmap\":[{\"colorbar\":{\"outlinewidth\":0,\"ticks\":\"\"},\"colorscale\":[[0.0,\"#0d0887\"],[0.1111111111111111,\"#46039f\"],[0.2222222222222222,\"#7201a8\"],[0.3333333333333333,\"#9c179e\"],[0.4444444444444444,\"#bd3786\"],[0.5555555555555556,\"#d8576b\"],[0.6666666666666666,\"#ed7953\"],[0.7777777777777778,\"#fb9f3a\"],[0.8888888888888888,\"#fdca26\"],[1.0,\"#f0f921\"]],\"type\":\"heatmap\"}],\"heatmapgl\":[{\"colorbar\":{\"outlinewidth\":0,\"ticks\":\"\"},\"colorscale\":[[0.0,\"#0d0887\"],[0.1111111111111111,\"#46039f\"],[0.2222222222222222,\"#7201a8\"],[0.3333333333333333,\"#9c179e\"],[0.4444444444444444,\"#bd3786\"],[0.5555555555555556,\"#d8576b\"],[0.6666666666666666,\"#ed7953\"],[0.7777777777777778,\"#fb9f3a\"],[0.8888888888888888,\"#fdca26\"],[1.0,\"#f0f921\"]],\"type\":\"heatmapgl\"}],\"histogram\":[{\"marker\":{\"pattern\":{\"fillmode\":\"overlay\",\"size\":10,\"solidity\":0.2}},\"type\":\"histogram\"}],\"histogram2d\":[{\"colorbar\":{\"outlinewidth\":0,\"ticks\":\"\"},\"colorscale\":[[0.0,\"#0d0887\"],[0.1111111111111111,\"#46039f\"],[0.2222222222222222,\"#7201a8\"],[0.3333333333333333,\"#9c179e\"],[0.4444444444444444,\"#bd3786\"],[0.5555555555555556,\"#d8576b\"],[0.6666666666666666,\"#ed7953\"],[0.7777777777777778,\"#fb9f3a\"],[0.8888888888888888,\"#fdca26\"],[1.0,\"#f0f921\"]],\"type\":\"histogram2d\"}],\"histogram2dcontour\":[{\"colorbar\":{\"outlinewidth\":0,\"ticks\":\"\"},\"colorscale\":[[0.0,\"#0d0887\"],[0.1111111111111111,\"#46039f\"],[0.2222222222222222,\"#7201a8\"],[0.3333333333333333,\"#9c179e\"],[0.4444444444444444,\"#bd3786\"],[0.5555555555555556,\"#d8576b\"],[0.6666666666666666,\"#ed7953\"],[0.7777777777777778,\"#fb9f3a\"],[0.8888888888888888,\"#fdca26\"],[1.0,\"#f0f921\"]],\"type\":\"histogram2dcontour\"}],\"mesh3d\":[{\"colorbar\":{\"outlinewidth\":0,\"ticks\":\"\"},\"type\":\"mesh3d\"}],\"parcoords\":[{\"line\":{\"colorbar\":{\"outlinewidth\":0,\"ticks\":\"\"}},\"type\":\"parcoords\"}],\"pie\":[{\"automargin\":true,\"type\":\"pie\"}],\"scatter\":[{\"marker\":{\"colorbar\":{\"outlinewidth\":0,\"ticks\":\"\"}},\"type\":\"scatter\"}],\"scatter3d\":[{\"line\":{\"colorbar\":{\"outlinewidth\":0,\"ticks\":\"\"}},\"marker\":{\"colorbar\":{\"outlinewidth\":0,\"ticks\":\"\"}},\"type\":\"scatter3d\"}],\"scattercarpet\":[{\"marker\":{\"colorbar\":{\"outlinewidth\":0,\"ticks\":\"\"}},\"type\":\"scattercarpet\"}],\"scattergeo\":[{\"marker\":{\"colorbar\":{\"outlinewidth\":0,\"ticks\":\"\"}},\"type\":\"scattergeo\"}],\"scattergl\":[{\"marker\":{\"colorbar\":{\"outlinewidth\":0,\"ticks\":\"\"}},\"type\":\"scattergl\"}],\"scattermapbox\":[{\"marker\":{\"colorbar\":{\"outlinewidth\":0,\"ticks\":\"\"}},\"type\":\"scattermapbox\"}],\"scatterpolar\":[{\"marker\":{\"colorbar\":{\"outlinewidth\":0,\"ticks\":\"\"}},\"type\":\"scatterpolar\"}],\"scatterpolargl\":[{\"marker\":{\"colorbar\":{\"outlinewidth\":0,\"ticks\":\"\"}},\"type\":\"scatterpolargl\"}],\"scatterternary\":[{\"marker\":{\"colorbar\":{\"outlinewidth\":0,\"ticks\":\"\"}},\"type\":\"scatterternary\"}],\"surface\":[{\"colorbar\":{\"outlinewidth\":0,\"ticks\":\"\"},\"colorscale\":[[0.0,\"#0d0887\"],[0.1111111111111111,\"#46039f\"],[0.2222222222222222,\"#7201a8\"],[0.3333333333333333,\"#9c179e\"],[0.4444444444444444,\"#bd3786\"],[0.5555555555555556,\"#d8576b\"],[0.6666666666666666,\"#ed7953\"],[0.7777777777777778,\"#fb9f3a\"],[0.8888888888888888,\"#fdca26\"],[1.0,\"#f0f921\"]],\"type\":\"surface\"}],\"table\":[{\"cells\":{\"fill\":{\"color\":\"#EBF0F8\"},\"line\":{\"color\":\"white\"}},\"header\":{\"fill\":{\"color\":\"#C8D4E3\"},\"line\":{\"color\":\"white\"}},\"type\":\"table\"}]},\"layout\":{\"annotationdefaults\":{\"arrowcolor\":\"#2a3f5f\",\"arrowhead\":0,\"arrowwidth\":1},\"autotypenumbers\":\"strict\",\"coloraxis\":{\"colorbar\":{\"outlinewidth\":0,\"ticks\":\"\"}},\"colorscale\":{\"diverging\":[[0,\"#8e0152\"],[0.1,\"#c51b7d\"],[0.2,\"#de77ae\"],[0.3,\"#f1b6da\"],[0.4,\"#fde0ef\"],[0.5,\"#f7f7f7\"],[0.6,\"#e6f5d0\"],[0.7,\"#b8e186\"],[0.8,\"#7fbc41\"],[0.9,\"#4d9221\"],[1,\"#276419\"]],\"sequential\":[[0.0,\"#0d0887\"],[0.1111111111111111,\"#46039f\"],[0.2222222222222222,\"#7201a8\"],[0.3333333333333333,\"#9c179e\"],[0.4444444444444444,\"#bd3786\"],[0.5555555555555556,\"#d8576b\"],[0.6666666666666666,\"#ed7953\"],[0.7777777777777778,\"#fb9f3a\"],[0.8888888888888888,\"#fdca26\"],[1.0,\"#f0f921\"]],\"sequentialminus\":[[0.0,\"#0d0887\"],[0.1111111111111111,\"#46039f\"],[0.2222222222222222,\"#7201a8\"],[0.3333333333333333,\"#9c179e\"],[0.4444444444444444,\"#bd3786\"],[0.5555555555555556,\"#d8576b\"],[0.6666666666666666,\"#ed7953\"],[0.7777777777777778,\"#fb9f3a\"],[0.8888888888888888,\"#fdca26\"],[1.0,\"#f0f921\"]]},\"colorway\":[\"#636efa\",\"#EF553B\",\"#00cc96\",\"#ab63fa\",\"#FFA15A\",\"#19d3f3\",\"#FF6692\",\"#B6E880\",\"#FF97FF\",\"#FECB52\"],\"font\":{\"color\":\"#2a3f5f\"},\"geo\":{\"bgcolor\":\"white\",\"lakecolor\":\"white\",\"landcolor\":\"#E5ECF6\",\"showlakes\":true,\"showland\":true,\"subunitcolor\":\"white\"},\"hoverlabel\":{\"align\":\"left\"},\"hovermode\":\"closest\",\"mapbox\":{\"style\":\"light\"},\"paper_bgcolor\":\"white\",\"plot_bgcolor\":\"#E5ECF6\",\"polar\":{\"angularaxis\":{\"gridcolor\":\"white\",\"linecolor\":\"white\",\"ticks\":\"\"},\"bgcolor\":\"#E5ECF6\",\"radialaxis\":{\"gridcolor\":\"white\",\"linecolor\":\"white\",\"ticks\":\"\"}},\"scene\":{\"xaxis\":{\"backgroundcolor\":\"#E5ECF6\",\"gridcolor\":\"white\",\"gridwidth\":2,\"linecolor\":\"white\",\"showbackground\":true,\"ticks\":\"\",\"zerolinecolor\":\"white\"},\"yaxis\":{\"backgroundcolor\":\"#E5ECF6\",\"gridcolor\":\"white\",\"gridwidth\":2,\"linecolor\":\"white\",\"showbackground\":true,\"ticks\":\"\",\"zerolinecolor\":\"white\"},\"zaxis\":{\"backgroundcolor\":\"#E5ECF6\",\"gridcolor\":\"white\",\"gridwidth\":2,\"linecolor\":\"white\",\"showbackground\":true,\"ticks\":\"\",\"zerolinecolor\":\"white\"}},\"shapedefaults\":{\"line\":{\"color\":\"#2a3f5f\"}},\"ternary\":{\"aaxis\":{\"gridcolor\":\"white\",\"linecolor\":\"white\",\"ticks\":\"\"},\"baxis\":{\"gridcolor\":\"white\",\"linecolor\":\"white\",\"ticks\":\"\"},\"bgcolor\":\"#E5ECF6\",\"caxis\":{\"gridcolor\":\"white\",\"linecolor\":\"white\",\"ticks\":\"\"}},\"title\":{\"x\":0.05},\"xaxis\":{\"automargin\":true,\"gridcolor\":\"white\",\"linecolor\":\"white\",\"ticks\":\"\",\"title\":{\"standoff\":15},\"zerolinecolor\":\"white\",\"zerolinewidth\":2},\"yaxis\":{\"automargin\":true,\"gridcolor\":\"white\",\"linecolor\":\"white\",\"ticks\":\"\",\"title\":{\"standoff\":15},\"zerolinecolor\":\"white\",\"zerolinewidth\":2}}},\"legend\":{\"tracegroupgap\":0,\"title\":{\"text\":\"Countries Represented\"},\"orientation\":\"h\"},\"title\":{\"text\":\"Customer Country Count in Percentage\",\"x\":0}},                        {\"displaylogo\": false, \"responsive\": true}                    ).then(function(){\n",
       "                            \n",
       "var gd = document.getElementById('c2ce5010-58b6-4382-8a9a-f23d1b6926c0');\n",
       "var x = new MutationObserver(function (mutations, observer) {{\n",
       "        var display = window.getComputedStyle(gd).display;\n",
       "        if (!display || display === 'none') {{\n",
       "            console.log([gd, 'removed!']);\n",
       "            Plotly.purge(gd);\n",
       "            observer.disconnect();\n",
       "        }}\n",
       "}});\n",
       "\n",
       "// Listen for the removal of the full notebook cells\n",
       "var notebookContainer = gd.closest('#notebook-container');\n",
       "if (notebookContainer) {{\n",
       "    x.observe(notebookContainer, {childList: true});\n",
       "}}\n",
       "\n",
       "// Listen for the clearing of the current output cell\n",
       "var outputEl = gd.closest('.output');\n",
       "if (outputEl) {{\n",
       "    x.observe(outputEl, {childList: true});\n",
       "}}\n",
       "\n",
       "                        })                };                });            </script>        </div>"
      ]
     },
     "metadata": {},
     "output_type": "display_data"
    }
   ],
   "source": [
    "# plot pie chart\n",
    "\n",
    "pie_fig = px.pie(ctm_cntry_df, \n",
    "                 names=\"CountryCategory\", \n",
    "                 values=\"Percentage\", \n",
    "                 title=\"Customer Country Count in Percentage\"\n",
    "                )\n",
    "\n",
    "pie_fig.update_layout(title_x=0, \n",
    "                      legend_title=\"Countries Represented\", \n",
    "                      legend=dict(orientation=\"h\")\n",
    "                     )\n",
    "\n",
    "pie_fig.show(config={'displaylogo': False})"
   ]
  },
  {
   "cell_type": "markdown",
   "metadata": {
    "_cell_guid": "0acc4bcc-54c0-4b06-a225-0c052fe9c880",
    "_uuid": "6e6395d0-a029-4ebc-8925-923d1c1e4954",
    "trusted": true
   },
   "source": [
    "### 3. Calculate the revenue that was made in each month and what is the percentage revenue based on countries?"
   ]
  },
  {
   "cell_type": "code",
   "execution_count": 11,
   "metadata": {
    "_cell_guid": "884d002e-d5c0-4167-aee8-d5b6f1d845e5",
    "_uuid": "9eb91c62-46ad-4707-b57f-dbaeda6d5192",
    "collapsed": false,
    "execution": {
     "iopub.execute_input": "2024-11-06T17:50:35.823757Z",
     "iopub.status.busy": "2024-11-06T17:50:35.823471Z",
     "iopub.status.idle": "2024-11-06T17:50:39.799565Z",
     "shell.execute_reply": "2024-11-06T17:50:39.798541Z",
     "shell.execute_reply.started": "2024-11-06T17:50:35.823714Z"
    },
    "jupyter": {
     "outputs_hidden": false
    },
    "trusted": true
   },
   "outputs": [
    {
     "data": {
      "text/html": [
       "<div>\n",
       "<style scoped>\n",
       "    .dataframe tbody tr th:only-of-type {\n",
       "        vertical-align: middle;\n",
       "    }\n",
       "\n",
       "    .dataframe tbody tr th {\n",
       "        vertical-align: top;\n",
       "    }\n",
       "\n",
       "    .dataframe thead th {\n",
       "        text-align: right;\n",
       "    }\n",
       "</style>\n",
       "<table border=\"1\" class=\"dataframe\">\n",
       "  <thead>\n",
       "    <tr style=\"text-align: right;\">\n",
       "      <th></th>\n",
       "      <th>InvoiceNo</th>\n",
       "      <th>StockCode</th>\n",
       "      <th>Description</th>\n",
       "      <th>Quantity</th>\n",
       "      <th>InvoiceDate</th>\n",
       "      <th>UnitPrice</th>\n",
       "      <th>CustomerID</th>\n",
       "      <th>Country</th>\n",
       "      <th>InvoiceYearMonth</th>\n",
       "    </tr>\n",
       "  </thead>\n",
       "  <tbody>\n",
       "    <tr>\n",
       "      <th>0</th>\n",
       "      <td>489434</td>\n",
       "      <td>85048</td>\n",
       "      <td>15CM CHRISTMAS GLASS BALL 20 LIGHTS</td>\n",
       "      <td>12</td>\n",
       "      <td>2009-12-01 07:45:00</td>\n",
       "      <td>6.95</td>\n",
       "      <td>13085.0</td>\n",
       "      <td>United Kingdom</td>\n",
       "      <td>200912</td>\n",
       "    </tr>\n",
       "    <tr>\n",
       "      <th>1</th>\n",
       "      <td>489434</td>\n",
       "      <td>79323P</td>\n",
       "      <td>PINK CHERRY LIGHTS</td>\n",
       "      <td>12</td>\n",
       "      <td>2009-12-01 07:45:00</td>\n",
       "      <td>6.75</td>\n",
       "      <td>13085.0</td>\n",
       "      <td>United Kingdom</td>\n",
       "      <td>200912</td>\n",
       "    </tr>\n",
       "    <tr>\n",
       "      <th>2</th>\n",
       "      <td>489434</td>\n",
       "      <td>79323W</td>\n",
       "      <td>WHITE CHERRY LIGHTS</td>\n",
       "      <td>12</td>\n",
       "      <td>2009-12-01 07:45:00</td>\n",
       "      <td>6.75</td>\n",
       "      <td>13085.0</td>\n",
       "      <td>United Kingdom</td>\n",
       "      <td>200912</td>\n",
       "    </tr>\n",
       "    <tr>\n",
       "      <th>3</th>\n",
       "      <td>489434</td>\n",
       "      <td>22041</td>\n",
       "      <td>RECORD FRAME 7\" SINGLE SIZE</td>\n",
       "      <td>48</td>\n",
       "      <td>2009-12-01 07:45:00</td>\n",
       "      <td>2.10</td>\n",
       "      <td>13085.0</td>\n",
       "      <td>United Kingdom</td>\n",
       "      <td>200912</td>\n",
       "    </tr>\n",
       "    <tr>\n",
       "      <th>4</th>\n",
       "      <td>489434</td>\n",
       "      <td>21232</td>\n",
       "      <td>STRAWBERRY CERAMIC TRINKET BOX</td>\n",
       "      <td>24</td>\n",
       "      <td>2009-12-01 07:45:00</td>\n",
       "      <td>1.25</td>\n",
       "      <td>13085.0</td>\n",
       "      <td>United Kingdom</td>\n",
       "      <td>200912</td>\n",
       "    </tr>\n",
       "  </tbody>\n",
       "</table>\n",
       "</div>"
      ],
      "text/plain": [
       "  InvoiceNo StockCode                          Description  Quantity  \\\n",
       "0    489434     85048  15CM CHRISTMAS GLASS BALL 20 LIGHTS        12   \n",
       "1    489434    79323P                   PINK CHERRY LIGHTS        12   \n",
       "2    489434    79323W                  WHITE CHERRY LIGHTS        12   \n",
       "3    489434     22041         RECORD FRAME 7\" SINGLE SIZE         48   \n",
       "4    489434     21232       STRAWBERRY CERAMIC TRINKET BOX        24   \n",
       "\n",
       "          InvoiceDate  UnitPrice  CustomerID         Country  InvoiceYearMonth  \n",
       "0 2009-12-01 07:45:00       6.95     13085.0  United Kingdom            200912  \n",
       "1 2009-12-01 07:45:00       6.75     13085.0  United Kingdom            200912  \n",
       "2 2009-12-01 07:45:00       6.75     13085.0  United Kingdom            200912  \n",
       "3 2009-12-01 07:45:00       2.10     13085.0  United Kingdom            200912  \n",
       "4 2009-12-01 07:45:00       1.25     13085.0  United Kingdom            200912  "
      ]
     },
     "execution_count": 11,
     "metadata": {},
     "output_type": "execute_result"
    }
   ],
   "source": [
    "df_data['InvoiceYearMonth'] = df_data['InvoiceDate'].map(lambda date: 100*date.year + date.month)\n",
    "df_data.head()"
   ]
  },
  {
   "cell_type": "code",
   "execution_count": 12,
   "metadata": {
    "_cell_guid": "624c54e3-80a3-46d8-a8c8-4d75b8905a0c",
    "_uuid": "1251023f-cf7f-40aa-827a-5c61cdbe3cfb",
    "collapsed": false,
    "execution": {
     "iopub.execute_input": "2024-11-06T17:50:39.801830Z",
     "iopub.status.busy": "2024-11-06T17:50:39.801482Z",
     "iopub.status.idle": "2024-11-06T17:50:39.830657Z",
     "shell.execute_reply": "2024-11-06T17:50:39.829667Z",
     "shell.execute_reply.started": "2024-11-06T17:50:39.801788Z"
    },
    "jupyter": {
     "outputs_hidden": false
    },
    "trusted": true
   },
   "outputs": [
    {
     "data": {
      "text/html": [
       "<div>\n",
       "<style scoped>\n",
       "    .dataframe tbody tr th:only-of-type {\n",
       "        vertical-align: middle;\n",
       "    }\n",
       "\n",
       "    .dataframe tbody tr th {\n",
       "        vertical-align: top;\n",
       "    }\n",
       "\n",
       "    .dataframe thead th {\n",
       "        text-align: right;\n",
       "    }\n",
       "</style>\n",
       "<table border=\"1\" class=\"dataframe\">\n",
       "  <thead>\n",
       "    <tr style=\"text-align: right;\">\n",
       "      <th></th>\n",
       "      <th>InvoiceNo</th>\n",
       "      <th>StockCode</th>\n",
       "      <th>Description</th>\n",
       "      <th>Quantity</th>\n",
       "      <th>InvoiceDate</th>\n",
       "      <th>UnitPrice</th>\n",
       "      <th>CustomerID</th>\n",
       "      <th>Country</th>\n",
       "      <th>InvoiceYearMonth</th>\n",
       "      <th>Revenue</th>\n",
       "    </tr>\n",
       "  </thead>\n",
       "  <tbody>\n",
       "    <tr>\n",
       "      <th>0</th>\n",
       "      <td>489434</td>\n",
       "      <td>85048</td>\n",
       "      <td>15CM CHRISTMAS GLASS BALL 20 LIGHTS</td>\n",
       "      <td>12</td>\n",
       "      <td>2009-12-01 07:45:00</td>\n",
       "      <td>6.95</td>\n",
       "      <td>13085.0</td>\n",
       "      <td>United Kingdom</td>\n",
       "      <td>200912</td>\n",
       "      <td>83.4</td>\n",
       "    </tr>\n",
       "    <tr>\n",
       "      <th>1</th>\n",
       "      <td>489434</td>\n",
       "      <td>79323P</td>\n",
       "      <td>PINK CHERRY LIGHTS</td>\n",
       "      <td>12</td>\n",
       "      <td>2009-12-01 07:45:00</td>\n",
       "      <td>6.75</td>\n",
       "      <td>13085.0</td>\n",
       "      <td>United Kingdom</td>\n",
       "      <td>200912</td>\n",
       "      <td>81.0</td>\n",
       "    </tr>\n",
       "    <tr>\n",
       "      <th>2</th>\n",
       "      <td>489434</td>\n",
       "      <td>79323W</td>\n",
       "      <td>WHITE CHERRY LIGHTS</td>\n",
       "      <td>12</td>\n",
       "      <td>2009-12-01 07:45:00</td>\n",
       "      <td>6.75</td>\n",
       "      <td>13085.0</td>\n",
       "      <td>United Kingdom</td>\n",
       "      <td>200912</td>\n",
       "      <td>81.0</td>\n",
       "    </tr>\n",
       "    <tr>\n",
       "      <th>3</th>\n",
       "      <td>489434</td>\n",
       "      <td>22041</td>\n",
       "      <td>RECORD FRAME 7\" SINGLE SIZE</td>\n",
       "      <td>48</td>\n",
       "      <td>2009-12-01 07:45:00</td>\n",
       "      <td>2.10</td>\n",
       "      <td>13085.0</td>\n",
       "      <td>United Kingdom</td>\n",
       "      <td>200912</td>\n",
       "      <td>100.8</td>\n",
       "    </tr>\n",
       "    <tr>\n",
       "      <th>4</th>\n",
       "      <td>489434</td>\n",
       "      <td>21232</td>\n",
       "      <td>STRAWBERRY CERAMIC TRINKET BOX</td>\n",
       "      <td>24</td>\n",
       "      <td>2009-12-01 07:45:00</td>\n",
       "      <td>1.25</td>\n",
       "      <td>13085.0</td>\n",
       "      <td>United Kingdom</td>\n",
       "      <td>200912</td>\n",
       "      <td>30.0</td>\n",
       "    </tr>\n",
       "  </tbody>\n",
       "</table>\n",
       "</div>"
      ],
      "text/plain": [
       "  InvoiceNo StockCode                          Description  Quantity  \\\n",
       "0    489434     85048  15CM CHRISTMAS GLASS BALL 20 LIGHTS        12   \n",
       "1    489434    79323P                   PINK CHERRY LIGHTS        12   \n",
       "2    489434    79323W                  WHITE CHERRY LIGHTS        12   \n",
       "3    489434     22041         RECORD FRAME 7\" SINGLE SIZE         48   \n",
       "4    489434     21232       STRAWBERRY CERAMIC TRINKET BOX        24   \n",
       "\n",
       "          InvoiceDate  UnitPrice  CustomerID         Country  \\\n",
       "0 2009-12-01 07:45:00       6.95     13085.0  United Kingdom   \n",
       "1 2009-12-01 07:45:00       6.75     13085.0  United Kingdom   \n",
       "2 2009-12-01 07:45:00       6.75     13085.0  United Kingdom   \n",
       "3 2009-12-01 07:45:00       2.10     13085.0  United Kingdom   \n",
       "4 2009-12-01 07:45:00       1.25     13085.0  United Kingdom   \n",
       "\n",
       "   InvoiceYearMonth  Revenue  \n",
       "0            200912     83.4  \n",
       "1            200912     81.0  \n",
       "2            200912     81.0  \n",
       "3            200912    100.8  \n",
       "4            200912     30.0  "
      ]
     },
     "execution_count": 12,
     "metadata": {},
     "output_type": "execute_result"
    }
   ],
   "source": [
    "df_data['Revenue'] = df_data.UnitPrice * df_data.Quantity\n",
    "df_data.head()"
   ]
  },
  {
   "cell_type": "code",
   "execution_count": 13,
   "metadata": {
    "_cell_guid": "c29b19a6-ae43-4933-ae1e-de134a8f0693",
    "_uuid": "2c70ae38-8d0b-4313-8e4e-11ce66c0caee",
    "collapsed": false,
    "execution": {
     "iopub.execute_input": "2024-11-06T17:50:39.832387Z",
     "iopub.status.busy": "2024-11-06T17:50:39.832057Z",
     "iopub.status.idle": "2024-11-06T17:50:39.869350Z",
     "shell.execute_reply": "2024-11-06T17:50:39.868284Z",
     "shell.execute_reply.started": "2024-11-06T17:50:39.832347Z"
    },
    "jupyter": {
     "outputs_hidden": false
    },
    "trusted": true
   },
   "outputs": [
    {
     "data": {
      "text/html": [
       "<div>\n",
       "<style scoped>\n",
       "    .dataframe tbody tr th:only-of-type {\n",
       "        vertical-align: middle;\n",
       "    }\n",
       "\n",
       "    .dataframe tbody tr th {\n",
       "        vertical-align: top;\n",
       "    }\n",
       "\n",
       "    .dataframe thead th {\n",
       "        text-align: right;\n",
       "    }\n",
       "</style>\n",
       "<table border=\"1\" class=\"dataframe\">\n",
       "  <thead>\n",
       "    <tr style=\"text-align: right;\">\n",
       "      <th></th>\n",
       "      <th>InvoiceYearMonth</th>\n",
       "      <th>Revenue</th>\n",
       "    </tr>\n",
       "  </thead>\n",
       "  <tbody>\n",
       "    <tr>\n",
       "      <th>0</th>\n",
       "      <td>200912</td>\n",
       "      <td>660125.100</td>\n",
       "    </tr>\n",
       "    <tr>\n",
       "      <th>1</th>\n",
       "      <td>201001</td>\n",
       "      <td>530436.512</td>\n",
       "    </tr>\n",
       "    <tr>\n",
       "      <th>2</th>\n",
       "      <td>201002</td>\n",
       "      <td>487596.426</td>\n",
       "    </tr>\n",
       "    <tr>\n",
       "      <th>3</th>\n",
       "      <td>201003</td>\n",
       "      <td>633419.311</td>\n",
       "    </tr>\n",
       "    <tr>\n",
       "      <th>4</th>\n",
       "      <td>201004</td>\n",
       "      <td>558007.832</td>\n",
       "    </tr>\n",
       "  </tbody>\n",
       "</table>\n",
       "</div>"
      ],
      "text/plain": [
       "   InvoiceYearMonth     Revenue\n",
       "0            200912  660125.100\n",
       "1            201001  530436.512\n",
       "2            201002  487596.426\n",
       "3            201003  633419.311\n",
       "4            201004  558007.832"
      ]
     },
     "execution_count": 13,
     "metadata": {},
     "output_type": "execute_result"
    }
   ],
   "source": [
    "ctm_revenue = df_data.groupby('InvoiceYearMonth').Revenue.sum().reset_index()\n",
    "ctm_revenue.head()"
   ]
  },
  {
   "cell_type": "code",
   "execution_count": 14,
   "metadata": {
    "_cell_guid": "1bb46d7f-7019-4d14-a760-3b7be8b5fc85",
    "_uuid": "4eeeb238-c1bb-439f-bec7-e05388f52adb",
    "collapsed": false,
    "execution": {
     "iopub.execute_input": "2024-11-06T17:50:39.871190Z",
     "iopub.status.busy": "2024-11-06T17:50:39.870849Z",
     "iopub.status.idle": "2024-11-06T17:50:39.888463Z",
     "shell.execute_reply": "2024-11-06T17:50:39.887222Z",
     "shell.execute_reply.started": "2024-11-06T17:50:39.871148Z"
    },
    "jupyter": {
     "outputs_hidden": false
    },
    "trusted": true
   },
   "outputs": [
    {
     "data": {
      "text/html": [
       "<div>\n",
       "<style scoped>\n",
       "    .dataframe tbody tr th:only-of-type {\n",
       "        vertical-align: middle;\n",
       "    }\n",
       "\n",
       "    .dataframe tbody tr th {\n",
       "        vertical-align: top;\n",
       "    }\n",
       "\n",
       "    .dataframe thead th {\n",
       "        text-align: right;\n",
       "    }\n",
       "</style>\n",
       "<table border=\"1\" class=\"dataframe\">\n",
       "  <thead>\n",
       "    <tr style=\"text-align: right;\">\n",
       "      <th></th>\n",
       "      <th>Revenue</th>\n",
       "    </tr>\n",
       "  </thead>\n",
       "  <tbody>\n",
       "    <tr>\n",
       "      <th>count</th>\n",
       "      <td>2.400000e+01</td>\n",
       "    </tr>\n",
       "    <tr>\n",
       "      <th>mean</th>\n",
       "      <td>6.307889e+05</td>\n",
       "    </tr>\n",
       "    <tr>\n",
       "      <th>std</th>\n",
       "      <td>1.928468e+05</td>\n",
       "    </tr>\n",
       "    <tr>\n",
       "      <th>min</th>\n",
       "      <td>3.173142e+05</td>\n",
       "    </tr>\n",
       "    <tr>\n",
       "      <th>25%</th>\n",
       "      <td>5.468888e+05</td>\n",
       "    </tr>\n",
       "    <tr>\n",
       "      <th>50%</th>\n",
       "      <td>5.758443e+05</td>\n",
       "    </tr>\n",
       "    <tr>\n",
       "      <th>75%</th>\n",
       "      <td>6.502900e+05</td>\n",
       "    </tr>\n",
       "    <tr>\n",
       "      <th>max</th>\n",
       "      <td>1.129025e+06</td>\n",
       "    </tr>\n",
       "  </tbody>\n",
       "</table>\n",
       "</div>"
      ],
      "text/plain": [
       "            Revenue\n",
       "count  2.400000e+01\n",
       "mean   6.307889e+05\n",
       "std    1.928468e+05\n",
       "min    3.173142e+05\n",
       "25%    5.468888e+05\n",
       "50%    5.758443e+05\n",
       "75%    6.502900e+05\n",
       "max    1.129025e+06"
      ]
     },
     "execution_count": 14,
     "metadata": {},
     "output_type": "execute_result"
    }
   ],
   "source": [
    "pd.DataFrame(ctm_revenue.Revenue.describe())"
   ]
  },
  {
   "cell_type": "code",
   "execution_count": 21,
   "metadata": {
    "_cell_guid": "e2c9d876-3ad2-4835-b9af-b9701b336f39",
    "_uuid": "3ebceb9f-69ea-4eda-b4b3-57f4d48cc44d",
    "collapsed": false,
    "execution": {
     "iopub.execute_input": "2024-11-06T17:50:39.890715Z",
     "iopub.status.busy": "2024-11-06T17:50:39.890122Z",
     "iopub.status.idle": "2024-11-06T17:50:39.968726Z",
     "shell.execute_reply": "2024-11-06T17:50:39.967656Z",
     "shell.execute_reply.started": "2024-11-06T17:50:39.890665Z"
    },
    "jupyter": {
     "outputs_hidden": false
    },
    "trusted": true
   },
   "outputs": [
    {
     "data": {
      "text/html": [
       "<div>                            <div id=\"452eeb2e-ea90-4b2f-ae73-707522a28238\" class=\"plotly-graph-div\" style=\"height:525px; width:100%;\"></div>            <script type=\"text/javascript\">                require([\"plotly\"], function(Plotly) {                    window.PLOTLYENV=window.PLOTLYENV || {};                                    if (document.getElementById(\"452eeb2e-ea90-4b2f-ae73-707522a28238\")) {                    Plotly.newPlot(                        \"452eeb2e-ea90-4b2f-ae73-707522a28238\",                        [{\"hovertemplate\":\"InvoiceYearMonth=%{x}<br>Revenue=%{y}<extra></extra>\",\"legendgroup\":\"\",\"line\":{\"color\":\"#636efa\",\"dash\":\"solid\"},\"marker\":{\"symbol\":\"circle\"},\"mode\":\"lines\",\"name\":\"\",\"orientation\":\"v\",\"showlegend\":false,\"x\":[200912,201001,201002,201003,201004,201005,201006,201007,201008,201009,201010,201011,201012,201101,201102,201103,201104,201105,201106,201107,201108,201109,201110,201111],\"xaxis\":\"x\",\"y\":[660125.1,530436.512,487596.426,633419.311,558007.832,557873.39,568784.55,560885.33,585259.46,778520.051,961520.74,1129025.162,552372.86,473731.9,435534.07,578576.21,425222.67100000003,647011.67,606862.52,573112.321,615078.09,929356.232,973306.38,317314.23],\"yaxis\":\"y\",\"type\":\"scatter\"}],                        {\"template\":{\"data\":{\"bar\":[{\"error_x\":{\"color\":\"#2a3f5f\"},\"error_y\":{\"color\":\"#2a3f5f\"},\"marker\":{\"line\":{\"color\":\"#E5ECF6\",\"width\":0.5},\"pattern\":{\"fillmode\":\"overlay\",\"size\":10,\"solidity\":0.2}},\"type\":\"bar\"}],\"barpolar\":[{\"marker\":{\"line\":{\"color\":\"#E5ECF6\",\"width\":0.5},\"pattern\":{\"fillmode\":\"overlay\",\"size\":10,\"solidity\":0.2}},\"type\":\"barpolar\"}],\"carpet\":[{\"aaxis\":{\"endlinecolor\":\"#2a3f5f\",\"gridcolor\":\"white\",\"linecolor\":\"white\",\"minorgridcolor\":\"white\",\"startlinecolor\":\"#2a3f5f\"},\"baxis\":{\"endlinecolor\":\"#2a3f5f\",\"gridcolor\":\"white\",\"linecolor\":\"white\",\"minorgridcolor\":\"white\",\"startlinecolor\":\"#2a3f5f\"},\"type\":\"carpet\"}],\"choropleth\":[{\"colorbar\":{\"outlinewidth\":0,\"ticks\":\"\"},\"type\":\"choropleth\"}],\"contour\":[{\"colorbar\":{\"outlinewidth\":0,\"ticks\":\"\"},\"colorscale\":[[0.0,\"#0d0887\"],[0.1111111111111111,\"#46039f\"],[0.2222222222222222,\"#7201a8\"],[0.3333333333333333,\"#9c179e\"],[0.4444444444444444,\"#bd3786\"],[0.5555555555555556,\"#d8576b\"],[0.6666666666666666,\"#ed7953\"],[0.7777777777777778,\"#fb9f3a\"],[0.8888888888888888,\"#fdca26\"],[1.0,\"#f0f921\"]],\"type\":\"contour\"}],\"contourcarpet\":[{\"colorbar\":{\"outlinewidth\":0,\"ticks\":\"\"},\"type\":\"contourcarpet\"}],\"heatmap\":[{\"colorbar\":{\"outlinewidth\":0,\"ticks\":\"\"},\"colorscale\":[[0.0,\"#0d0887\"],[0.1111111111111111,\"#46039f\"],[0.2222222222222222,\"#7201a8\"],[0.3333333333333333,\"#9c179e\"],[0.4444444444444444,\"#bd3786\"],[0.5555555555555556,\"#d8576b\"],[0.6666666666666666,\"#ed7953\"],[0.7777777777777778,\"#fb9f3a\"],[0.8888888888888888,\"#fdca26\"],[1.0,\"#f0f921\"]],\"type\":\"heatmap\"}],\"heatmapgl\":[{\"colorbar\":{\"outlinewidth\":0,\"ticks\":\"\"},\"colorscale\":[[0.0,\"#0d0887\"],[0.1111111111111111,\"#46039f\"],[0.2222222222222222,\"#7201a8\"],[0.3333333333333333,\"#9c179e\"],[0.4444444444444444,\"#bd3786\"],[0.5555555555555556,\"#d8576b\"],[0.6666666666666666,\"#ed7953\"],[0.7777777777777778,\"#fb9f3a\"],[0.8888888888888888,\"#fdca26\"],[1.0,\"#f0f921\"]],\"type\":\"heatmapgl\"}],\"histogram\":[{\"marker\":{\"pattern\":{\"fillmode\":\"overlay\",\"size\":10,\"solidity\":0.2}},\"type\":\"histogram\"}],\"histogram2d\":[{\"colorbar\":{\"outlinewidth\":0,\"ticks\":\"\"},\"colorscale\":[[0.0,\"#0d0887\"],[0.1111111111111111,\"#46039f\"],[0.2222222222222222,\"#7201a8\"],[0.3333333333333333,\"#9c179e\"],[0.4444444444444444,\"#bd3786\"],[0.5555555555555556,\"#d8576b\"],[0.6666666666666666,\"#ed7953\"],[0.7777777777777778,\"#fb9f3a\"],[0.8888888888888888,\"#fdca26\"],[1.0,\"#f0f921\"]],\"type\":\"histogram2d\"}],\"histogram2dcontour\":[{\"colorbar\":{\"outlinewidth\":0,\"ticks\":\"\"},\"colorscale\":[[0.0,\"#0d0887\"],[0.1111111111111111,\"#46039f\"],[0.2222222222222222,\"#7201a8\"],[0.3333333333333333,\"#9c179e\"],[0.4444444444444444,\"#bd3786\"],[0.5555555555555556,\"#d8576b\"],[0.6666666666666666,\"#ed7953\"],[0.7777777777777778,\"#fb9f3a\"],[0.8888888888888888,\"#fdca26\"],[1.0,\"#f0f921\"]],\"type\":\"histogram2dcontour\"}],\"mesh3d\":[{\"colorbar\":{\"outlinewidth\":0,\"ticks\":\"\"},\"type\":\"mesh3d\"}],\"parcoords\":[{\"line\":{\"colorbar\":{\"outlinewidth\":0,\"ticks\":\"\"}},\"type\":\"parcoords\"}],\"pie\":[{\"automargin\":true,\"type\":\"pie\"}],\"scatter\":[{\"marker\":{\"colorbar\":{\"outlinewidth\":0,\"ticks\":\"\"}},\"type\":\"scatter\"}],\"scatter3d\":[{\"line\":{\"colorbar\":{\"outlinewidth\":0,\"ticks\":\"\"}},\"marker\":{\"colorbar\":{\"outlinewidth\":0,\"ticks\":\"\"}},\"type\":\"scatter3d\"}],\"scattercarpet\":[{\"marker\":{\"colorbar\":{\"outlinewidth\":0,\"ticks\":\"\"}},\"type\":\"scattercarpet\"}],\"scattergeo\":[{\"marker\":{\"colorbar\":{\"outlinewidth\":0,\"ticks\":\"\"}},\"type\":\"scattergeo\"}],\"scattergl\":[{\"marker\":{\"colorbar\":{\"outlinewidth\":0,\"ticks\":\"\"}},\"type\":\"scattergl\"}],\"scattermapbox\":[{\"marker\":{\"colorbar\":{\"outlinewidth\":0,\"ticks\":\"\"}},\"type\":\"scattermapbox\"}],\"scatterpolar\":[{\"marker\":{\"colorbar\":{\"outlinewidth\":0,\"ticks\":\"\"}},\"type\":\"scatterpolar\"}],\"scatterpolargl\":[{\"marker\":{\"colorbar\":{\"outlinewidth\":0,\"ticks\":\"\"}},\"type\":\"scatterpolargl\"}],\"scatterternary\":[{\"marker\":{\"colorbar\":{\"outlinewidth\":0,\"ticks\":\"\"}},\"type\":\"scatterternary\"}],\"surface\":[{\"colorbar\":{\"outlinewidth\":0,\"ticks\":\"\"},\"colorscale\":[[0.0,\"#0d0887\"],[0.1111111111111111,\"#46039f\"],[0.2222222222222222,\"#7201a8\"],[0.3333333333333333,\"#9c179e\"],[0.4444444444444444,\"#bd3786\"],[0.5555555555555556,\"#d8576b\"],[0.6666666666666666,\"#ed7953\"],[0.7777777777777778,\"#fb9f3a\"],[0.8888888888888888,\"#fdca26\"],[1.0,\"#f0f921\"]],\"type\":\"surface\"}],\"table\":[{\"cells\":{\"fill\":{\"color\":\"#EBF0F8\"},\"line\":{\"color\":\"white\"}},\"header\":{\"fill\":{\"color\":\"#C8D4E3\"},\"line\":{\"color\":\"white\"}},\"type\":\"table\"}]},\"layout\":{\"annotationdefaults\":{\"arrowcolor\":\"#2a3f5f\",\"arrowhead\":0,\"arrowwidth\":1},\"autotypenumbers\":\"strict\",\"coloraxis\":{\"colorbar\":{\"outlinewidth\":0,\"ticks\":\"\"}},\"colorscale\":{\"diverging\":[[0,\"#8e0152\"],[0.1,\"#c51b7d\"],[0.2,\"#de77ae\"],[0.3,\"#f1b6da\"],[0.4,\"#fde0ef\"],[0.5,\"#f7f7f7\"],[0.6,\"#e6f5d0\"],[0.7,\"#b8e186\"],[0.8,\"#7fbc41\"],[0.9,\"#4d9221\"],[1,\"#276419\"]],\"sequential\":[[0.0,\"#0d0887\"],[0.1111111111111111,\"#46039f\"],[0.2222222222222222,\"#7201a8\"],[0.3333333333333333,\"#9c179e\"],[0.4444444444444444,\"#bd3786\"],[0.5555555555555556,\"#d8576b\"],[0.6666666666666666,\"#ed7953\"],[0.7777777777777778,\"#fb9f3a\"],[0.8888888888888888,\"#fdca26\"],[1.0,\"#f0f921\"]],\"sequentialminus\":[[0.0,\"#0d0887\"],[0.1111111111111111,\"#46039f\"],[0.2222222222222222,\"#7201a8\"],[0.3333333333333333,\"#9c179e\"],[0.4444444444444444,\"#bd3786\"],[0.5555555555555556,\"#d8576b\"],[0.6666666666666666,\"#ed7953\"],[0.7777777777777778,\"#fb9f3a\"],[0.8888888888888888,\"#fdca26\"],[1.0,\"#f0f921\"]]},\"colorway\":[\"#636efa\",\"#EF553B\",\"#00cc96\",\"#ab63fa\",\"#FFA15A\",\"#19d3f3\",\"#FF6692\",\"#B6E880\",\"#FF97FF\",\"#FECB52\"],\"font\":{\"color\":\"#2a3f5f\"},\"geo\":{\"bgcolor\":\"white\",\"lakecolor\":\"white\",\"landcolor\":\"#E5ECF6\",\"showlakes\":true,\"showland\":true,\"subunitcolor\":\"white\"},\"hoverlabel\":{\"align\":\"left\"},\"hovermode\":\"closest\",\"mapbox\":{\"style\":\"light\"},\"paper_bgcolor\":\"white\",\"plot_bgcolor\":\"#E5ECF6\",\"polar\":{\"angularaxis\":{\"gridcolor\":\"white\",\"linecolor\":\"white\",\"ticks\":\"\"},\"bgcolor\":\"#E5ECF6\",\"radialaxis\":{\"gridcolor\":\"white\",\"linecolor\":\"white\",\"ticks\":\"\"}},\"scene\":{\"xaxis\":{\"backgroundcolor\":\"#E5ECF6\",\"gridcolor\":\"white\",\"gridwidth\":2,\"linecolor\":\"white\",\"showbackground\":true,\"ticks\":\"\",\"zerolinecolor\":\"white\"},\"yaxis\":{\"backgroundcolor\":\"#E5ECF6\",\"gridcolor\":\"white\",\"gridwidth\":2,\"linecolor\":\"white\",\"showbackground\":true,\"ticks\":\"\",\"zerolinecolor\":\"white\"},\"zaxis\":{\"backgroundcolor\":\"#E5ECF6\",\"gridcolor\":\"white\",\"gridwidth\":2,\"linecolor\":\"white\",\"showbackground\":true,\"ticks\":\"\",\"zerolinecolor\":\"white\"}},\"shapedefaults\":{\"line\":{\"color\":\"#2a3f5f\"}},\"ternary\":{\"aaxis\":{\"gridcolor\":\"white\",\"linecolor\":\"white\",\"ticks\":\"\"},\"baxis\":{\"gridcolor\":\"white\",\"linecolor\":\"white\",\"ticks\":\"\"},\"bgcolor\":\"#E5ECF6\",\"caxis\":{\"gridcolor\":\"white\",\"linecolor\":\"white\",\"ticks\":\"\"}},\"title\":{\"x\":0.05},\"xaxis\":{\"automargin\":true,\"gridcolor\":\"white\",\"linecolor\":\"white\",\"ticks\":\"\",\"title\":{\"standoff\":15},\"zerolinecolor\":\"white\",\"zerolinewidth\":2},\"yaxis\":{\"automargin\":true,\"gridcolor\":\"white\",\"linecolor\":\"white\",\"ticks\":\"\",\"title\":{\"standoff\":15},\"zerolinecolor\":\"white\",\"zerolinewidth\":2}}},\"xaxis\":{\"anchor\":\"y\",\"domain\":[0.0,1.0],\"title\":{\"text\":\"Invoice Year-Month\"},\"type\":\"category\"},\"yaxis\":{\"anchor\":\"x\",\"domain\":[0.0,1.0],\"title\":{\"text\":\"Monthly Revenue\"}},\"legend\":{\"tracegroupgap\":0},\"title\":{\"text\":\"Montly Revenue from Dec. 2009 to Dec. 2011\",\"x\":0.5},\"showlegend\":false},                        {\"displaylogo\": false, \"responsive\": true}                    ).then(function(){\n",
       "                            \n",
       "var gd = document.getElementById('452eeb2e-ea90-4b2f-ae73-707522a28238');\n",
       "var x = new MutationObserver(function (mutations, observer) {{\n",
       "        var display = window.getComputedStyle(gd).display;\n",
       "        if (!display || display === 'none') {{\n",
       "            console.log([gd, 'removed!']);\n",
       "            Plotly.purge(gd);\n",
       "            observer.disconnect();\n",
       "        }}\n",
       "}});\n",
       "\n",
       "// Listen for the removal of the full notebook cells\n",
       "var notebookContainer = gd.closest('#notebook-container');\n",
       "if (notebookContainer) {{\n",
       "    x.observe(notebookContainer, {childList: true});\n",
       "}}\n",
       "\n",
       "// Listen for the clearing of the current output cell\n",
       "var outputEl = gd.closest('.output');\n",
       "if (outputEl) {{\n",
       "    x.observe(outputEl, {childList: true});\n",
       "}}\n",
       "\n",
       "                        })                };                });            </script>        </div>"
      ]
     },
     "metadata": {},
     "output_type": "display_data"
    }
   ],
   "source": [
    "# plot line plot\n",
    "line_fig = px.line(ctm_revenue, \n",
    "                   x = \"InvoiceYearMonth\", \n",
    "                   y = \"Revenue\", \n",
    "                   title = \"Montly Revenue from Dec. 2009 to Dec. 2011\"\n",
    "                  )\n",
    "\n",
    "line_fig.update_layout(title_x=0.5, \n",
    "                       showlegend=False, \n",
    "                       xaxis={\"type\": \"category\"}, \n",
    "                       xaxis_title=\"Invoice Year-Month\", \n",
    "                       yaxis_title=\"Monthly Revenue\"\n",
    "                      )\n",
    "\n",
    "line_fig.show(config={'displaylogo': False})"
   ]
  },
  {
   "cell_type": "markdown",
   "metadata": {
    "_cell_guid": "84ca162b-ac42-47e7-9b67-d6119f626b1a",
    "_uuid": "731852b3-cb05-49f6-8d8d-c6983bb31736",
    "trusted": true
   },
   "source": [
    "From the graph figure above, we observe that the online retail shop made the highest sales in November 2010, followed by November 2011. Also, one can observe that, monthly sales rises after August.\n",
    "\n",
    "\n",
    "Next, explore the percentage revenue generated by the retail shop based on the countries their customers reside."
   ]
  },
  {
   "cell_type": "code",
   "execution_count": 15,
   "metadata": {
    "_cell_guid": "e070cf92-0a89-4ab8-94a1-9b5ca4acd8cd",
    "_uuid": "80a93311-5acf-4177-8646-9229229587a9",
    "collapsed": false,
    "execution": {
     "iopub.execute_input": "2024-11-06T17:50:39.970569Z",
     "iopub.status.busy": "2024-11-06T17:50:39.970193Z",
     "iopub.status.idle": "2024-11-06T17:50:40.056550Z",
     "shell.execute_reply": "2024-11-06T17:50:40.055575Z",
     "shell.execute_reply.started": "2024-11-06T17:50:39.970532Z"
    },
    "jupyter": {
     "outputs_hidden": false
    },
    "trusted": true
   },
   "outputs": [
    {
     "data": {
      "text/html": [
       "<div>\n",
       "<style scoped>\n",
       "    .dataframe tbody tr th:only-of-type {\n",
       "        vertical-align: middle;\n",
       "    }\n",
       "\n",
       "    .dataframe tbody tr th {\n",
       "        vertical-align: top;\n",
       "    }\n",
       "\n",
       "    .dataframe thead th {\n",
       "        text-align: right;\n",
       "    }\n",
       "</style>\n",
       "<table border=\"1\" class=\"dataframe\">\n",
       "  <thead>\n",
       "    <tr style=\"text-align: right;\">\n",
       "      <th></th>\n",
       "      <th>Country</th>\n",
       "      <th>Revenue</th>\n",
       "      <th>Percentage</th>\n",
       "    </tr>\n",
       "  </thead>\n",
       "  <tbody>\n",
       "    <tr>\n",
       "      <th>38</th>\n",
       "      <td>United Kingdom</td>\n",
       "      <td>1.251781e+07</td>\n",
       "      <td>82.69</td>\n",
       "    </tr>\n",
       "    <tr>\n",
       "      <th>10</th>\n",
       "      <td>EIRE</td>\n",
       "      <td>5.404355e+05</td>\n",
       "      <td>3.57</td>\n",
       "    </tr>\n",
       "    <tr>\n",
       "      <th>24</th>\n",
       "      <td>Netherlands</td>\n",
       "      <td>5.152336e+05</td>\n",
       "      <td>3.40</td>\n",
       "    </tr>\n",
       "    <tr>\n",
       "      <th>14</th>\n",
       "      <td>Germany</td>\n",
       "      <td>3.805780e+05</td>\n",
       "      <td>2.51</td>\n",
       "    </tr>\n",
       "    <tr>\n",
       "      <th>13</th>\n",
       "      <td>France</td>\n",
       "      <td>2.892641e+05</td>\n",
       "      <td>1.91</td>\n",
       "    </tr>\n",
       "  </tbody>\n",
       "</table>\n",
       "</div>"
      ],
      "text/plain": [
       "           Country       Revenue  Percentage\n",
       "38  United Kingdom  1.251781e+07       82.69\n",
       "10            EIRE  5.404355e+05        3.57\n",
       "24     Netherlands  5.152336e+05        3.40\n",
       "14         Germany  3.805780e+05        2.51\n",
       "13          France  2.892641e+05        1.91"
      ]
     },
     "execution_count": 15,
     "metadata": {},
     "output_type": "execute_result"
    }
   ],
   "source": [
    "cntry_revenue_df = df_data.groupby(['Country']).Revenue.sum().reset_index().sort_values(by=['Revenue'], \n",
    "                                                                                        ascending=False)\n",
    "\n",
    "cntry_revenue_df['Percentage'] = np.round(cntry_revenue_df.Revenue / cntry_revenue_df.Revenue.sum() * 100, 2)\n",
    "\n",
    "cntry_revenue_df.head(5)"
   ]
  },
  {
   "cell_type": "markdown",
   "metadata": {
    "_cell_guid": "5f74f368-0184-4bc0-8296-2ae0b1124f9e",
    "_uuid": "ffbc13fe-725f-4804-8a0c-a2baaaf76a75",
    "trusted": true
   },
   "source": [
    "From the output above, the top  countries with respect to revenue generated are:\n",
    "\n",
    "* The United Kingdom\n",
    "* The Republic of Ireland (EIRE)\n",
    "* The Netherlands\n",
    "* Germany\n",
    "* France\n",
    "\n",
    "with the United Kingdom recording the highest in percentage **82.69%**\n",
    "\n",
    "In the next two cells, we update cntry_revenue_df with a new\n",
    "\n",
    "In the two next cells, we group countries with revenue percentage value less than or equal to 0.25 together and then plot a pie chart."
   ]
  },
  {
   "cell_type": "code",
   "execution_count": 16,
   "metadata": {
    "_cell_guid": "46004ba4-0d87-4f46-bcf8-ed8b5913e917",
    "_uuid": "7ea4fd90-0a69-4ec0-a0b1-df8465c24fe1",
    "collapsed": false,
    "execution": {
     "iopub.execute_input": "2024-11-06T17:50:40.058185Z",
     "iopub.status.busy": "2024-11-06T17:50:40.057908Z",
     "iopub.status.idle": "2024-11-06T17:50:40.075380Z",
     "shell.execute_reply": "2024-11-06T17:50:40.074202Z",
     "shell.execute_reply.started": "2024-11-06T17:50:40.058150Z"
    },
    "jupyter": {
     "outputs_hidden": false
    },
    "trusted": true
   },
   "outputs": [
    {
     "data": {
      "text/html": [
       "<div>\n",
       "<style scoped>\n",
       "    .dataframe tbody tr th:only-of-type {\n",
       "        vertical-align: middle;\n",
       "    }\n",
       "\n",
       "    .dataframe tbody tr th {\n",
       "        vertical-align: top;\n",
       "    }\n",
       "\n",
       "    .dataframe thead th {\n",
       "        text-align: right;\n",
       "    }\n",
       "</style>\n",
       "<table border=\"1\" class=\"dataframe\">\n",
       "  <thead>\n",
       "    <tr style=\"text-align: right;\">\n",
       "      <th></th>\n",
       "      <th>Country</th>\n",
       "      <th>Revenue</th>\n",
       "      <th>Percentage</th>\n",
       "      <th>CountryCategory</th>\n",
       "    </tr>\n",
       "  </thead>\n",
       "  <tbody>\n",
       "    <tr>\n",
       "      <th>38</th>\n",
       "      <td>United Kingdom</td>\n",
       "      <td>1.251781e+07</td>\n",
       "      <td>82.69</td>\n",
       "      <td>United Kingdom</td>\n",
       "    </tr>\n",
       "    <tr>\n",
       "      <th>10</th>\n",
       "      <td>EIRE</td>\n",
       "      <td>5.404355e+05</td>\n",
       "      <td>3.57</td>\n",
       "      <td>EIRE</td>\n",
       "    </tr>\n",
       "    <tr>\n",
       "      <th>24</th>\n",
       "      <td>Netherlands</td>\n",
       "      <td>5.152336e+05</td>\n",
       "      <td>3.40</td>\n",
       "      <td>Netherlands</td>\n",
       "    </tr>\n",
       "    <tr>\n",
       "      <th>14</th>\n",
       "      <td>Germany</td>\n",
       "      <td>3.805780e+05</td>\n",
       "      <td>2.51</td>\n",
       "      <td>Germany</td>\n",
       "    </tr>\n",
       "    <tr>\n",
       "      <th>13</th>\n",
       "      <td>France</td>\n",
       "      <td>2.892641e+05</td>\n",
       "      <td>1.91</td>\n",
       "      <td>France</td>\n",
       "    </tr>\n",
       "    <tr>\n",
       "      <th>0</th>\n",
       "      <td>Australia</td>\n",
       "      <td>1.608026e+05</td>\n",
       "      <td>1.06</td>\n",
       "      <td>Australia</td>\n",
       "    </tr>\n",
       "    <tr>\n",
       "      <th>34</th>\n",
       "      <td>Switzerland</td>\n",
       "      <td>9.687012e+04</td>\n",
       "      <td>0.64</td>\n",
       "      <td>Switzerland</td>\n",
       "    </tr>\n",
       "    <tr>\n",
       "      <th>33</th>\n",
       "      <td>Sweden</td>\n",
       "      <td>8.545965e+04</td>\n",
       "      <td>0.56</td>\n",
       "      <td>Sweden</td>\n",
       "    </tr>\n",
       "    <tr>\n",
       "      <th>32</th>\n",
       "      <td>Spain</td>\n",
       "      <td>8.390503e+04</td>\n",
       "      <td>0.55</td>\n",
       "      <td>Spain</td>\n",
       "    </tr>\n",
       "    <tr>\n",
       "      <th>9</th>\n",
       "      <td>Denmark</td>\n",
       "      <td>6.159112e+04</td>\n",
       "      <td>0.41</td>\n",
       "      <td>Denmark</td>\n",
       "    </tr>\n",
       "    <tr>\n",
       "      <th>3</th>\n",
       "      <td>Belgium</td>\n",
       "      <td>5.848913e+04</td>\n",
       "      <td>0.39</td>\n",
       "      <td>Belgium</td>\n",
       "    </tr>\n",
       "  </tbody>\n",
       "</table>\n",
       "</div>"
      ],
      "text/plain": [
       "           Country       Revenue  Percentage CountryCategory\n",
       "38  United Kingdom  1.251781e+07       82.69  United Kingdom\n",
       "10            EIRE  5.404355e+05        3.57            EIRE\n",
       "24     Netherlands  5.152336e+05        3.40     Netherlands\n",
       "14         Germany  3.805780e+05        2.51         Germany\n",
       "13          France  2.892641e+05        1.91          France\n",
       "0        Australia  1.608026e+05        1.06       Australia\n",
       "34     Switzerland  9.687012e+04        0.64     Switzerland\n",
       "33          Sweden  8.545965e+04        0.56          Sweden\n",
       "32           Spain  8.390503e+04        0.55           Spain\n",
       "9          Denmark  6.159112e+04        0.41         Denmark\n",
       "3          Belgium  5.848913e+04        0.39         Belgium"
      ]
     },
     "execution_count": 16,
     "metadata": {},
     "output_type": "execute_result"
    }
   ],
   "source": [
    "percent_margin = 0.25\n",
    "\n",
    "# Create a new column, CountryCategory and set values to the corresponding values of the Country column\n",
    "cntry_revenue_df['CountryCategory'] = cntry_revenue_df.Country\n",
    "\n",
    "# Set Countries with Percentage less than or equal to percent_margin to 'Other Countries'\n",
    "\n",
    "cntry_revenue_df.loc[cntry_revenue_df.Percentage <= percent_margin, 'CountryCategory'] = 'Other Countries'\n",
    "\n",
    "cntry_revenue_df.head(11)"
   ]
  },
  {
   "cell_type": "code",
   "execution_count": 17,
   "metadata": {
    "_cell_guid": "5457dd2f-6dd9-4cd4-8f18-c505311310da",
    "_uuid": "96eec4f7-a83d-406a-a578-73c276948c1a",
    "collapsed": false,
    "execution": {
     "iopub.execute_input": "2024-11-06T17:50:40.077664Z",
     "iopub.status.busy": "2024-11-06T17:50:40.077306Z",
     "iopub.status.idle": "2024-11-06T17:50:40.147491Z",
     "shell.execute_reply": "2024-11-06T17:50:40.146163Z",
     "shell.execute_reply.started": "2024-11-06T17:50:40.077616Z"
    },
    "jupyter": {
     "outputs_hidden": false
    },
    "trusted": true
   },
   "outputs": [
    {
     "ename": "ValueError",
     "evalue": "Mime type rendering requires nbformat>=4.2.0 but it is not installed",
     "output_type": "error",
     "traceback": [
      "\u001b[0;31m---------------------------------------------------------------------------\u001b[0m",
      "\u001b[0;31mValueError\u001b[0m                                Traceback (most recent call last)",
      "Cell \u001b[0;32mIn[17], line 13\u001b[0m\n\u001b[1;32m      2\u001b[0m pie_fig \u001b[38;5;241m=\u001b[39m px\u001b[38;5;241m.\u001b[39mpie(cntry_revenue_df, \n\u001b[1;32m      3\u001b[0m                  names\u001b[38;5;241m=\u001b[39m\u001b[38;5;124m\"\u001b[39m\u001b[38;5;124mCountryCategory\u001b[39m\u001b[38;5;124m\"\u001b[39m, \n\u001b[1;32m      4\u001b[0m                  values\u001b[38;5;241m=\u001b[39m\u001b[38;5;124m\"\u001b[39m\u001b[38;5;124mPercentage\u001b[39m\u001b[38;5;124m\"\u001b[39m, \n\u001b[1;32m      5\u001b[0m                  title\u001b[38;5;241m=\u001b[39m\u001b[38;5;124m\"\u001b[39m\u001b[38;5;124mCountry Revenue in Percentage\u001b[39m\u001b[38;5;124m\"\u001b[39m\n\u001b[1;32m      6\u001b[0m                 )\n\u001b[1;32m      8\u001b[0m pie_fig\u001b[38;5;241m.\u001b[39mupdate_layout(title_x\u001b[38;5;241m=\u001b[39m\u001b[38;5;241m0\u001b[39m, \n\u001b[1;32m      9\u001b[0m                       legend_title\u001b[38;5;241m=\u001b[39m\u001b[38;5;124m\"\u001b[39m\u001b[38;5;124mCountries Represented\u001b[39m\u001b[38;5;124m\"\u001b[39m, \n\u001b[1;32m     10\u001b[0m                       legend\u001b[38;5;241m=\u001b[39m\u001b[38;5;28mdict\u001b[39m(orientation\u001b[38;5;241m=\u001b[39m\u001b[38;5;124m\"\u001b[39m\u001b[38;5;124mh\u001b[39m\u001b[38;5;124m\"\u001b[39m)\n\u001b[1;32m     11\u001b[0m                      )\n\u001b[0;32m---> 13\u001b[0m \u001b[43mpie_fig\u001b[49m\u001b[38;5;241;43m.\u001b[39;49m\u001b[43mshow\u001b[49m\u001b[43m(\u001b[49m\u001b[43mconfig\u001b[49m\u001b[38;5;241;43m=\u001b[39;49m\u001b[43m{\u001b[49m\u001b[38;5;124;43m'\u001b[39;49m\u001b[38;5;124;43mdisplaylogo\u001b[39;49m\u001b[38;5;124;43m'\u001b[39;49m\u001b[43m:\u001b[49m\u001b[43m \u001b[49m\u001b[38;5;28;43;01mFalse\u001b[39;49;00m\u001b[43m}\u001b[49m\u001b[43m)\u001b[49m\n",
      "File \u001b[0;32m~/.local/lib/python3.10/site-packages/plotly/basedatatypes.py:3410\u001b[0m, in \u001b[0;36mBaseFigure.show\u001b[0;34m(self, *args, **kwargs)\u001b[0m\n\u001b[1;32m   3377\u001b[0m \u001b[38;5;250m\u001b[39m\u001b[38;5;124;03m\"\"\"\u001b[39;00m\n\u001b[1;32m   3378\u001b[0m \u001b[38;5;124;03mShow a figure using either the default renderer(s) or the renderer(s)\u001b[39;00m\n\u001b[1;32m   3379\u001b[0m \u001b[38;5;124;03mspecified by the renderer argument\u001b[39;00m\n\u001b[0;32m   (...)\u001b[0m\n\u001b[1;32m   3406\u001b[0m \u001b[38;5;124;03mNone\u001b[39;00m\n\u001b[1;32m   3407\u001b[0m \u001b[38;5;124;03m\"\"\"\u001b[39;00m\n\u001b[1;32m   3408\u001b[0m \u001b[38;5;28;01mimport\u001b[39;00m \u001b[38;5;21;01mplotly\u001b[39;00m\u001b[38;5;21;01m.\u001b[39;00m\u001b[38;5;21;01mio\u001b[39;00m \u001b[38;5;28;01mas\u001b[39;00m \u001b[38;5;21;01mpio\u001b[39;00m\n\u001b[0;32m-> 3410\u001b[0m \u001b[38;5;28;01mreturn\u001b[39;00m \u001b[43mpio\u001b[49m\u001b[38;5;241;43m.\u001b[39;49m\u001b[43mshow\u001b[49m\u001b[43m(\u001b[49m\u001b[38;5;28;43mself\u001b[39;49m\u001b[43m,\u001b[49m\u001b[43m \u001b[49m\u001b[38;5;241;43m*\u001b[39;49m\u001b[43margs\u001b[49m\u001b[43m,\u001b[49m\u001b[43m \u001b[49m\u001b[38;5;241;43m*\u001b[39;49m\u001b[38;5;241;43m*\u001b[39;49m\u001b[43mkwargs\u001b[49m\u001b[43m)\u001b[49m\n",
      "File \u001b[0;32m~/.local/lib/python3.10/site-packages/plotly/io/_renderers.py:394\u001b[0m, in \u001b[0;36mshow\u001b[0;34m(fig, renderer, validate, **kwargs)\u001b[0m\n\u001b[1;32m    389\u001b[0m         \u001b[38;5;28;01mraise\u001b[39;00m \u001b[38;5;167;01mValueError\u001b[39;00m(\n\u001b[1;32m    390\u001b[0m             \u001b[38;5;124m\"\u001b[39m\u001b[38;5;124mMime type rendering requires ipython but it is not installed\u001b[39m\u001b[38;5;124m\"\u001b[39m\n\u001b[1;32m    391\u001b[0m         )\n\u001b[1;32m    393\u001b[0m     \u001b[38;5;28;01mif\u001b[39;00m \u001b[38;5;129;01mnot\u001b[39;00m nbformat \u001b[38;5;129;01mor\u001b[39;00m Version(nbformat\u001b[38;5;241m.\u001b[39m__version__) \u001b[38;5;241m<\u001b[39m Version(\u001b[38;5;124m\"\u001b[39m\u001b[38;5;124m4.2.0\u001b[39m\u001b[38;5;124m\"\u001b[39m):\n\u001b[0;32m--> 394\u001b[0m         \u001b[38;5;28;01mraise\u001b[39;00m \u001b[38;5;167;01mValueError\u001b[39;00m(\n\u001b[1;32m    395\u001b[0m             \u001b[38;5;124m\"\u001b[39m\u001b[38;5;124mMime type rendering requires nbformat>=4.2.0 but it is not installed\u001b[39m\u001b[38;5;124m\"\u001b[39m\n\u001b[1;32m    396\u001b[0m         )\n\u001b[1;32m    398\u001b[0m     ipython_display\u001b[38;5;241m.\u001b[39mdisplay(bundle, raw\u001b[38;5;241m=\u001b[39m\u001b[38;5;28;01mTrue\u001b[39;00m)\n\u001b[1;32m    400\u001b[0m \u001b[38;5;66;03m# external renderers\u001b[39;00m\n",
      "\u001b[0;31mValueError\u001b[0m: Mime type rendering requires nbformat>=4.2.0 but it is not installed"
     ]
    }
   ],
   "source": [
    "# plot pie chart\n",
    "pie_fig = px.pie(cntry_revenue_df, \n",
    "                 names=\"CountryCategory\", \n",
    "                 values=\"Percentage\", \n",
    "                 title=\"Country Revenue in Percentage\"\n",
    "                )\n",
    "\n",
    "pie_fig.update_layout(title_x=0, \n",
    "                      legend_title=\"Countries Represented\", \n",
    "                      legend=dict(orientation=\"h\")\n",
    "                     )\n",
    "\n",
    "pie_fig.show(config={'displaylogo': False})"
   ]
  },
  {
   "cell_type": "markdown",
   "metadata": {
    "_cell_guid": "f701f1a9-8d23-4de9-9b64-51b6a36b22e9",
    "_uuid": "38296278-0993-475e-9425-e4cf3b8d4854",
    "trusted": true
   },
   "source": [
    "### Predicting Customer Purchase"
   ]
  },
  {
   "cell_type": "markdown",
   "metadata": {
    "_cell_guid": "a9d12d5c-c775-4ceb-87ff-247e8e3e99af",
    "_uuid": "8356e847-4c12-4bc8-914e-b12c91bec48a",
    "trusted": true
   },
   "source": [
    "The goal of this section is to come up with a make a model using the given dataframe df_data, to estimate if a given customer will buy something again from the online shop in the next quarter.\n",
    "\n",
    "The dataframe is split into two:\n",
    "\n",
    "* The first sub-dataframe assigned to the Python variable ctm_bhvr_dt contains purchases made by customers from 01-12-2009 to 30-08-2011. This dataframe will be used to study the behavioural purchases of the online customers.\n",
    "\n",
    "\n",
    "* The second sub-dataframe assigned to the Python variable ctm_next_quarter will be used to study the behavioural purchases of the customers in the next quarter. That is, from 01-09-2011 to 30-11-2011."
   ]
  },
  {
   "cell_type": "code",
   "execution_count": 25,
   "metadata": {
    "_cell_guid": "d1bea6c3-c2ca-4c2a-b12e-8f46cc952094",
    "_uuid": "fbba40a3-479c-47af-9385-ac2b36977b42",
    "collapsed": false,
    "execution": {
     "iopub.execute_input": "2024-11-06T17:50:40.152977Z",
     "iopub.status.busy": "2024-11-06T17:50:40.152608Z",
     "iopub.status.idle": "2024-11-06T17:50:40.174584Z",
     "shell.execute_reply": "2024-11-06T17:50:40.173584Z",
     "shell.execute_reply.started": "2024-11-06T17:50:40.152936Z"
    },
    "jupyter": {
     "outputs_hidden": false
    },
    "trusted": true
   },
   "outputs": [
    {
     "data": {
      "text/html": [
       "<div>\n",
       "<style scoped>\n",
       "    .dataframe tbody tr th:only-of-type {\n",
       "        vertical-align: middle;\n",
       "    }\n",
       "\n",
       "    .dataframe tbody tr th {\n",
       "        vertical-align: top;\n",
       "    }\n",
       "\n",
       "    .dataframe thead th {\n",
       "        text-align: right;\n",
       "    }\n",
       "</style>\n",
       "<table border=\"1\" class=\"dataframe\">\n",
       "  <thead>\n",
       "    <tr style=\"text-align: right;\">\n",
       "      <th></th>\n",
       "      <th>InvoiceNo</th>\n",
       "      <th>StockCode</th>\n",
       "      <th>Description</th>\n",
       "      <th>Quantity</th>\n",
       "      <th>InvoiceDate</th>\n",
       "      <th>UnitPrice</th>\n",
       "      <th>CustomerID</th>\n",
       "      <th>Country</th>\n",
       "      <th>InvoiceYearMonth</th>\n",
       "      <th>Revenue</th>\n",
       "    </tr>\n",
       "  </thead>\n",
       "  <tbody>\n",
       "    <tr>\n",
       "      <th>0</th>\n",
       "      <td>489434</td>\n",
       "      <td>85048</td>\n",
       "      <td>15CM CHRISTMAS GLASS BALL 20 LIGHTS</td>\n",
       "      <td>12</td>\n",
       "      <td>2009-12-01 07:45:00</td>\n",
       "      <td>6.95</td>\n",
       "      <td>13085.0</td>\n",
       "      <td>United Kingdom</td>\n",
       "      <td>200912</td>\n",
       "      <td>83.4</td>\n",
       "    </tr>\n",
       "    <tr>\n",
       "      <th>1</th>\n",
       "      <td>489434</td>\n",
       "      <td>79323P</td>\n",
       "      <td>PINK CHERRY LIGHTS</td>\n",
       "      <td>12</td>\n",
       "      <td>2009-12-01 07:45:00</td>\n",
       "      <td>6.75</td>\n",
       "      <td>13085.0</td>\n",
       "      <td>United Kingdom</td>\n",
       "      <td>200912</td>\n",
       "      <td>81.0</td>\n",
       "    </tr>\n",
       "    <tr>\n",
       "      <th>2</th>\n",
       "      <td>489434</td>\n",
       "      <td>79323W</td>\n",
       "      <td>WHITE CHERRY LIGHTS</td>\n",
       "      <td>12</td>\n",
       "      <td>2009-12-01 07:45:00</td>\n",
       "      <td>6.75</td>\n",
       "      <td>13085.0</td>\n",
       "      <td>United Kingdom</td>\n",
       "      <td>200912</td>\n",
       "      <td>81.0</td>\n",
       "    </tr>\n",
       "    <tr>\n",
       "      <th>3</th>\n",
       "      <td>489434</td>\n",
       "      <td>22041</td>\n",
       "      <td>RECORD FRAME 7\" SINGLE SIZE</td>\n",
       "      <td>48</td>\n",
       "      <td>2009-12-01 07:45:00</td>\n",
       "      <td>2.10</td>\n",
       "      <td>13085.0</td>\n",
       "      <td>United Kingdom</td>\n",
       "      <td>200912</td>\n",
       "      <td>100.8</td>\n",
       "    </tr>\n",
       "    <tr>\n",
       "      <th>4</th>\n",
       "      <td>489434</td>\n",
       "      <td>21232</td>\n",
       "      <td>STRAWBERRY CERAMIC TRINKET BOX</td>\n",
       "      <td>24</td>\n",
       "      <td>2009-12-01 07:45:00</td>\n",
       "      <td>1.25</td>\n",
       "      <td>13085.0</td>\n",
       "      <td>United Kingdom</td>\n",
       "      <td>200912</td>\n",
       "      <td>30.0</td>\n",
       "    </tr>\n",
       "  </tbody>\n",
       "</table>\n",
       "</div>"
      ],
      "text/plain": [
       "  InvoiceNo StockCode                          Description  Quantity  \\\n",
       "0    489434     85048  15CM CHRISTMAS GLASS BALL 20 LIGHTS        12   \n",
       "1    489434    79323P                   PINK CHERRY LIGHTS        12   \n",
       "2    489434    79323W                  WHITE CHERRY LIGHTS        12   \n",
       "3    489434     22041         RECORD FRAME 7\" SINGLE SIZE         48   \n",
       "4    489434     21232       STRAWBERRY CERAMIC TRINKET BOX        24   \n",
       "\n",
       "          InvoiceDate  UnitPrice  CustomerID         Country  \\\n",
       "0 2009-12-01 07:45:00       6.95     13085.0  United Kingdom   \n",
       "1 2009-12-01 07:45:00       6.75     13085.0  United Kingdom   \n",
       "2 2009-12-01 07:45:00       6.75     13085.0  United Kingdom   \n",
       "3 2009-12-01 07:45:00       2.10     13085.0  United Kingdom   \n",
       "4 2009-12-01 07:45:00       1.25     13085.0  United Kingdom   \n",
       "\n",
       "   InvoiceYearMonth  Revenue  \n",
       "0            200912     83.4  \n",
       "1            200912     81.0  \n",
       "2            200912     81.0  \n",
       "3            200912    100.8  \n",
       "4            200912     30.0  "
      ]
     },
     "execution_count": 25,
     "metadata": {},
     "output_type": "execute_result"
    }
   ],
   "source": [
    "df_data.head()"
   ]
  },
  {
   "cell_type": "code",
   "execution_count": 18,
   "metadata": {
    "_cell_guid": "ee6ae672-1517-413d-867b-312747ebd342",
    "_uuid": "4ab24cd3-f98f-440d-bb15-0561e0a246c0",
    "collapsed": false,
    "execution": {
     "iopub.execute_input": "2024-11-06T17:50:40.177392Z",
     "iopub.status.busy": "2024-11-06T17:50:40.176286Z",
     "iopub.status.idle": "2024-11-06T17:50:40.357184Z",
     "shell.execute_reply": "2024-11-06T17:50:40.356172Z",
     "shell.execute_reply.started": "2024-11-06T17:50:40.177339Z"
    },
    "jupyter": {
     "outputs_hidden": false
    },
    "trusted": true
   },
   "outputs": [],
   "source": [
    "ctm_bhvr_dt = df_data[(df_data.InvoiceDate < pd.Timestamp(2011,9,1)) & \n",
    "      (df_data.InvoiceDate >= pd.Timestamp(2009,12,1))].reset_index(drop=True)\n",
    "\n",
    "\n",
    "ctm_next_quarter = df_data[(df_data.InvoiceDate < pd.Timestamp(2011,12,1)) & \n",
    "      (df_data.InvoiceDate >= pd.Timestamp(2011,9,1))].reset_index(drop=True)"
   ]
  },
  {
   "cell_type": "code",
   "execution_count": 19,
   "metadata": {
    "_cell_guid": "0e31edf4-0975-4e19-a710-99e7cd6f06e3",
    "_uuid": "64646799-235f-47ff-91cf-70e4883936c0",
    "collapsed": false,
    "execution": {
     "iopub.execute_input": "2024-11-06T17:50:40.358934Z",
     "iopub.status.busy": "2024-11-06T17:50:40.358587Z",
     "iopub.status.idle": "2024-11-06T17:50:40.382344Z",
     "shell.execute_reply": "2024-11-06T17:50:40.381375Z",
     "shell.execute_reply.started": "2024-11-06T17:50:40.358889Z"
    },
    "jupyter": {
     "outputs_hidden": false
    },
    "trusted": true
   },
   "outputs": [
    {
     "data": {
      "text/html": [
       "<div>\n",
       "<style scoped>\n",
       "    .dataframe tbody tr th:only-of-type {\n",
       "        vertical-align: middle;\n",
       "    }\n",
       "\n",
       "    .dataframe tbody tr th {\n",
       "        vertical-align: top;\n",
       "    }\n",
       "\n",
       "    .dataframe thead th {\n",
       "        text-align: right;\n",
       "    }\n",
       "</style>\n",
       "<table border=\"1\" class=\"dataframe\">\n",
       "  <thead>\n",
       "    <tr style=\"text-align: right;\">\n",
       "      <th></th>\n",
       "      <th>CustomerID</th>\n",
       "    </tr>\n",
       "  </thead>\n",
       "  <tbody>\n",
       "    <tr>\n",
       "      <th>0</th>\n",
       "      <td>13085.0</td>\n",
       "    </tr>\n",
       "    <tr>\n",
       "      <th>1</th>\n",
       "      <td>13078.0</td>\n",
       "    </tr>\n",
       "    <tr>\n",
       "      <th>2</th>\n",
       "      <td>15362.0</td>\n",
       "    </tr>\n",
       "    <tr>\n",
       "      <th>3</th>\n",
       "      <td>18102.0</td>\n",
       "    </tr>\n",
       "    <tr>\n",
       "      <th>4</th>\n",
       "      <td>12682.0</td>\n",
       "    </tr>\n",
       "  </tbody>\n",
       "</table>\n",
       "</div>"
      ],
      "text/plain": [
       "   CustomerID\n",
       "0     13085.0\n",
       "1     13078.0\n",
       "2     15362.0\n",
       "3     18102.0\n",
       "4     12682.0"
      ]
     },
     "execution_count": 19,
     "metadata": {},
     "output_type": "execute_result"
    }
   ],
   "source": [
    "# Get the distinct customers in the dataframe ctm_bhvr_dt\n",
    "ctm_dt = pd.DataFrame(ctm_bhvr_dt['CustomerID'].unique())\n",
    "\n",
    "# Rename the column to CustomerID.\n",
    "ctm_dt.columns = ['CustomerID']\n",
    "\n",
    "ctm_dt.head()"
   ]
  },
  {
   "cell_type": "markdown",
   "metadata": {
    "_cell_guid": "6cd3c5f7-338f-4c96-8852-9a94fd1b1806",
    "_uuid": "83294179-28f8-436f-9165-2977993d7a6a",
    "trusted": true
   },
   "source": [
    "Let's find the first purchase made by each customer in the next quarter."
   ]
  },
  {
   "cell_type": "code",
   "execution_count": 20,
   "metadata": {
    "_cell_guid": "9f048159-84f7-45a0-930c-49252a4240e8",
    "_uuid": "cd419665-9687-452c-bacc-1faafe2a1d43",
    "collapsed": false,
    "execution": {
     "iopub.execute_input": "2024-11-06T17:50:40.383987Z",
     "iopub.status.busy": "2024-11-06T17:50:40.383632Z",
     "iopub.status.idle": "2024-11-06T17:50:40.408014Z",
     "shell.execute_reply": "2024-11-06T17:50:40.407061Z",
     "shell.execute_reply.started": "2024-11-06T17:50:40.383952Z"
    },
    "jupyter": {
     "outputs_hidden": false
    },
    "trusted": true
   },
   "outputs": [
    {
     "data": {
      "text/html": [
       "<div>\n",
       "<style scoped>\n",
       "    .dataframe tbody tr th:only-of-type {\n",
       "        vertical-align: middle;\n",
       "    }\n",
       "\n",
       "    .dataframe tbody tr th {\n",
       "        vertical-align: top;\n",
       "    }\n",
       "\n",
       "    .dataframe thead th {\n",
       "        text-align: right;\n",
       "    }\n",
       "</style>\n",
       "<table border=\"1\" class=\"dataframe\">\n",
       "  <thead>\n",
       "    <tr style=\"text-align: right;\">\n",
       "      <th></th>\n",
       "      <th>CustomerID</th>\n",
       "      <th>MinPurchaseDate</th>\n",
       "    </tr>\n",
       "  </thead>\n",
       "  <tbody>\n",
       "    <tr>\n",
       "      <th>0</th>\n",
       "      <td>12347.0</td>\n",
       "      <td>2011-10-31 12:25:00</td>\n",
       "    </tr>\n",
       "    <tr>\n",
       "      <th>1</th>\n",
       "      <td>12348.0</td>\n",
       "      <td>2011-09-25 13:13:00</td>\n",
       "    </tr>\n",
       "    <tr>\n",
       "      <th>2</th>\n",
       "      <td>12352.0</td>\n",
       "      <td>2011-09-20 14:34:00</td>\n",
       "    </tr>\n",
       "    <tr>\n",
       "      <th>3</th>\n",
       "      <td>12357.0</td>\n",
       "      <td>2011-11-06 16:07:00</td>\n",
       "    </tr>\n",
       "    <tr>\n",
       "      <th>4</th>\n",
       "      <td>12359.0</td>\n",
       "      <td>2011-10-13 12:47:00</td>\n",
       "    </tr>\n",
       "  </tbody>\n",
       "</table>\n",
       "</div>"
      ],
      "text/plain": [
       "   CustomerID     MinPurchaseDate\n",
       "0     12347.0 2011-10-31 12:25:00\n",
       "1     12348.0 2011-09-25 13:13:00\n",
       "2     12352.0 2011-09-20 14:34:00\n",
       "3     12357.0 2011-11-06 16:07:00\n",
       "4     12359.0 2011-10-13 12:47:00"
      ]
     },
     "execution_count": 20,
     "metadata": {},
     "output_type": "execute_result"
    }
   ],
   "source": [
    "# Create a dataframe with CustomerID and customers first purchase \n",
    "# date in ctm_next_quarter\n",
    "ctm_1st_purchase_in_next_quarter = ctm_next_quarter.groupby('CustomerID').InvoiceDate.min().reset_index()\n",
    "ctm_1st_purchase_in_next_quarter.columns = ['CustomerID','MinPurchaseDate']\n",
    "ctm_1st_purchase_in_next_quarter.head()"
   ]
  },
  {
   "cell_type": "markdown",
   "metadata": {
    "_cell_guid": "59194e10-9bf2-4d53-9e8e-3e03b2c8df8b",
    "_uuid": "6d5035e9-0ef2-4ba8-98a4-fdfee3e22bb2",
    "trusted": true
   },
   "source": [
    "Let's find the last purchase made by each customer in the dataframe ctm_bhvr_dt."
   ]
  },
  {
   "cell_type": "code",
   "execution_count": 21,
   "metadata": {
    "_cell_guid": "b21554ca-23a4-4cdd-af7b-606f5ca09bf9",
    "_uuid": "374fd3a3-6adf-4294-9602-fd8096a9e750",
    "collapsed": false,
    "execution": {
     "iopub.execute_input": "2024-11-06T17:50:40.409788Z",
     "iopub.status.busy": "2024-11-06T17:50:40.409442Z",
     "iopub.status.idle": "2024-11-06T17:50:40.448896Z",
     "shell.execute_reply": "2024-11-06T17:50:40.447872Z",
     "shell.execute_reply.started": "2024-11-06T17:50:40.409729Z"
    },
    "jupyter": {
     "outputs_hidden": false
    },
    "trusted": true
   },
   "outputs": [
    {
     "data": {
      "text/html": [
       "<div>\n",
       "<style scoped>\n",
       "    .dataframe tbody tr th:only-of-type {\n",
       "        vertical-align: middle;\n",
       "    }\n",
       "\n",
       "    .dataframe tbody tr th {\n",
       "        vertical-align: top;\n",
       "    }\n",
       "\n",
       "    .dataframe thead th {\n",
       "        text-align: right;\n",
       "    }\n",
       "</style>\n",
       "<table border=\"1\" class=\"dataframe\">\n",
       "  <thead>\n",
       "    <tr style=\"text-align: right;\">\n",
       "      <th></th>\n",
       "      <th>CustomerID</th>\n",
       "      <th>MaxPurchaseDate</th>\n",
       "    </tr>\n",
       "  </thead>\n",
       "  <tbody>\n",
       "    <tr>\n",
       "      <th>0</th>\n",
       "      <td>12346.0</td>\n",
       "      <td>2011-01-18 10:17:00</td>\n",
       "    </tr>\n",
       "    <tr>\n",
       "      <th>1</th>\n",
       "      <td>12347.0</td>\n",
       "      <td>2011-08-02 08:48:00</td>\n",
       "    </tr>\n",
       "    <tr>\n",
       "      <th>2</th>\n",
       "      <td>12348.0</td>\n",
       "      <td>2011-04-05 10:47:00</td>\n",
       "    </tr>\n",
       "    <tr>\n",
       "      <th>3</th>\n",
       "      <td>12349.0</td>\n",
       "      <td>2010-10-28 08:23:00</td>\n",
       "    </tr>\n",
       "    <tr>\n",
       "      <th>4</th>\n",
       "      <td>12350.0</td>\n",
       "      <td>2011-02-02 16:01:00</td>\n",
       "    </tr>\n",
       "  </tbody>\n",
       "</table>\n",
       "</div>"
      ],
      "text/plain": [
       "   CustomerID     MaxPurchaseDate\n",
       "0     12346.0 2011-01-18 10:17:00\n",
       "1     12347.0 2011-08-02 08:48:00\n",
       "2     12348.0 2011-04-05 10:47:00\n",
       "3     12349.0 2010-10-28 08:23:00\n",
       "4     12350.0 2011-02-02 16:01:00"
      ]
     },
     "execution_count": 21,
     "metadata": {},
     "output_type": "execute_result"
    }
   ],
   "source": [
    "ctm_last_purchase_bhvr_dt = ctm_bhvr_dt.groupby('CustomerID').InvoiceDate.max().reset_index()\n",
    "ctm_last_purchase_bhvr_dt.columns = ['CustomerID','MaxPurchaseDate']\n",
    "ctm_last_purchase_bhvr_dt.head()"
   ]
  },
  {
   "cell_type": "markdown",
   "metadata": {
    "_cell_guid": "c92e7527-d074-436e-b95c-f1cae7d51a77",
    "_uuid": "ba9777b9-88e0-4e91-9f5b-21b7ca00e607",
    "trusted": true
   },
   "source": [
    "Let's merge the two dataframes ctm_last_purchase_bhvr_dt and ctm_1st_purchase_in_next_quarter."
   ]
  },
  {
   "cell_type": "code",
   "execution_count": 22,
   "metadata": {
    "_cell_guid": "53931166-301d-4181-aea0-64551e07d26b",
    "_uuid": "c0e51332-850a-46cf-99d7-1933fb2733dc",
    "collapsed": false,
    "execution": {
     "iopub.execute_input": "2024-11-06T17:50:40.450741Z",
     "iopub.status.busy": "2024-11-06T17:50:40.450404Z",
     "iopub.status.idle": "2024-11-06T17:50:40.478358Z",
     "shell.execute_reply": "2024-11-06T17:50:40.477340Z",
     "shell.execute_reply.started": "2024-11-06T17:50:40.450694Z"
    },
    "jupyter": {
     "outputs_hidden": false
    },
    "trusted": true
   },
   "outputs": [
    {
     "data": {
      "text/html": [
       "<div>\n",
       "<style scoped>\n",
       "    .dataframe tbody tr th:only-of-type {\n",
       "        vertical-align: middle;\n",
       "    }\n",
       "\n",
       "    .dataframe tbody tr th {\n",
       "        vertical-align: top;\n",
       "    }\n",
       "\n",
       "    .dataframe thead th {\n",
       "        text-align: right;\n",
       "    }\n",
       "</style>\n",
       "<table border=\"1\" class=\"dataframe\">\n",
       "  <thead>\n",
       "    <tr style=\"text-align: right;\">\n",
       "      <th></th>\n",
       "      <th>CustomerID</th>\n",
       "      <th>MaxPurchaseDate</th>\n",
       "      <th>MinPurchaseDate</th>\n",
       "    </tr>\n",
       "  </thead>\n",
       "  <tbody>\n",
       "    <tr>\n",
       "      <th>0</th>\n",
       "      <td>12346.0</td>\n",
       "      <td>2011-01-18 10:17:00</td>\n",
       "      <td>NaT</td>\n",
       "    </tr>\n",
       "    <tr>\n",
       "      <th>1</th>\n",
       "      <td>12347.0</td>\n",
       "      <td>2011-08-02 08:48:00</td>\n",
       "      <td>2011-10-31 12:25:00</td>\n",
       "    </tr>\n",
       "    <tr>\n",
       "      <th>2</th>\n",
       "      <td>12348.0</td>\n",
       "      <td>2011-04-05 10:47:00</td>\n",
       "      <td>2011-09-25 13:13:00</td>\n",
       "    </tr>\n",
       "    <tr>\n",
       "      <th>3</th>\n",
       "      <td>12349.0</td>\n",
       "      <td>2010-10-28 08:23:00</td>\n",
       "      <td>NaT</td>\n",
       "    </tr>\n",
       "    <tr>\n",
       "      <th>4</th>\n",
       "      <td>12350.0</td>\n",
       "      <td>2011-02-02 16:01:00</td>\n",
       "      <td>NaT</td>\n",
       "    </tr>\n",
       "  </tbody>\n",
       "</table>\n",
       "</div>"
      ],
      "text/plain": [
       "   CustomerID     MaxPurchaseDate     MinPurchaseDate\n",
       "0     12346.0 2011-01-18 10:17:00                 NaT\n",
       "1     12347.0 2011-08-02 08:48:00 2011-10-31 12:25:00\n",
       "2     12348.0 2011-04-05 10:47:00 2011-09-25 13:13:00\n",
       "3     12349.0 2010-10-28 08:23:00                 NaT\n",
       "4     12350.0 2011-02-02 16:01:00                 NaT"
      ]
     },
     "execution_count": 22,
     "metadata": {},
     "output_type": "execute_result"
    }
   ],
   "source": [
    "# Merge two dataframes ctm_last_purchase_bhvr_dt and ctm_1st_purchase_in_next_quarter\n",
    "ctm_purchase_dates = pd.merge(ctm_last_purchase_bhvr_dt, ctm_1st_purchase_in_next_quarter, on='CustomerID', \n",
    "                              how='left')\n",
    "ctm_purchase_dates.head()"
   ]
  },
  {
   "cell_type": "markdown",
   "metadata": {
    "_cell_guid": "bc2d9bfe-3452-4c08-a993-6fc60d96c056",
    "_uuid": "cfad4a3c-e5fe-4eb4-8bec-40328f1995fe",
    "trusted": true
   },
   "source": [
    "Let's calculate the time difference in days between customer's last purchase in the dataframe ctm_last_purchase_bhvr_dt and the first purchase in the dataframe ctm_1st_purchase_in_next_quarter."
   ]
  },
  {
   "cell_type": "code",
   "execution_count": 23,
   "metadata": {
    "_cell_guid": "c6869e62-0dc6-4cdc-a4a0-8db267224339",
    "_uuid": "86b839e4-b8dd-44d9-93d0-fdfbca083730",
    "collapsed": false,
    "execution": {
     "iopub.execute_input": "2024-11-06T17:50:40.479948Z",
     "iopub.status.busy": "2024-11-06T17:50:40.479665Z",
     "iopub.status.idle": "2024-11-06T17:50:40.500555Z",
     "shell.execute_reply": "2024-11-06T17:50:40.499478Z",
     "shell.execute_reply.started": "2024-11-06T17:50:40.479913Z"
    },
    "jupyter": {
     "outputs_hidden": false
    },
    "trusted": true
   },
   "outputs": [
    {
     "data": {
      "text/html": [
       "<div>\n",
       "<style scoped>\n",
       "    .dataframe tbody tr th:only-of-type {\n",
       "        vertical-align: middle;\n",
       "    }\n",
       "\n",
       "    .dataframe tbody tr th {\n",
       "        vertical-align: top;\n",
       "    }\n",
       "\n",
       "    .dataframe thead th {\n",
       "        text-align: right;\n",
       "    }\n",
       "</style>\n",
       "<table border=\"1\" class=\"dataframe\">\n",
       "  <thead>\n",
       "    <tr style=\"text-align: right;\">\n",
       "      <th></th>\n",
       "      <th>CustomerID</th>\n",
       "      <th>MaxPurchaseDate</th>\n",
       "      <th>MinPurchaseDate</th>\n",
       "      <th>NextPurchaseDay</th>\n",
       "    </tr>\n",
       "  </thead>\n",
       "  <tbody>\n",
       "    <tr>\n",
       "      <th>0</th>\n",
       "      <td>12346.0</td>\n",
       "      <td>2011-01-18 10:17:00</td>\n",
       "      <td>NaT</td>\n",
       "      <td>NaN</td>\n",
       "    </tr>\n",
       "    <tr>\n",
       "      <th>1</th>\n",
       "      <td>12347.0</td>\n",
       "      <td>2011-08-02 08:48:00</td>\n",
       "      <td>2011-10-31 12:25:00</td>\n",
       "      <td>90.0</td>\n",
       "    </tr>\n",
       "    <tr>\n",
       "      <th>2</th>\n",
       "      <td>12348.0</td>\n",
       "      <td>2011-04-05 10:47:00</td>\n",
       "      <td>2011-09-25 13:13:00</td>\n",
       "      <td>173.0</td>\n",
       "    </tr>\n",
       "    <tr>\n",
       "      <th>3</th>\n",
       "      <td>12349.0</td>\n",
       "      <td>2010-10-28 08:23:00</td>\n",
       "      <td>NaT</td>\n",
       "      <td>NaN</td>\n",
       "    </tr>\n",
       "    <tr>\n",
       "      <th>4</th>\n",
       "      <td>12350.0</td>\n",
       "      <td>2011-02-02 16:01:00</td>\n",
       "      <td>NaT</td>\n",
       "      <td>NaN</td>\n",
       "    </tr>\n",
       "  </tbody>\n",
       "</table>\n",
       "</div>"
      ],
      "text/plain": [
       "   CustomerID     MaxPurchaseDate     MinPurchaseDate  NextPurchaseDay\n",
       "0     12346.0 2011-01-18 10:17:00                 NaT              NaN\n",
       "1     12347.0 2011-08-02 08:48:00 2011-10-31 12:25:00             90.0\n",
       "2     12348.0 2011-04-05 10:47:00 2011-09-25 13:13:00            173.0\n",
       "3     12349.0 2010-10-28 08:23:00                 NaT              NaN\n",
       "4     12350.0 2011-02-02 16:01:00                 NaT              NaN"
      ]
     },
     "execution_count": 23,
     "metadata": {},
     "output_type": "execute_result"
    }
   ],
   "source": [
    "ctm_purchase_dates['NextPurchaseDay'] = (ctm_purchase_dates['MinPurchaseDate'] - ctm_purchase_dates['MaxPurchaseDate']).dt.days\n",
    "\n",
    "ctm_purchase_dates.head()"
   ]
  },
  {
   "cell_type": "code",
   "execution_count": 24,
   "metadata": {
    "_cell_guid": "8160ef98-906c-4f8e-8a64-c8e455e3e655",
    "_uuid": "37a28514-bcfb-46e3-89b9-478a0e5b7ca4",
    "collapsed": false,
    "execution": {
     "iopub.execute_input": "2024-11-06T17:50:40.502405Z",
     "iopub.status.busy": "2024-11-06T17:50:40.502046Z",
     "iopub.status.idle": "2024-11-06T17:50:40.527166Z",
     "shell.execute_reply": "2024-11-06T17:50:40.526121Z",
     "shell.execute_reply.started": "2024-11-06T17:50:40.502363Z"
    },
    "jupyter": {
     "outputs_hidden": false
    },
    "trusted": true
   },
   "outputs": [
    {
     "data": {
      "text/html": [
       "<div>\n",
       "<style scoped>\n",
       "    .dataframe tbody tr th:only-of-type {\n",
       "        vertical-align: middle;\n",
       "    }\n",
       "\n",
       "    .dataframe tbody tr th {\n",
       "        vertical-align: top;\n",
       "    }\n",
       "\n",
       "    .dataframe thead th {\n",
       "        text-align: right;\n",
       "    }\n",
       "</style>\n",
       "<table border=\"1\" class=\"dataframe\">\n",
       "  <thead>\n",
       "    <tr style=\"text-align: right;\">\n",
       "      <th></th>\n",
       "      <th>CustomerID</th>\n",
       "      <th>NextPurchaseDay</th>\n",
       "    </tr>\n",
       "  </thead>\n",
       "  <tbody>\n",
       "    <tr>\n",
       "      <th>0</th>\n",
       "      <td>13085.0</td>\n",
       "      <td>NaN</td>\n",
       "    </tr>\n",
       "    <tr>\n",
       "      <th>1</th>\n",
       "      <td>13078.0</td>\n",
       "      <td>13.0</td>\n",
       "    </tr>\n",
       "    <tr>\n",
       "      <th>2</th>\n",
       "      <td>15362.0</td>\n",
       "      <td>NaN</td>\n",
       "    </tr>\n",
       "    <tr>\n",
       "      <th>3</th>\n",
       "      <td>18102.0</td>\n",
       "      <td>27.0</td>\n",
       "    </tr>\n",
       "    <tr>\n",
       "      <th>4</th>\n",
       "      <td>12682.0</td>\n",
       "      <td>15.0</td>\n",
       "    </tr>\n",
       "  </tbody>\n",
       "</table>\n",
       "</div>"
      ],
      "text/plain": [
       "   CustomerID  NextPurchaseDay\n",
       "0     13085.0              NaN\n",
       "1     13078.0             13.0\n",
       "2     15362.0              NaN\n",
       "3     18102.0             27.0\n",
       "4     12682.0             15.0"
      ]
     },
     "execution_count": 24,
     "metadata": {},
     "output_type": "execute_result"
    }
   ],
   "source": [
    "# merge with ctm_dt \n",
    "ctm_dt = pd.merge(ctm_dt, ctm_purchase_dates[['CustomerID','NextPurchaseDay']], on='CustomerID', how='left')\n",
    "ctm_dt.head()"
   ]
  },
  {
   "cell_type": "markdown",
   "metadata": {
    "_cell_guid": "07bc4b61-d400-4586-9248-c66e0d169ea7",
    "_uuid": "899dd3bc-3236-4707-98c7-9b42078739d4",
    "trusted": true
   },
   "source": [
    "Update the dataframe ctm_dt by filling all missing values with 9999"
   ]
  },
  {
   "cell_type": "code",
   "execution_count": 25,
   "metadata": {
    "_cell_guid": "565f4a37-d539-45ff-bb43-e2a5de63649b",
    "_uuid": "86a5d807-d5b3-4861-b57d-93ac650837fe",
    "collapsed": false,
    "execution": {
     "iopub.execute_input": "2024-11-06T17:50:40.528926Z",
     "iopub.status.busy": "2024-11-06T17:50:40.528566Z",
     "iopub.status.idle": "2024-11-06T17:50:40.543632Z",
     "shell.execute_reply": "2024-11-06T17:50:40.542144Z",
     "shell.execute_reply.started": "2024-11-06T17:50:40.528876Z"
    },
    "jupyter": {
     "outputs_hidden": false
    },
    "trusted": true
   },
   "outputs": [
    {
     "data": {
      "text/html": [
       "<div>\n",
       "<style scoped>\n",
       "    .dataframe tbody tr th:only-of-type {\n",
       "        vertical-align: middle;\n",
       "    }\n",
       "\n",
       "    .dataframe tbody tr th {\n",
       "        vertical-align: top;\n",
       "    }\n",
       "\n",
       "    .dataframe thead th {\n",
       "        text-align: right;\n",
       "    }\n",
       "</style>\n",
       "<table border=\"1\" class=\"dataframe\">\n",
       "  <thead>\n",
       "    <tr style=\"text-align: right;\">\n",
       "      <th></th>\n",
       "      <th>CustomerID</th>\n",
       "      <th>NextPurchaseDay</th>\n",
       "    </tr>\n",
       "  </thead>\n",
       "  <tbody>\n",
       "    <tr>\n",
       "      <th>0</th>\n",
       "      <td>13085.0</td>\n",
       "      <td>9999.0</td>\n",
       "    </tr>\n",
       "    <tr>\n",
       "      <th>1</th>\n",
       "      <td>13078.0</td>\n",
       "      <td>13.0</td>\n",
       "    </tr>\n",
       "    <tr>\n",
       "      <th>2</th>\n",
       "      <td>15362.0</td>\n",
       "      <td>9999.0</td>\n",
       "    </tr>\n",
       "    <tr>\n",
       "      <th>3</th>\n",
       "      <td>18102.0</td>\n",
       "      <td>27.0</td>\n",
       "    </tr>\n",
       "    <tr>\n",
       "      <th>4</th>\n",
       "      <td>12682.0</td>\n",
       "      <td>15.0</td>\n",
       "    </tr>\n",
       "  </tbody>\n",
       "</table>\n",
       "</div>"
      ],
      "text/plain": [
       "   CustomerID  NextPurchaseDay\n",
       "0     13085.0           9999.0\n",
       "1     13078.0             13.0\n",
       "2     15362.0           9999.0\n",
       "3     18102.0             27.0\n",
       "4     12682.0             15.0"
      ]
     },
     "execution_count": 25,
     "metadata": {},
     "output_type": "execute_result"
    }
   ],
   "source": [
    "ctm_dt = ctm_dt.fillna(9999)\n",
    "ctm_dt.head()"
   ]
  },
  {
   "cell_type": "markdown",
   "metadata": {
    "_cell_guid": "3f95befd-c26c-4a50-b9bf-c4fdcaadef9d",
    "_uuid": "5e9babb4-8447-4fa2-911d-cac274ea3a15",
    "trusted": true
   },
   "source": [
    "Next, we will define some features and add them to the dataframe ctm_dt to build our machine learning model. We will use the Recency - Frequency - Monetary Value segmentation method. That is, we will put the customers into groups based on the following:\n",
    "\n",
    "* Recency: Customers purchase behaviour based on their most recent purchase date and how many days they have been inactive since their last purchase.\n",
    "\n",
    "\n",
    "* Frequency: Customers purchase behaviour based on the number of times they buy from the online retail shop.\n",
    "\n",
    "\n",
    "* Monetary Value/Revenue: Customers purchase behaviour based the revenue they generate.\n",
    "\n",
    "After we will apply K-means clustering to assign customers a score to each of the features."
   ]
  },
  {
   "cell_type": "markdown",
   "metadata": {
    "_cell_guid": "f2ec3da8-7812-43ee-a17e-3b56ab8d1544",
    "_uuid": "c5335aa2-2be3-4d3f-921b-e48565cf2358",
    "trusted": true
   },
   "source": [
    "**Recency**\n",
    "\n",
    "Let's find the most recent purchase date of each customer and see how many days they have been inactive. Afterwards, we can apply K-means clustering to assign customers a recency score."
   ]
  },
  {
   "cell_type": "code",
   "execution_count": 26,
   "metadata": {
    "_cell_guid": "26a9423d-4f46-44e3-841b-3e3f351d97a2",
    "_uuid": "635ff9d1-e16c-4a04-9b5c-6eb9b9291175",
    "collapsed": false,
    "execution": {
     "iopub.execute_input": "2024-11-06T17:50:40.545965Z",
     "iopub.status.busy": "2024-11-06T17:50:40.545344Z",
     "iopub.status.idle": "2024-11-06T17:50:40.582661Z",
     "shell.execute_reply": "2024-11-06T17:50:40.581679Z",
     "shell.execute_reply.started": "2024-11-06T17:50:40.545900Z"
    },
    "jupyter": {
     "outputs_hidden": false
    },
    "trusted": true
   },
   "outputs": [
    {
     "data": {
      "text/html": [
       "<div>\n",
       "<style scoped>\n",
       "    .dataframe tbody tr th:only-of-type {\n",
       "        vertical-align: middle;\n",
       "    }\n",
       "\n",
       "    .dataframe tbody tr th {\n",
       "        vertical-align: top;\n",
       "    }\n",
       "\n",
       "    .dataframe thead th {\n",
       "        text-align: right;\n",
       "    }\n",
       "</style>\n",
       "<table border=\"1\" class=\"dataframe\">\n",
       "  <thead>\n",
       "    <tr style=\"text-align: right;\">\n",
       "      <th></th>\n",
       "      <th>CustomerID</th>\n",
       "      <th>MaxPurchaseDate</th>\n",
       "    </tr>\n",
       "  </thead>\n",
       "  <tbody>\n",
       "    <tr>\n",
       "      <th>0</th>\n",
       "      <td>12346.0</td>\n",
       "      <td>2011-01-18 10:17:00</td>\n",
       "    </tr>\n",
       "    <tr>\n",
       "      <th>1</th>\n",
       "      <td>12347.0</td>\n",
       "      <td>2011-08-02 08:48:00</td>\n",
       "    </tr>\n",
       "    <tr>\n",
       "      <th>2</th>\n",
       "      <td>12348.0</td>\n",
       "      <td>2011-04-05 10:47:00</td>\n",
       "    </tr>\n",
       "    <tr>\n",
       "      <th>3</th>\n",
       "      <td>12349.0</td>\n",
       "      <td>2010-10-28 08:23:00</td>\n",
       "    </tr>\n",
       "    <tr>\n",
       "      <th>4</th>\n",
       "      <td>12350.0</td>\n",
       "      <td>2011-02-02 16:01:00</td>\n",
       "    </tr>\n",
       "  </tbody>\n",
       "</table>\n",
       "</div>"
      ],
      "text/plain": [
       "   CustomerID     MaxPurchaseDate\n",
       "0     12346.0 2011-01-18 10:17:00\n",
       "1     12347.0 2011-08-02 08:48:00\n",
       "2     12348.0 2011-04-05 10:47:00\n",
       "3     12349.0 2010-10-28 08:23:00\n",
       "4     12350.0 2011-02-02 16:01:00"
      ]
     },
     "execution_count": 26,
     "metadata": {},
     "output_type": "execute_result"
    }
   ],
   "source": [
    "ctm_max_purchase = ctm_bhvr_dt.groupby('CustomerID').InvoiceDate.max().reset_index()\n",
    "ctm_max_purchase.columns = ['CustomerID','MaxPurchaseDate']\n",
    "ctm_max_purchase.head()"
   ]
  },
  {
   "cell_type": "code",
   "execution_count": 27,
   "metadata": {
    "_cell_guid": "1140f057-02b9-4098-942f-cf4a41d21e59",
    "_uuid": "7a6a4cbd-3200-471b-a9da-e372bf22a3de",
    "collapsed": false,
    "execution": {
     "iopub.execute_input": "2024-11-06T17:50:40.584849Z",
     "iopub.status.busy": "2024-11-06T17:50:40.584312Z",
     "iopub.status.idle": "2024-11-06T17:50:40.611354Z",
     "shell.execute_reply": "2024-11-06T17:50:40.610168Z",
     "shell.execute_reply.started": "2024-11-06T17:50:40.584796Z"
    },
    "jupyter": {
     "outputs_hidden": false
    },
    "trusted": true
   },
   "outputs": [
    {
     "data": {
      "text/html": [
       "<div>\n",
       "<style scoped>\n",
       "    .dataframe tbody tr th:only-of-type {\n",
       "        vertical-align: middle;\n",
       "    }\n",
       "\n",
       "    .dataframe tbody tr th {\n",
       "        vertical-align: top;\n",
       "    }\n",
       "\n",
       "    .dataframe thead th {\n",
       "        text-align: right;\n",
       "    }\n",
       "</style>\n",
       "<table border=\"1\" class=\"dataframe\">\n",
       "  <thead>\n",
       "    <tr style=\"text-align: right;\">\n",
       "      <th></th>\n",
       "      <th>CustomerID</th>\n",
       "      <th>NextPurchaseDay</th>\n",
       "      <th>Recency</th>\n",
       "    </tr>\n",
       "  </thead>\n",
       "  <tbody>\n",
       "    <tr>\n",
       "      <th>0</th>\n",
       "      <td>13085.0</td>\n",
       "      <td>9999.0</td>\n",
       "      <td>57</td>\n",
       "    </tr>\n",
       "    <tr>\n",
       "      <th>1</th>\n",
       "      <td>13078.0</td>\n",
       "      <td>13.0</td>\n",
       "      <td>0</td>\n",
       "    </tr>\n",
       "    <tr>\n",
       "      <th>2</th>\n",
       "      <td>15362.0</td>\n",
       "      <td>9999.0</td>\n",
       "      <td>348</td>\n",
       "    </tr>\n",
       "    <tr>\n",
       "      <th>3</th>\n",
       "      <td>18102.0</td>\n",
       "      <td>27.0</td>\n",
       "      <td>26</td>\n",
       "    </tr>\n",
       "    <tr>\n",
       "      <th>4</th>\n",
       "      <td>12682.0</td>\n",
       "      <td>15.0</td>\n",
       "      <td>0</td>\n",
       "    </tr>\n",
       "  </tbody>\n",
       "</table>\n",
       "</div>"
      ],
      "text/plain": [
       "   CustomerID  NextPurchaseDay  Recency\n",
       "0     13085.0           9999.0       57\n",
       "1     13078.0             13.0        0\n",
       "2     15362.0           9999.0      348\n",
       "3     18102.0             27.0       26\n",
       "4     12682.0             15.0        0"
      ]
     },
     "execution_count": 27,
     "metadata": {},
     "output_type": "execute_result"
    }
   ],
   "source": [
    "# Find the recency in days \n",
    "ctm_max_purchase['Recency'] = (ctm_max_purchase['MaxPurchaseDate'].max() - ctm_max_purchase['MaxPurchaseDate']).dt.days\n",
    "\n",
    "# Merge the dataframes ctm_dt and ctm_max_purchase[['CustomerID', 'Recency']] on the CustomerID column.\n",
    "ctm_dt = pd.merge(ctm_dt, ctm_max_purchase[['CustomerID', 'Recency']], on='CustomerID')\n",
    "ctm_dt.head()"
   ]
  },
  {
   "cell_type": "code",
   "execution_count": 36,
   "metadata": {
    "_cell_guid": "24cc3ca4-5d75-4e92-9963-65fbc7117fd4",
    "_uuid": "ff466f43-36ac-41af-83d7-cc80bb55ec0d",
    "collapsed": false,
    "execution": {
     "iopub.execute_input": "2024-11-06T17:50:40.613292Z",
     "iopub.status.busy": "2024-11-06T17:50:40.612955Z",
     "iopub.status.idle": "2024-11-06T17:50:40.632112Z",
     "shell.execute_reply": "2024-11-06T17:50:40.631151Z",
     "shell.execute_reply.started": "2024-11-06T17:50:40.613255Z"
    },
    "jupyter": {
     "outputs_hidden": false
    },
    "trusted": true
   },
   "outputs": [
    {
     "data": {
      "text/html": [
       "<div>\n",
       "<style scoped>\n",
       "    .dataframe tbody tr th:only-of-type {\n",
       "        vertical-align: middle;\n",
       "    }\n",
       "\n",
       "    .dataframe tbody tr th {\n",
       "        vertical-align: top;\n",
       "    }\n",
       "\n",
       "    .dataframe thead th {\n",
       "        text-align: right;\n",
       "    }\n",
       "</style>\n",
       "<table border=\"1\" class=\"dataframe\">\n",
       "  <thead>\n",
       "    <tr style=\"text-align: right;\">\n",
       "      <th></th>\n",
       "      <th>Recency</th>\n",
       "    </tr>\n",
       "  </thead>\n",
       "  <tbody>\n",
       "    <tr>\n",
       "      <th>count</th>\n",
       "      <td>5314.000000</td>\n",
       "    </tr>\n",
       "    <tr>\n",
       "      <th>mean</th>\n",
       "      <td>204.675574</td>\n",
       "    </tr>\n",
       "    <tr>\n",
       "      <th>std</th>\n",
       "      <td>173.569622</td>\n",
       "    </tr>\n",
       "    <tr>\n",
       "      <th>min</th>\n",
       "      <td>0.000000</td>\n",
       "    </tr>\n",
       "    <tr>\n",
       "      <th>25%</th>\n",
       "      <td>48.000000</td>\n",
       "    </tr>\n",
       "    <tr>\n",
       "      <th>50%</th>\n",
       "      <td>161.000000</td>\n",
       "    </tr>\n",
       "    <tr>\n",
       "      <th>75%</th>\n",
       "      <td>320.000000</td>\n",
       "    </tr>\n",
       "    <tr>\n",
       "      <th>max</th>\n",
       "      <td>638.000000</td>\n",
       "    </tr>\n",
       "  </tbody>\n",
       "</table>\n",
       "</div>"
      ],
      "text/plain": [
       "           Recency\n",
       "count  5314.000000\n",
       "mean    204.675574\n",
       "std     173.569622\n",
       "min       0.000000\n",
       "25%      48.000000\n",
       "50%     161.000000\n",
       "75%     320.000000\n",
       "max     638.000000"
      ]
     },
     "execution_count": 36,
     "metadata": {},
     "output_type": "execute_result"
    }
   ],
   "source": [
    "pd.DataFrame(ctm_dt.Recency.describe())"
   ]
  },
  {
   "cell_type": "markdown",
   "metadata": {
    "_cell_guid": "9f51d559-c44a-4227-8483-6428dacfc8a4",
    "_uuid": "31d96d52-a502-440f-9e5e-cd2168614f31",
    "trusted": true
   },
   "source": [
    "The mean Recency is approximately 205 days whiles the median is 161 days."
   ]
  },
  {
   "cell_type": "code",
   "execution_count": 37,
   "metadata": {
    "_cell_guid": "0f4bd22a-c84d-4ddb-b96d-e41ed384eca7",
    "_uuid": "32004e34-c3c9-4483-89fa-3608737f1f2e",
    "collapsed": false,
    "execution": {
     "iopub.execute_input": "2024-11-06T17:50:40.636851Z",
     "iopub.status.busy": "2024-11-06T17:50:40.633436Z",
     "iopub.status.idle": "2024-11-06T17:50:40.735279Z",
     "shell.execute_reply": "2024-11-06T17:50:40.734182Z",
     "shell.execute_reply.started": "2024-11-06T17:50:40.636794Z"
    },
    "jupyter": {
     "outputs_hidden": false
    },
    "trusted": true
   },
   "outputs": [
    {
     "data": {
      "text/html": [
       "<div>                            <div id=\"59d22904-109a-4be1-a12e-a5a1c49ef3fd\" class=\"plotly-graph-div\" style=\"height:525px; width:100%;\"></div>            <script type=\"text/javascript\">                require([\"plotly\"], function(Plotly) {                    window.PLOTLYENV=window.PLOTLYENV || {};                                    if (document.getElementById(\"59d22904-109a-4be1-a12e-a5a1c49ef3fd\")) {                    Plotly.newPlot(                        \"59d22904-109a-4be1-a12e-a5a1c49ef3fd\",                        [{\"alignmentgroup\":\"True\",\"bingroup\":\"x\",\"hovertemplate\":\"Recency=%{x}<br>count=%{y}<extra></extra>\",\"legendgroup\":\"\",\"marker\":{\"color\":\"#636efa\",\"pattern\":{\"shape\":\"\"}},\"name\":\"\",\"offsetgroup\":\"\",\"orientation\":\"v\",\"showlegend\":false,\"x\":[57,0,348,26,0,44,336,19,638,33,101,12,330,205,638,314,0,8,292,36,19,363,9,12,327,360,106,1,71,0,328,518,43,118,45,23,78,15,68,23,42,17,9,182,371,27,45,30,276,14,50,463,638,58,290,84,26,0,168,638,638,638,280,13,233,282,8,218,17,50,22,40,21,0,85,300,28,26,8,265,54,561,41,0,118,17,37,37,101,27,160,16,553,23,638,22,430,567,13,85,96,13,271,201,70,206,91,132,51,10,236,446,407,1,300,300,29,208,330,5,474,29,29,106,127,124,72,118,15,9,7,161,637,343,154,260,21,14,149,7,0,637,8,55,327,637,110,45,5,9,238,412,44,408,637,1,292,279,216,266,20,140,92,66,0,292,13,26,212,588,148,16,43,141,637,99,40,119,229,322,637,1,96,17,40,167,211,637,637,271,294,70,7,29,147,265,313,64,636,288,5,349,3,0,275,41,77,79,0,65,49,23,89,65,296,505,323,293,209,49,177,187,636,180,43,145,22,636,636,0,0,72,549,90,48,77,267,276,181,13,0,161,15,318,133,50,59,289,44,8,0,3,3,43,255,636,6,43,0,57,55,325,7,133,636,12,111,0,341,103,111,54,10,58,19,307,6,105,267,58,26,97,19,14,47,215,5,405,198,34,134,84,12,38,279,75,421,27,322,112,635,24,22,21,332,54,255,66,34,285,26,6,259,226,8,48,142,44,327,0,16,635,6,390,451,13,167,71,187,9,101,257,54,10,7,5,20,87,453,173,260,34,635,635,635,140,21,19,41,8,267,307,635,16,0,72,510,55,7,280,38,42,22,79,236,222,38,41,541,635,460,328,0,304,310,300,216,254,286,232,446,211,125,0,393,1,3,113,225,157,89,226,125,57,79,202,30,15,272,540,334,89,226,634,91,422,440,12,175,85,19,26,79,6,5,329,318,276,7,633,283,0,6,3,160,29,286,113,23,633,68,332,461,24,58,262,104,633,633,260,24,276,269,360,101,28,290,10,66,230,153,50,528,259,261,13,440,336,633,7,5,633,279,16,317,3,152,568,106,47,632,13,632,30,216,211,91,5,419,96,617,225,632,76,3,471,180,3,26,132,444,30,20,85,259,491,126,572,632,632,45,33,209,34,49,9,632,632,17,12,300,87,3,80,180,324,455,62,26,115,136,7,37,484,632,76,44,26,315,10,7,369,21,631,10,483,44,50,266,105,300,135,86,8,232,180,631,9,275,85,112,7,509,216,7,624,258,280,261,629,104,295,16,85,288,41,183,27,296,69,628,57,301,265,10,41,164,294,87,631,330,264,29,274,631,631,76,83,15,73,631,631,237,7,631,7,478,577,400,42,127,563,631,427,113,33,532,271,569,71,139,155,100,33,20,631,13,441,180,280,409,5,12,47,75,420,100,75,413,50,64,100,630,630,630,13,6,38,6,278,13,201,12,175,38,534,34,98,391,119,107,98,579,622,99,23,511,348,512,40,114,19,630,87,630,37,134,469,76,28,14,521,322,9,296,135,82,78,630,3,83,264,197,355,7,630,90,282,38,44,8,301,36,47,285,14,34,189,31,629,629,20,40,79,56,117,99,629,267,6,78,266,629,57,57,303,518,103,12,390,23,41,38,22,91,156,6,98,341,629,9,212,0,629,71,1,8,285,167,68,49,378,51,6,453,21,276,136,21,16,184,107,1,21,33,583,8,190,628,70,324,86,63,84,15,162,628,23,24,141,152,15,176,497,0,257,628,113,628,9,23,9,36,211,85,372,13,628,19,628,16,42,120,219,268,43,476,48,127,82,332,451,282,262,120,13,59,115,327,342,626,517,176,80,101,626,68,281,75,51,80,22,276,0,584,5,626,251,82,50,15,202,63,626,30,51,225,582,82,7,625,110,160,153,294,68,498,34,273,625,99,54,97,625,34,7,625,343,401,24,55,36,311,309,7,625,13,267,104,625,471,42,48,625,1,21,625,625,6,625,28,103,14,6,138,262,266,218,161,127,119,40,348,198,15,624,36,7,287,272,72,491,104,82,279,292,0,29,169,7,57,196,44,73,313,181,57,230,623,206,7,104,10,8,3,119,110,43,482,376,13,3,369,411,623,294,13,90,623,268,623,287,623,218,33,23,623,286,531,8,6,84,36,8,623,374,9,223,43,31,65,392,0,1,622,43,561,92,622,33,58,6,301,0,28,12,70,281,622,622,20,622,20,622,7,440,26,133,104,484,287,476,330,276,13,191,196,304,547,1,68,317,621,26,202,526,5,299,27,15,68,152,481,218,212,359,231,601,12,150,36,138,619,23,117,12,86,8,618,239,254,322,92,302,61,29,617,345,357,92,26,310,84,573,162,483,44,182,295,318,265,40,7,45,48,58,317,56,54,603,113,10,355,603,5,139,103,364,30,23,68,238,5,447,300,90,385,77,230,601,146,13,0,601,54,491,9,327,14,6,57,236,37,63,12,54,191,79,297,118,297,19,136,24,510,104,92,63,554,6,377,96,106,384,405,0,22,597,509,475,43,289,57,80,22,317,336,68,38,7,596,15,176,588,334,83,596,7,321,581,139,481,493,6,26,42,14,154,69,594,317,3,264,180,154,110,118,498,29,258,152,236,27,41,19,454,229,412,504,530,309,104,331,72,593,92,258,401,111,94,111,351,276,591,272,296,346,328,92,23,468,22,590,24,155,195,20,49,293,48,98,51,108,15,414,24,590,321,589,589,69,24,364,589,38,0,43,198,44,289,3,101,134,262,589,104,265,371,589,10,91,13,264,496,21,26,211,586,363,112,213,136,63,588,122,587,3,302,198,300,28,106,107,5,209,12,9,219,534,499,0,436,141,539,105,33,112,586,125,580,282,27,5,8,148,283,567,24,38,584,584,533,161,7,456,72,23,584,34,98,318,7,113,335,3,138,7,61,276,27,161,190,20,568,575,38,265,43,374,142,3,583,110,156,114,105,412,6,16,6,29,77,373,559,524,322,476,187,10,34,87,295,328,343,582,386,582,582,582,295,582,582,582,503,582,582,582,582,283,146,582,582,582,582,156,334,582,582,328,582,503,24,177,300,376,289,582,85,496,581,294,182,166,201,392,103,581,117,72,281,12,13,72,134,86,65,420,31,580,134,100,318,580,17,19,580,285,338,212,260,56,34,19,579,316,28,579,316,6,27,55,310,579,54,436,220,549,52,387,577,316,64,52,73,292,83,348,577,278,338,577,226,31,148,54,101,369,577,577,350,434,99,69,370,511,50,383,483,55,266,285,86,576,16,33,294,363,345,206,5,254,575,345,28,330,575,20,299,140,26,462,281,574,1,574,216,85,294,574,212,43,444,127,1,43,574,16,44,482,201,112,211,273,273,168,293,387,220,175,345,6,281,15,215,573,559,7,572,33,79,518,367,87,17,76,276,223,62,23,49,223,26,97,570,181,274,106,85,182,37,1,359,105,251,569,183,218,265,28,569,569,62,224,569,45,569,568,174,87,43,545,568,9,0,58,28,106,12,12,7,27,524,568,111,439,441,496,469,567,423,567,37,566,99,566,8,401,566,99,7,166,566,148,343,219,9,308,566,36,55,63,48,338,565,420,7,100,208,272,461,565,55,111,565,296,98,10,37,320,353,49,563,299,437,177,190,349,37,350,528,97,563,328,152,563,94,364,9,85,10,562,562,419,352,285,13,17,433,38,542,75,561,146,478,189,20,561,181,3,313,379,313,33,55,527,16,44,96,560,559,55,352,54,80,75,68,35,79,106,327,21,153,296,448,20,306,363,12,269,132,13,163,85,559,559,313,559,555,14,48,477,311,317,323,551,365,82,23,558,48,556,79,73,451,171,309,38,336,428,556,188,556,548,510,367,12,285,302,153,78,555,22,555,295,146,48,56,427,5,198,26,87,61,85,49,290,112,554,554,139,27,554,6,111,3,553,349,350,392,295,304,553,91,286,553,24,189,553,27,553,33,203,292,15,174,90,91,135,45,79,73,552,287,496,292,351,156,132,551,145,547,258,381,91,395,79,190,55,42,549,3,33,290,549,273,187,259,388,115,20,34,80,44,61,274,76,548,44,169,22,548,315,265,548,548,23,533,548,44,444,44,283,512,336,153,69,547,152,334,68,19,8,86,546,79,135,37,546,442,19,89,21,77,338,317,20,416,273,546,546,185,546,55,296,17,61,279,381,34,545,6,13,415,545,40,7,71,164,168,44,309,132,19,22,544,78,20,152,327,140,17,363,86,292,100,322,40,544,111,16,332,505,402,143,26,9,164,318,542,44,79,51,36,297,3,8,542,542,0,314,542,132,313,55,188,1,90,372,15,421,180,272,41,169,9,167,71,6,80,273,541,541,44,541,96,327,49,115,541,147,540,30,47,162,534,72,274,540,185,8,51,317,85,300,114,383,47,31,539,141,477,197,334,145,30,27,15,539,86,14,8,538,222,180,12,266,380,43,107,0,288,288,279,537,413,35,537,153,148,311,1,115,535,68,118,29,56,29,90,20,534,19,65,101,212,115,106,533,402,110,533,290,211,142,308,380,533,532,0,418,157,283,190,532,398,278,327,145,320,531,57,523,394,295,31,111,90,40,430,58,103,531,0,329,79,531,309,111,16,292,38,370,192,43,166,104,530,156,62,530,530,294,530,530,530,12,322,76,415,230,90,91,0,528,94,323,528,528,117,528,26,138,519,271,103,444,132,15,157,265,467,191,279,202,526,34,526,404,526,468,526,526,163,526,27,526,177,525,163,294,474,62,499,525,273,464,94,370,230,525,525,281,30,28,70,524,524,13,524,7,524,82,61,266,68,8,524,524,476,524,84,236,44,42,273,524,523,377,258,190,136,523,282,300,6,290,506,21,523,0,7,393,159,117,521,521,35,142,521,213,283,276,34,156,325,42,481,10,41,10,185,1,495,521,44,521,357,13,37,35,21,3,520,57,520,163,321,520,112,104,6,478,85,519,197,518,455,519,519,58,134,57,14,330,290,519,68,268,439,21,279,299,518,155,20,112,518,518,358,0,149,188,518,262,7,12,518,518,372,467,7,19,167,40,289,6,280,162,517,517,322,37,517,40,58,45,22,427,516,107,99,169,512,7,8,323,41,512,27,9,471,50,478,83,110,73,511,54,28,511,117,21,114,511,96,290,44,506,29,33,19,22,146,15,269,299,80,12,510,134,65,510,117,6,509,48,133,96,509,509,79,399,201,76,295,8,79,349,507,380,302,491,182,411,9,90,506,189,506,173,8,506,23,139,506,111,505,201,378,34,505,36,505,70,61,310,294,154,315,504,148,17,447,9,21,352,69,503,75,29,163,503,292,69,503,26,503,503,498,97,24,408,40,83,12,502,502,502,111,502,16,163,3,77,7,356,8,342,500,61,29,216,499,499,26,499,334,212,80,499,498,281,339,498,203,334,498,498,496,491,316,73,157,334,279,299,497,38,208,90,496,317,496,111,362,496,12,160,76,122,496,343,496,495,495,229,495,273,495,495,64,99,33,441,294,328,30,493,145,156,493,493,492,273,492,492,488,492,134,492,196,55,100,69,409,272,20,51,145,492,48,14,52,475,336,483,89,48,125,279,168,491,491,491,44,268,273,135,324,33,139,490,157,337,490,96,163,51,490,355,164,237,63,490,13,350,6,483,223,489,30,99,7,267,260,215,72,183,293,48,341,488,335,370,488,49,162,321,488,69,325,486,486,15,486,157,346,234,34,337,19,447,482,13,271,237,460,170,470,71,12,162,364,69,43,8,356,160,483,483,483,113,40,113,300,308,474,462,48,33,482,154,364,278,376,482,477,481,481,474,481,481,54,448,385,479,17,479,33,471,8,372,160,189,14,217,13,302,478,478,79,387,20,478,82,478,453,96,477,138,290,26,80,19,477,294,132,477,37,329,337,276,259,476,0,335,146,273,77,476,455,346,57,363,89,72,475,135,475,146,85,413,19,475,86,125,475,290,474,281,17,16,264,285,313,64,472,364,61,472,472,471,323,72,293,105,471,145,287,458,122,456,175,142,181,323,470,28,469,304,335,182,363,72,63,469,147,27,469,73,469,22,141,352,52,468,211,468,28,448,110,0,449,124,114,273,22,107,94,115,97,364,465,465,345,3,141,17,112,308,420,464,464,422,27,132,464,320,48,83,316,402,464,464,83,103,68,139,463,463,463,223,41,16,309,78,313,462,310,462,15,462,402,29,45,6,331,152,189,461,373,169,300,48,376,461,414,334,421,318,23,14,349,13,281,306,320,16,460,460,460,66,54,12,170,133,154,196,456,377,363,138,306,353,264,17,455,36,455,455,100,23,285,454,307,285,430,453,411,453,295,453,272,6,68,451,97,451,66,34,451,451,7,64,451,65,155,451,178,316,451,68,303,85,398,280,91,308,55,106,450,43,450,278,222,294,37,78,450,16,450,418,47,273,449,449,47,31,449,188,282,142,448,174,371,448,30,19,430,335,294,448,6,435,69,273,7,117,14,309,266,446,237,430,279,258,19,260,446,337,446,446,174,418,72,285,78,111,446,446,446,51,295,20,10,182,444,69,442,443,412,174,104,9,443,54,72,80,261,320,57,19,230,443,443,390,281,79,285,45,442,99,0,442,441,441,278,328,441,441,427,85,139,161,441,440,21,254,281,27,50,440,276,440,440,440,440,440,440,440,56,16,281,439,37,167,437,437,22,72,0,422,58,166,353,33,230,6,436,104,435,119,73,402,84,435,435,428,36,334,294,287,434,55,85,0,434,311,434,434,434,20,10,429,363,429,433,350,134,353,119,363,362,329,118,173,90,379,268,429,429,28,352,90,372,47,429,308,429,376,226,194,429,29,168,428,363,422,428,367,13,287,24,427,301,377,383,55,427,427,37,156,357,48,86,300,10,43,54,426,271,37,184,155,126,413,168,48,164,73,29,114,83,76,425,423,101,355,38,211,357,295,162,85,422,20,72,422,309,421,421,421,295,13,323,420,27,420,0,420,420,304,419,49,113,320,198,419,6,364,148,418,290,275,416,415,415,317,218,146,414,411,63,295,220,413,187,266,342,30,412,49,412,147,273,412,412,273,409,390,47,164,180,283,56,409,409,118,323,265,6,91,409,286,290,58,400,408,127,27,38,293,49,307,296,43,407,24,406,274,273,405,313,273,9,14,405,400,271,405,405,400,404,47,286,86,404,330,402,183,402,201,161,352,281,3,362,27,327,401,401,401,310,377,400,400,392,21,213,400,365,97,10,19,23,70,0,393,399,0,398,398,398,1,6,398,398,19,63,56,20,313,132,8,317,332,395,136,325,13,372,394,218,12,300,114,71,103,393,26,29,309,141,392,392,392,42,387,226,384,26,16,377,96,8,288,14,388,352,388,310,223,387,272,184,387,135,103,152,125,24,301,47,175,386,386,83,28,385,364,89,385,30,385,21,8,287,31,384,117,176,288,23,383,383,290,381,111,20,370,381,311,0,321,380,380,195,294,379,265,379,308,379,6,378,367,341,6,0,9,378,38,364,377,56,98,161,372,364,266,376,376,23,376,34,373,36,374,56,288,374,136,13,373,17,373,16,159,289,34,37,372,372,82,191,143,371,98,370,5,86,370,139,370,261,177,33,276,369,185,279,5,367,251,119,0,31,365,52,365,234,127,365,357,364,77,321,117,265,363,162,363,280,154,5,66,84,362,362,98,115,362,52,360,205,212,292,360,328,188,173,358,84,358,265,358,357,357,357,15,73,54,282,29,166,356,344,265,356,330,356,356,355,301,292,355,355,54,355,353,296,7,332,353,201,353,304,293,322,325,73,211,351,302,351,101,106,351,79,343,331,44,12,350,82,335,350,163,47,6,7,206,314,343,343,349,349,73,92,57,348,348,58,140,330,342,308,348,346,80,336,280,309,283,5,199,338,296,104,43,12,345,345,345,345,279,345,345,314,20,344,344,344,313,48,344,344,70,330,234,49,279,344,344,343,216,343,180,343,343,342,342,342,342,342,15,317,50,280,86,190,12,22,341,6,27,7,49,156,271,182,48,330,99,107,213,339,334,108,339,29,7,338,330,0,338,320,148,321,261,338,338,0,9,330,311,328,286,266,314,91,54,337,337,51,41,313,337,336,336,336,41,336,336,47,336,84,146,275,336,327,280,329,336,329,8,145,335,318,335,26,70,335,329,335,9,274,272,324,335,58,29,334,307,54,181,334,113,307,99,218,35,84,294,334,304,20,222,334,332,332,329,140,276,13,332,269,115,332,332,332,275,10,125,332,20,332,332,213,332,75,90,12,91,331,317,331,329,289,331,115,258,232,104,331,69,232,169,160,105,6,330,287,187,330,330,330,28,0,330,330,170,330,330,26,329,113,257,329,317,20,281,329,3,13,135,329,42,134,328,259,314,328,306,328,328,267,328,328,145,155,328,269,99,233,328,327,327,327,175,36,160,308,323,34,22,265,94,325,302,325,44,87,325,325,12,145,325,273,145,274,324,324,324,260,324,65,292,324,324,12,100,323,323,323,156,218,146,306,87,63,323,125,323,10,323,323,286,323,285,145,118,187,118,322,126,322,27,320,5,275,152,322,322,177,322,322,63,19,35,321,70,321,321,85,281,20,213,321,321,321,321,257,321,321,16,229,259,82,28,320,8,320,320,45,320,299,320,103,320,320,320,20,320,320,92,318,295,104,318,85,12,9,289,138,13,317,317,7,317,317,40,85,317,317,16,316,78,295,282,47,271,316,83,316,300,20,302,286,282,9,315,304,272,218,106,280,315,315,315,315,280,198,34,314,299,314,314,181,133,71,314,182,308,209,314,313,313,285,103,313,313,28,28,92,300,313,251,8,145,203,311,311,311,286,282,311,311,311,311,311,311,134,302,225,234,8,96,64,222,310,136,310,300,33,51,92,57,310,14,14,310,309,309,260,267,309,309,103,309,309,96,309,309,89,309,218,309,309,125,296,211,106,308,201,66,308,217,41,308,103,308,296,308,307,49,307,307,294,49,10,307,20,0,70,119,306,306,201,306,306,62,306,306,271,304,89,304,304,304,59,54,29,254,303,28,303,258,98,33,5,292,288,139,302,292,302,69,302,65,136,96,76,10,299,100,295,274,272,301,301,301,226,301,301,301,234,71,22,301,82,300,301,301,38,301,269,218,8,73,279,101,28,69,8,300,105,96,300,286,300,300,295,300,274,142,299,286,297,297,297,114,3,297,297,49,16,296,33,296,296,169,45,296,296,117,296,296,295,295,274,295,295,295,295,295,275,295,82,118,294,294,294,82,294,275,294,294,42,285,268,107,294,177,294,259,294,293,285,274,64,106,293,173,293,293,65,293,259,205,117,292,260,85,162,292,292,264,106,292,252,292,285,21,290,290,285,280,30,290,115,290,15,290,290,290,223,289,289,12,8,289,29,3,135,201,285,7,288,288,152,0,288,117,288,288,280,35,288,288,5,19,288,56,254,287,287,153,111,42,287,287,40,287,223,287,287,236,181,161,286,146,286,286,286,282,286,0,286,100,285,285,265,285,285,285,257,285,13,285,285,152,285,62,285,202,283,157,283,262,283,283,283,273,283,283,167,282,282,152,91,266,273,194,177,260,281,281,281,23,281,275,281,281,281,197,281,47,149,281,77,281,28,281,280,185,62,150,280,280,138,280,280,279,20,279,279,279,268,279,279,38,279,279,40,279,152,279,105,278,278,19,278,266,278,139,276,276,276,276,266,276,275,275,89,26,64,275,275,34,275,275,275,210,274,275,275,210,275,54,9,7,274,273,64,91,142,272,273,273,273,43,272,272,111,75,272,272,272,272,37,272,272,271,271,271,266,251,271,52,265,271,269,269,164,153,38,268,268,268,16,268,268,148,267,237,266,106,258,266,31,254,265,212,264,8,156,262,262,14,15,261,222,259,258,140,259,149,259,258,253,3,98,257,83,257,254,254,253,253,84,251,134,43,238,22,215,94,215,139,236,0,236,38,234,17,234,233,232,135,232,231,84,231,224,222,37,230,85,229,218,9,82,12,1,226,225,134,188,225,132,224,24,180,103,127,62,219,219,210,83,219,219,212,134,219,111,217,13,217,139,216,79,101,216,215,45,199,213,213,49,12,202,212,19,143,211,22,99,210,152,210,210,147,202,201,0,76,210,51,202,27,23,209,6,161,135,27,208,69,208,208,85,59,206,34,13,17,31,83,204,204,23,204,203,203,203,194,202,202,0,201,199,199,198,91,197,197,113,191,194,196,196,112,196,9,37,146,97,195,195,190,5,194,194,76,70,73,3,62,192,192,191,65,64,191,190,83,190,190,167,182,30,189,71,189,36,34,6,189,7,33,161,181,85,188,188,188,176,187,175,168,177,5,22,152,184,51,184,13,184,184,184,163,7,78,184,104,85,8,113,105,183,105,182,19,182,98,182,66,79,135,139,181,133,56,7,73,15,90,180,27,180,21,36,143,177,177,177,47,56,177,177,177,176,57,127,7,26,7,37,176,176,98,45,175,27,175,21,174,174,117,174,170,174,174,173,43,83,42,173,173,63,51,153,57,38,171,21,98,0,170,170,117,169,36,169,169,112,7,168,168,168,83,6,167,167,82,69,113,167,167,33,104,0,166,166,12,166,13,166,166,166,92,136,166,166,164,141,79,164,15,34,66,105,164,57,163,3,163,76,162,5,96,9,91,162,162,161,161,85,78,161,161,161,161,66,161,160,160,160,160,160,160,40,68,159,159,133,7,51,157,21,50,156,156,16,85,6,14,114,20,8,16,154,48,154,154,154,44,82,153,126,152,59,152,22,55,152,152,7,152,150,149,149,149,52,147,79,148,35,127,148,147,147,147,21,147,146,119,146,10,145,57,145,96,34,143,143,80,143,133,83,142,47,142,142,36,9,142,6,141,75,14,141,106,139,6,7,140,140,63,118,107,99,68,12,83,3,138,138,14,138,136,35,136,136,0,135,89,132,103,14,134,134,133,133,132,12,29,132,132,10,69,132,132,21,127,41,36,103,126,126,87,23,125,7,59,125,17,17,120,112,120,0,89,40,119,113,1,119,119,9,8,118,118,9,118,38,118,117,117,117,117,20,83,117,68,33,51,115,56,5,36,114,9,70,112,113,113,113,112,112,112,77,105,29,111,111,63,105,8,5,73,111,28,110,76,108,36,20,108,108,52,62,107,55,105,6,105,34,104,104,13,96,104,96,103,103,40,77,101,101,101,101,61,101,101,100,89,100,54,6,82,98,47,97,97,65,57,14,96,80,94,94,92,92,6,14,34,91,91,73,90,64,29,26,12,24,89,89,58,31,87,87,58,86,86,13,86,16,85,55,85,85,1,13,84,82,62,75,13,83,3,54,55,55,82,24,43,82,38,6,7,79,77,79,78,72,6,77,28,77,76,76,76,58,33,76,75,12,65,73,73,73,9,56,73,45,72,47,70,44,72,72,70,34,71,44,71,21,71,70,34,70,70,16,69,5,69,69,14,27,66,66,64,64,63,12,33,63,63,47,62,61,61,40,35,61,59,59,38,59,59,58,57,57,57,57,34,27,55,13,55,55,28,54,49,52,45,51,51,51,51,50,50,14,50,50,49,49,48,48,14,9,48,5,22,47,47,7,45,45,44,16,44,43,43,43,33,0,26,36,42,42,42,31,42,16,41,41,41,40,13,40,8,40,38,38,17,38,37,37,37,36,36,36,36,13,35,24,13,19,34,34,34,34,33,29,33,12,33,33,33,33,6,31,1,28,30,30,13,12,16,29,29,29,29,29,29,20,28,6,28,8,27,27,27,15,27,27,7,26,22,6,26,24,20,23,23,22,21,21,21,20,20,0,19,17,16,16,16,13,6,15,5,15,15,15,15,14,14,14,13,13,13,13,13,13,13,13,0,12,12,12,12,12,10,10,10,7,10,9,9,9,8,8,8,7,7,7,6,6,6,6,6,6,6,6,6,5,5,5,0,5,5,5,1,1,1,0,0,0,0],\"xaxis\":\"x\",\"yaxis\":\"y\",\"type\":\"histogram\"}],                        {\"template\":{\"data\":{\"bar\":[{\"error_x\":{\"color\":\"#2a3f5f\"},\"error_y\":{\"color\":\"#2a3f5f\"},\"marker\":{\"line\":{\"color\":\"#E5ECF6\",\"width\":0.5},\"pattern\":{\"fillmode\":\"overlay\",\"size\":10,\"solidity\":0.2}},\"type\":\"bar\"}],\"barpolar\":[{\"marker\":{\"line\":{\"color\":\"#E5ECF6\",\"width\":0.5},\"pattern\":{\"fillmode\":\"overlay\",\"size\":10,\"solidity\":0.2}},\"type\":\"barpolar\"}],\"carpet\":[{\"aaxis\":{\"endlinecolor\":\"#2a3f5f\",\"gridcolor\":\"white\",\"linecolor\":\"white\",\"minorgridcolor\":\"white\",\"startlinecolor\":\"#2a3f5f\"},\"baxis\":{\"endlinecolor\":\"#2a3f5f\",\"gridcolor\":\"white\",\"linecolor\":\"white\",\"minorgridcolor\":\"white\",\"startlinecolor\":\"#2a3f5f\"},\"type\":\"carpet\"}],\"choropleth\":[{\"colorbar\":{\"outlinewidth\":0,\"ticks\":\"\"},\"type\":\"choropleth\"}],\"contour\":[{\"colorbar\":{\"outlinewidth\":0,\"ticks\":\"\"},\"colorscale\":[[0.0,\"#0d0887\"],[0.1111111111111111,\"#46039f\"],[0.2222222222222222,\"#7201a8\"],[0.3333333333333333,\"#9c179e\"],[0.4444444444444444,\"#bd3786\"],[0.5555555555555556,\"#d8576b\"],[0.6666666666666666,\"#ed7953\"],[0.7777777777777778,\"#fb9f3a\"],[0.8888888888888888,\"#fdca26\"],[1.0,\"#f0f921\"]],\"type\":\"contour\"}],\"contourcarpet\":[{\"colorbar\":{\"outlinewidth\":0,\"ticks\":\"\"},\"type\":\"contourcarpet\"}],\"heatmap\":[{\"colorbar\":{\"outlinewidth\":0,\"ticks\":\"\"},\"colorscale\":[[0.0,\"#0d0887\"],[0.1111111111111111,\"#46039f\"],[0.2222222222222222,\"#7201a8\"],[0.3333333333333333,\"#9c179e\"],[0.4444444444444444,\"#bd3786\"],[0.5555555555555556,\"#d8576b\"],[0.6666666666666666,\"#ed7953\"],[0.7777777777777778,\"#fb9f3a\"],[0.8888888888888888,\"#fdca26\"],[1.0,\"#f0f921\"]],\"type\":\"heatmap\"}],\"heatmapgl\":[{\"colorbar\":{\"outlinewidth\":0,\"ticks\":\"\"},\"colorscale\":[[0.0,\"#0d0887\"],[0.1111111111111111,\"#46039f\"],[0.2222222222222222,\"#7201a8\"],[0.3333333333333333,\"#9c179e\"],[0.4444444444444444,\"#bd3786\"],[0.5555555555555556,\"#d8576b\"],[0.6666666666666666,\"#ed7953\"],[0.7777777777777778,\"#fb9f3a\"],[0.8888888888888888,\"#fdca26\"],[1.0,\"#f0f921\"]],\"type\":\"heatmapgl\"}],\"histogram\":[{\"marker\":{\"pattern\":{\"fillmode\":\"overlay\",\"size\":10,\"solidity\":0.2}},\"type\":\"histogram\"}],\"histogram2d\":[{\"colorbar\":{\"outlinewidth\":0,\"ticks\":\"\"},\"colorscale\":[[0.0,\"#0d0887\"],[0.1111111111111111,\"#46039f\"],[0.2222222222222222,\"#7201a8\"],[0.3333333333333333,\"#9c179e\"],[0.4444444444444444,\"#bd3786\"],[0.5555555555555556,\"#d8576b\"],[0.6666666666666666,\"#ed7953\"],[0.7777777777777778,\"#fb9f3a\"],[0.8888888888888888,\"#fdca26\"],[1.0,\"#f0f921\"]],\"type\":\"histogram2d\"}],\"histogram2dcontour\":[{\"colorbar\":{\"outlinewidth\":0,\"ticks\":\"\"},\"colorscale\":[[0.0,\"#0d0887\"],[0.1111111111111111,\"#46039f\"],[0.2222222222222222,\"#7201a8\"],[0.3333333333333333,\"#9c179e\"],[0.4444444444444444,\"#bd3786\"],[0.5555555555555556,\"#d8576b\"],[0.6666666666666666,\"#ed7953\"],[0.7777777777777778,\"#fb9f3a\"],[0.8888888888888888,\"#fdca26\"],[1.0,\"#f0f921\"]],\"type\":\"histogram2dcontour\"}],\"mesh3d\":[{\"colorbar\":{\"outlinewidth\":0,\"ticks\":\"\"},\"type\":\"mesh3d\"}],\"parcoords\":[{\"line\":{\"colorbar\":{\"outlinewidth\":0,\"ticks\":\"\"}},\"type\":\"parcoords\"}],\"pie\":[{\"automargin\":true,\"type\":\"pie\"}],\"scatter\":[{\"marker\":{\"colorbar\":{\"outlinewidth\":0,\"ticks\":\"\"}},\"type\":\"scatter\"}],\"scatter3d\":[{\"line\":{\"colorbar\":{\"outlinewidth\":0,\"ticks\":\"\"}},\"marker\":{\"colorbar\":{\"outlinewidth\":0,\"ticks\":\"\"}},\"type\":\"scatter3d\"}],\"scattercarpet\":[{\"marker\":{\"colorbar\":{\"outlinewidth\":0,\"ticks\":\"\"}},\"type\":\"scattercarpet\"}],\"scattergeo\":[{\"marker\":{\"colorbar\":{\"outlinewidth\":0,\"ticks\":\"\"}},\"type\":\"scattergeo\"}],\"scattergl\":[{\"marker\":{\"colorbar\":{\"outlinewidth\":0,\"ticks\":\"\"}},\"type\":\"scattergl\"}],\"scattermapbox\":[{\"marker\":{\"colorbar\":{\"outlinewidth\":0,\"ticks\":\"\"}},\"type\":\"scattermapbox\"}],\"scatterpolar\":[{\"marker\":{\"colorbar\":{\"outlinewidth\":0,\"ticks\":\"\"}},\"type\":\"scatterpolar\"}],\"scatterpolargl\":[{\"marker\":{\"colorbar\":{\"outlinewidth\":0,\"ticks\":\"\"}},\"type\":\"scatterpolargl\"}],\"scatterternary\":[{\"marker\":{\"colorbar\":{\"outlinewidth\":0,\"ticks\":\"\"}},\"type\":\"scatterternary\"}],\"surface\":[{\"colorbar\":{\"outlinewidth\":0,\"ticks\":\"\"},\"colorscale\":[[0.0,\"#0d0887\"],[0.1111111111111111,\"#46039f\"],[0.2222222222222222,\"#7201a8\"],[0.3333333333333333,\"#9c179e\"],[0.4444444444444444,\"#bd3786\"],[0.5555555555555556,\"#d8576b\"],[0.6666666666666666,\"#ed7953\"],[0.7777777777777778,\"#fb9f3a\"],[0.8888888888888888,\"#fdca26\"],[1.0,\"#f0f921\"]],\"type\":\"surface\"}],\"table\":[{\"cells\":{\"fill\":{\"color\":\"#EBF0F8\"},\"line\":{\"color\":\"white\"}},\"header\":{\"fill\":{\"color\":\"#C8D4E3\"},\"line\":{\"color\":\"white\"}},\"type\":\"table\"}]},\"layout\":{\"annotationdefaults\":{\"arrowcolor\":\"#2a3f5f\",\"arrowhead\":0,\"arrowwidth\":1},\"autotypenumbers\":\"strict\",\"coloraxis\":{\"colorbar\":{\"outlinewidth\":0,\"ticks\":\"\"}},\"colorscale\":{\"diverging\":[[0,\"#8e0152\"],[0.1,\"#c51b7d\"],[0.2,\"#de77ae\"],[0.3,\"#f1b6da\"],[0.4,\"#fde0ef\"],[0.5,\"#f7f7f7\"],[0.6,\"#e6f5d0\"],[0.7,\"#b8e186\"],[0.8,\"#7fbc41\"],[0.9,\"#4d9221\"],[1,\"#276419\"]],\"sequential\":[[0.0,\"#0d0887\"],[0.1111111111111111,\"#46039f\"],[0.2222222222222222,\"#7201a8\"],[0.3333333333333333,\"#9c179e\"],[0.4444444444444444,\"#bd3786\"],[0.5555555555555556,\"#d8576b\"],[0.6666666666666666,\"#ed7953\"],[0.7777777777777778,\"#fb9f3a\"],[0.8888888888888888,\"#fdca26\"],[1.0,\"#f0f921\"]],\"sequentialminus\":[[0.0,\"#0d0887\"],[0.1111111111111111,\"#46039f\"],[0.2222222222222222,\"#7201a8\"],[0.3333333333333333,\"#9c179e\"],[0.4444444444444444,\"#bd3786\"],[0.5555555555555556,\"#d8576b\"],[0.6666666666666666,\"#ed7953\"],[0.7777777777777778,\"#fb9f3a\"],[0.8888888888888888,\"#fdca26\"],[1.0,\"#f0f921\"]]},\"colorway\":[\"#636efa\",\"#EF553B\",\"#00cc96\",\"#ab63fa\",\"#FFA15A\",\"#19d3f3\",\"#FF6692\",\"#B6E880\",\"#FF97FF\",\"#FECB52\"],\"font\":{\"color\":\"#2a3f5f\"},\"geo\":{\"bgcolor\":\"white\",\"lakecolor\":\"white\",\"landcolor\":\"#E5ECF6\",\"showlakes\":true,\"showland\":true,\"subunitcolor\":\"white\"},\"hoverlabel\":{\"align\":\"left\"},\"hovermode\":\"closest\",\"mapbox\":{\"style\":\"light\"},\"paper_bgcolor\":\"white\",\"plot_bgcolor\":\"#E5ECF6\",\"polar\":{\"angularaxis\":{\"gridcolor\":\"white\",\"linecolor\":\"white\",\"ticks\":\"\"},\"bgcolor\":\"#E5ECF6\",\"radialaxis\":{\"gridcolor\":\"white\",\"linecolor\":\"white\",\"ticks\":\"\"}},\"scene\":{\"xaxis\":{\"backgroundcolor\":\"#E5ECF6\",\"gridcolor\":\"white\",\"gridwidth\":2,\"linecolor\":\"white\",\"showbackground\":true,\"ticks\":\"\",\"zerolinecolor\":\"white\"},\"yaxis\":{\"backgroundcolor\":\"#E5ECF6\",\"gridcolor\":\"white\",\"gridwidth\":2,\"linecolor\":\"white\",\"showbackground\":true,\"ticks\":\"\",\"zerolinecolor\":\"white\"},\"zaxis\":{\"backgroundcolor\":\"#E5ECF6\",\"gridcolor\":\"white\",\"gridwidth\":2,\"linecolor\":\"white\",\"showbackground\":true,\"ticks\":\"\",\"zerolinecolor\":\"white\"}},\"shapedefaults\":{\"line\":{\"color\":\"#2a3f5f\"}},\"ternary\":{\"aaxis\":{\"gridcolor\":\"white\",\"linecolor\":\"white\",\"ticks\":\"\"},\"baxis\":{\"gridcolor\":\"white\",\"linecolor\":\"white\",\"ticks\":\"\"},\"bgcolor\":\"#E5ECF6\",\"caxis\":{\"gridcolor\":\"white\",\"linecolor\":\"white\",\"ticks\":\"\"}},\"title\":{\"x\":0.05},\"xaxis\":{\"automargin\":true,\"gridcolor\":\"white\",\"linecolor\":\"white\",\"ticks\":\"\",\"title\":{\"standoff\":15},\"zerolinecolor\":\"white\",\"zerolinewidth\":2},\"yaxis\":{\"automargin\":true,\"gridcolor\":\"white\",\"linecolor\":\"white\",\"ticks\":\"\",\"title\":{\"standoff\":15},\"zerolinecolor\":\"white\",\"zerolinewidth\":2}}},\"xaxis\":{\"anchor\":\"y\",\"domain\":[0.0,1.0],\"title\":{\"text\":\"Recency in groups of 20 days\"}},\"yaxis\":{\"anchor\":\"x\",\"domain\":[0.0,1.0],\"title\":{\"text\":\"Number of Customers\"}},\"legend\":{\"tracegroupgap\":0},\"title\":{\"text\":\"Customers Recency in Days\",\"x\":0.5},\"barmode\":\"relative\"},                        {\"displaylogo\": false, \"responsive\": true}                    ).then(function(){\n",
       "                            \n",
       "var gd = document.getElementById('59d22904-109a-4be1-a12e-a5a1c49ef3fd');\n",
       "var x = new MutationObserver(function (mutations, observer) {{\n",
       "        var display = window.getComputedStyle(gd).display;\n",
       "        if (!display || display === 'none') {{\n",
       "            console.log([gd, 'removed!']);\n",
       "            Plotly.purge(gd);\n",
       "            observer.disconnect();\n",
       "        }}\n",
       "}});\n",
       "\n",
       "// Listen for the removal of the full notebook cells\n",
       "var notebookContainer = gd.closest('#notebook-container');\n",
       "if (notebookContainer) {{\n",
       "    x.observe(notebookContainer, {childList: true});\n",
       "}}\n",
       "\n",
       "// Listen for the clearing of the current output cell\n",
       "var outputEl = gd.closest('.output');\n",
       "if (outputEl) {{\n",
       "    x.observe(outputEl, {childList: true});\n",
       "}}\n",
       "\n",
       "                        })                };                });            </script>        </div>"
      ]
     },
     "metadata": {},
     "output_type": "display_data"
    }
   ],
   "source": [
    "# plot histogram\n",
    "hist_fig = px.histogram(ctm_dt, \n",
    "                        x=\"Recency\", \n",
    "                        title=\"Customers Recency in Days\"                       )\n",
    "\n",
    "hist_fig.update_layout(title_x=0.5, \n",
    "                       xaxis_title=\"Recency in groups of 20 days\", \n",
    "                       yaxis_title=\"Number of Customers\"\n",
    "                      )\n",
    "\n",
    "hist_fig.show(config={'displaylogo': False})"
   ]
  },
  {
   "cell_type": "markdown",
   "metadata": {
    "_cell_guid": "bf9f964e-828a-48e4-8ada-e6805374c1b8",
    "_uuid": "845744ec-cfb5-474e-bd3b-a471391cc356",
    "trusted": true
   },
   "source": [
    "Next we will apply K-means clustering to assign a recency score. However, we need to know how many clusters in order to use the K-means algorithm. We will apply Elbow Method to determine how many clusters we will need. The Elbow Method simply tells the optimal cluster number for optimal inertia."
   ]
  },
  {
   "cell_type": "code",
   "execution_count": 28,
   "metadata": {
    "_cell_guid": "06eee926-0bf6-413a-94f8-0ce6cecda782",
    "_uuid": "45833e0f-0d38-4955-8156-0064c4524dcc",
    "collapsed": false,
    "execution": {
     "iopub.execute_input": "2024-11-06T17:50:40.736889Z",
     "iopub.status.busy": "2024-11-06T17:50:40.736614Z",
     "iopub.status.idle": "2024-11-06T17:50:54.141434Z",
     "shell.execute_reply": "2024-11-06T17:50:54.140413Z",
     "shell.execute_reply.started": "2024-11-06T17:50:40.736854Z"
    },
    "jupyter": {
     "outputs_hidden": false
    },
    "trusted": true
   },
   "outputs": [
    {
     "ename": "ValueError",
     "evalue": "Mime type rendering requires nbformat>=4.2.0 but it is not installed",
     "output_type": "error",
     "traceback": [
      "\u001b[0;31m---------------------------------------------------------------------------\u001b[0m",
      "\u001b[0;31mValueError\u001b[0m                                Traceback (most recent call last)",
      "Cell \u001b[0;32mIn[28], line 18\u001b[0m\n\u001b[1;32m      8\u001b[0m line_fig \u001b[38;5;241m=\u001b[39m px\u001b[38;5;241m.\u001b[39mline(x\u001b[38;5;241m=\u001b[39m\u001b[38;5;28mlist\u001b[39m(my_dict\u001b[38;5;241m.\u001b[39mkeys()), \n\u001b[1;32m      9\u001b[0m                    y\u001b[38;5;241m=\u001b[39m\u001b[38;5;28mlist\u001b[39m(my_dict\u001b[38;5;241m.\u001b[39mvalues()), \n\u001b[1;32m     10\u001b[0m                    template\u001b[38;5;241m=\u001b[39m\u001b[38;5;124m\"\u001b[39m\u001b[38;5;124mplotly_dark\u001b[39m\u001b[38;5;124m\"\u001b[39m\n\u001b[1;32m     11\u001b[0m                   )\n\u001b[1;32m     13\u001b[0m line_fig\u001b[38;5;241m.\u001b[39mupdate_layout(title_x\u001b[38;5;241m=\u001b[39m\u001b[38;5;241m0\u001b[39m, \n\u001b[1;32m     14\u001b[0m                        xaxis_title\u001b[38;5;241m=\u001b[39m\u001b[38;5;124m\"\u001b[39m\u001b[38;5;124mNumber of cluster\u001b[39m\u001b[38;5;124m\"\u001b[39m, \n\u001b[1;32m     15\u001b[0m                        yaxis_title\u001b[38;5;241m=\u001b[39m\u001b[38;5;124m\"\u001b[39m\u001b[38;5;124m\"\u001b[39m\n\u001b[1;32m     16\u001b[0m                       )\n\u001b[0;32m---> 18\u001b[0m \u001b[43mline_fig\u001b[49m\u001b[38;5;241;43m.\u001b[39;49m\u001b[43mshow\u001b[49m\u001b[43m(\u001b[49m\u001b[43mconfig\u001b[49m\u001b[38;5;241;43m=\u001b[39;49m\u001b[43m{\u001b[49m\u001b[38;5;124;43m'\u001b[39;49m\u001b[38;5;124;43mdisplaylogo\u001b[39;49m\u001b[38;5;124;43m'\u001b[39;49m\u001b[43m:\u001b[49m\u001b[43m \u001b[49m\u001b[38;5;28;43;01mFalse\u001b[39;49;00m\u001b[43m}\u001b[49m\u001b[43m)\u001b[49m\n",
      "File \u001b[0;32m~/.local/lib/python3.10/site-packages/plotly/basedatatypes.py:3410\u001b[0m, in \u001b[0;36mBaseFigure.show\u001b[0;34m(self, *args, **kwargs)\u001b[0m\n\u001b[1;32m   3377\u001b[0m \u001b[38;5;250m\u001b[39m\u001b[38;5;124;03m\"\"\"\u001b[39;00m\n\u001b[1;32m   3378\u001b[0m \u001b[38;5;124;03mShow a figure using either the default renderer(s) or the renderer(s)\u001b[39;00m\n\u001b[1;32m   3379\u001b[0m \u001b[38;5;124;03mspecified by the renderer argument\u001b[39;00m\n\u001b[0;32m   (...)\u001b[0m\n\u001b[1;32m   3406\u001b[0m \u001b[38;5;124;03mNone\u001b[39;00m\n\u001b[1;32m   3407\u001b[0m \u001b[38;5;124;03m\"\"\"\u001b[39;00m\n\u001b[1;32m   3408\u001b[0m \u001b[38;5;28;01mimport\u001b[39;00m \u001b[38;5;21;01mplotly\u001b[39;00m\u001b[38;5;21;01m.\u001b[39;00m\u001b[38;5;21;01mio\u001b[39;00m \u001b[38;5;28;01mas\u001b[39;00m \u001b[38;5;21;01mpio\u001b[39;00m\n\u001b[0;32m-> 3410\u001b[0m \u001b[38;5;28;01mreturn\u001b[39;00m \u001b[43mpio\u001b[49m\u001b[38;5;241;43m.\u001b[39;49m\u001b[43mshow\u001b[49m\u001b[43m(\u001b[49m\u001b[38;5;28;43mself\u001b[39;49m\u001b[43m,\u001b[49m\u001b[43m \u001b[49m\u001b[38;5;241;43m*\u001b[39;49m\u001b[43margs\u001b[49m\u001b[43m,\u001b[49m\u001b[43m \u001b[49m\u001b[38;5;241;43m*\u001b[39;49m\u001b[38;5;241;43m*\u001b[39;49m\u001b[43mkwargs\u001b[49m\u001b[43m)\u001b[49m\n",
      "File \u001b[0;32m~/.local/lib/python3.10/site-packages/plotly/io/_renderers.py:394\u001b[0m, in \u001b[0;36mshow\u001b[0;34m(fig, renderer, validate, **kwargs)\u001b[0m\n\u001b[1;32m    389\u001b[0m         \u001b[38;5;28;01mraise\u001b[39;00m \u001b[38;5;167;01mValueError\u001b[39;00m(\n\u001b[1;32m    390\u001b[0m             \u001b[38;5;124m\"\u001b[39m\u001b[38;5;124mMime type rendering requires ipython but it is not installed\u001b[39m\u001b[38;5;124m\"\u001b[39m\n\u001b[1;32m    391\u001b[0m         )\n\u001b[1;32m    393\u001b[0m     \u001b[38;5;28;01mif\u001b[39;00m \u001b[38;5;129;01mnot\u001b[39;00m nbformat \u001b[38;5;129;01mor\u001b[39;00m Version(nbformat\u001b[38;5;241m.\u001b[39m__version__) \u001b[38;5;241m<\u001b[39m Version(\u001b[38;5;124m\"\u001b[39m\u001b[38;5;124m4.2.0\u001b[39m\u001b[38;5;124m\"\u001b[39m):\n\u001b[0;32m--> 394\u001b[0m         \u001b[38;5;28;01mraise\u001b[39;00m \u001b[38;5;167;01mValueError\u001b[39;00m(\n\u001b[1;32m    395\u001b[0m             \u001b[38;5;124m\"\u001b[39m\u001b[38;5;124mMime type rendering requires nbformat>=4.2.0 but it is not installed\u001b[39m\u001b[38;5;124m\"\u001b[39m\n\u001b[1;32m    396\u001b[0m         )\n\u001b[1;32m    398\u001b[0m     ipython_display\u001b[38;5;241m.\u001b[39mdisplay(bundle, raw\u001b[38;5;241m=\u001b[39m\u001b[38;5;28;01mTrue\u001b[39;00m)\n\u001b[1;32m    400\u001b[0m \u001b[38;5;66;03m# external renderers\u001b[39;00m\n",
      "\u001b[0;31mValueError\u001b[0m: Mime type rendering requires nbformat>=4.2.0 but it is not installed"
     ]
    }
   ],
   "source": [
    "my_dict={}\n",
    "ctm_recency = ctm_dt[['Recency']]\n",
    "for idx in range(1, 10):\n",
    "    kmeans = KMeans(n_clusters=idx, max_iter=1000).fit(ctm_recency)\n",
    "    ctm_recency[\"clusters\"] = kmeans.labels_\n",
    "    my_dict[idx] = kmeans.inertia_ \n",
    "\n",
    "line_fig = px.line(x=list(my_dict.keys()), \n",
    "                   y=list(my_dict.values()), \n",
    "                   template=\"plotly_dark\"\n",
    "                  )\n",
    "\n",
    "line_fig.update_layout(title_x=0, \n",
    "                       xaxis_title=\"Number of cluster\", \n",
    "                       yaxis_title=\"\"\n",
    "                      )\n",
    "\n",
    "line_fig.show(config={'displaylogo': False})"
   ]
  },
  {
   "cell_type": "markdown",
   "metadata": {
    "_cell_guid": "9732e8e7-03ce-406a-a069-27bfa4bb523b",
    "_uuid": "cd9cedfe-6938-4ecb-8424-efadc54f24e2",
    "trusted": true
   },
   "source": [
    "\n",
    "From the Figure above,  seem to be the optimal one."
   ]
  },
  {
   "cell_type": "code",
   "execution_count": 29,
   "metadata": {
    "_cell_guid": "bcfb6457-be68-423e-8cd3-9bb89e60584c",
    "_uuid": "0523a9d4-f550-47c6-8053-934170bdecbf",
    "collapsed": false,
    "execution": {
     "iopub.execute_input": "2024-11-06T17:50:54.143607Z",
     "iopub.status.busy": "2024-11-06T17:50:54.143246Z",
     "iopub.status.idle": "2024-11-06T17:50:54.239505Z",
     "shell.execute_reply": "2024-11-06T17:50:54.238322Z",
     "shell.execute_reply.started": "2024-11-06T17:50:54.143562Z"
    },
    "jupyter": {
     "outputs_hidden": false
    },
    "trusted": true
   },
   "outputs": [
    {
     "data": {
      "text/html": [
       "<div>\n",
       "<style scoped>\n",
       "    .dataframe tbody tr th:only-of-type {\n",
       "        vertical-align: middle;\n",
       "    }\n",
       "\n",
       "    .dataframe tbody tr th {\n",
       "        vertical-align: top;\n",
       "    }\n",
       "\n",
       "    .dataframe thead th {\n",
       "        text-align: right;\n",
       "    }\n",
       "</style>\n",
       "<table border=\"1\" class=\"dataframe\">\n",
       "  <thead>\n",
       "    <tr style=\"text-align: right;\">\n",
       "      <th></th>\n",
       "      <th>CustomerID</th>\n",
       "      <th>NextPurchaseDay</th>\n",
       "      <th>Recency</th>\n",
       "      <th>RecencyCluster</th>\n",
       "    </tr>\n",
       "  </thead>\n",
       "  <tbody>\n",
       "    <tr>\n",
       "      <th>0</th>\n",
       "      <td>13085.0</td>\n",
       "      <td>9999.0</td>\n",
       "      <td>57</td>\n",
       "      <td>1</td>\n",
       "    </tr>\n",
       "    <tr>\n",
       "      <th>1</th>\n",
       "      <td>13078.0</td>\n",
       "      <td>13.0</td>\n",
       "      <td>0</td>\n",
       "      <td>1</td>\n",
       "    </tr>\n",
       "    <tr>\n",
       "      <th>2</th>\n",
       "      <td>15362.0</td>\n",
       "      <td>9999.0</td>\n",
       "      <td>348</td>\n",
       "      <td>0</td>\n",
       "    </tr>\n",
       "    <tr>\n",
       "      <th>3</th>\n",
       "      <td>18102.0</td>\n",
       "      <td>27.0</td>\n",
       "      <td>26</td>\n",
       "      <td>1</td>\n",
       "    </tr>\n",
       "    <tr>\n",
       "      <th>4</th>\n",
       "      <td>12682.0</td>\n",
       "      <td>15.0</td>\n",
       "      <td>0</td>\n",
       "      <td>1</td>\n",
       "    </tr>\n",
       "  </tbody>\n",
       "</table>\n",
       "</div>"
      ],
      "text/plain": [
       "   CustomerID  NextPurchaseDay  Recency  RecencyCluster\n",
       "0     13085.0           9999.0       57               1\n",
       "1     13078.0             13.0        0               1\n",
       "2     15362.0           9999.0      348               0\n",
       "3     18102.0             27.0       26               1\n",
       "4     12682.0             15.0        0               1"
      ]
     },
     "execution_count": 29,
     "metadata": {},
     "output_type": "execute_result"
    }
   ],
   "source": [
    "number_of_clusters = 4\n",
    "kmeans = KMeans(n_clusters=number_of_clusters)\n",
    "kmeans.fit(ctm_dt[['Recency']])\n",
    "ctm_dt['RecencyCluster'] = kmeans.predict(ctm_dt[['Recency']])\n",
    "ctm_dt.head()"
   ]
  },
  {
   "cell_type": "code",
   "execution_count": 30,
   "metadata": {
    "_cell_guid": "dde993a0-32fb-48df-b5dc-377e86fba2aa",
    "_uuid": "b1601f83-b395-4613-87e0-c68bcd59dea7",
    "collapsed": false,
    "execution": {
     "iopub.execute_input": "2024-11-06T17:50:54.241499Z",
     "iopub.status.busy": "2024-11-06T17:50:54.240910Z",
     "iopub.status.idle": "2024-11-06T17:50:54.250321Z",
     "shell.execute_reply": "2024-11-06T17:50:54.249176Z",
     "shell.execute_reply.started": "2024-11-06T17:50:54.241460Z"
    },
    "jupyter": {
     "outputs_hidden": false
    },
    "trusted": true
   },
   "outputs": [],
   "source": [
    "def order_cluster(df, target_field_name, cluster_field_name, ascending):\n",
    "    \"\"\"\n",
    "    INPUT:\n",
    "        - df                  - pandas DataFrame\n",
    "        - target_field_name   - str - A column in the pandas DataFrame df\n",
    "        - cluster_field_name  - str - Expected to be a column in the pandas DataFrame df\n",
    "        - ascending           - Boolean\n",
    "        \n",
    "    OUTPUT:\n",
    "        - df_final            - pandas DataFrame with target_field_name and cluster_field_name as columns\n",
    "    \n",
    "    \"\"\"\n",
    "    # Add the string \"new_\" to cluster_field_name\n",
    "    new_cluster_field_name = \"new_\" + cluster_field_name\n",
    "    \n",
    "    # Create a new dataframe by grouping the input dataframe by cluster_field_name and extract target_field_name \n",
    "    # and find the mean\n",
    "    df_new = df.groupby(cluster_field_name)[target_field_name].mean().reset_index()\n",
    "    \n",
    "    # Sort the new dataframe df_new, by target_field_name in descending order\n",
    "    df_new = df_new.sort_values(by=target_field_name, ascending=ascending).reset_index(drop=True)\n",
    "    \n",
    "    # Create a new column in df_new with column name index and assign it values to df_new.index\n",
    "    df_new[\"index\"] = df_new.index\n",
    "    \n",
    "    # Create a new dataframe by merging input dataframe df and part of the columns of df_new based on \n",
    "    # cluster_field_name\n",
    "    df_final = pd.merge(df, df_new[[cluster_field_name, \"index\"]], on=cluster_field_name)\n",
    "    \n",
    "    # Update the dataframe df_final by deleting the column cluster_field_name\n",
    "    df_final = df_final.drop([cluster_field_name], axis=1)\n",
    "    \n",
    "    # Rename the column index to cluster_field_name\n",
    "    df_final = df_final.rename(columns={\"index\": cluster_field_name})\n",
    "    \n",
    "    return df_final"
   ]
  },
  {
   "cell_type": "code",
   "execution_count": 31,
   "metadata": {
    "_cell_guid": "2f7893f9-a049-46af-9a75-a07b78a464e5",
    "_uuid": "4bcb51d1-70e5-4982-a8dc-26bf7727bc7e",
    "collapsed": false,
    "execution": {
     "iopub.execute_input": "2024-11-06T17:50:54.251874Z",
     "iopub.status.busy": "2024-11-06T17:50:54.251607Z",
     "iopub.status.idle": "2024-11-06T17:50:54.285707Z",
     "shell.execute_reply": "2024-11-06T17:50:54.284686Z",
     "shell.execute_reply.started": "2024-11-06T17:50:54.251839Z"
    },
    "jupyter": {
     "outputs_hidden": false
    },
    "trusted": true
   },
   "outputs": [
    {
     "data": {
      "text/html": [
       "<div>\n",
       "<style scoped>\n",
       "    .dataframe tbody tr th:only-of-type {\n",
       "        vertical-align: middle;\n",
       "    }\n",
       "\n",
       "    .dataframe tbody tr th {\n",
       "        vertical-align: top;\n",
       "    }\n",
       "\n",
       "    .dataframe thead th {\n",
       "        text-align: right;\n",
       "    }\n",
       "</style>\n",
       "<table border=\"1\" class=\"dataframe\">\n",
       "  <thead>\n",
       "    <tr style=\"text-align: right;\">\n",
       "      <th></th>\n",
       "      <th>CustomerID</th>\n",
       "      <th>NextPurchaseDay</th>\n",
       "      <th>Recency</th>\n",
       "      <th>RecencyCluster</th>\n",
       "    </tr>\n",
       "  </thead>\n",
       "  <tbody>\n",
       "    <tr>\n",
       "      <th>0</th>\n",
       "      <td>13085.0</td>\n",
       "      <td>9999.0</td>\n",
       "      <td>57</td>\n",
       "      <td>3</td>\n",
       "    </tr>\n",
       "    <tr>\n",
       "      <th>1</th>\n",
       "      <td>13078.0</td>\n",
       "      <td>13.0</td>\n",
       "      <td>0</td>\n",
       "      <td>3</td>\n",
       "    </tr>\n",
       "    <tr>\n",
       "      <th>2</th>\n",
       "      <td>18102.0</td>\n",
       "      <td>27.0</td>\n",
       "      <td>26</td>\n",
       "      <td>3</td>\n",
       "    </tr>\n",
       "    <tr>\n",
       "      <th>3</th>\n",
       "      <td>12682.0</td>\n",
       "      <td>15.0</td>\n",
       "      <td>0</td>\n",
       "      <td>3</td>\n",
       "    </tr>\n",
       "    <tr>\n",
       "      <th>4</th>\n",
       "      <td>18087.0</td>\n",
       "      <td>46.0</td>\n",
       "      <td>44</td>\n",
       "      <td>3</td>\n",
       "    </tr>\n",
       "  </tbody>\n",
       "</table>\n",
       "</div>"
      ],
      "text/plain": [
       "   CustomerID  NextPurchaseDay  Recency  RecencyCluster\n",
       "0     13085.0           9999.0       57               3\n",
       "1     13078.0             13.0        0               3\n",
       "2     18102.0             27.0       26               3\n",
       "3     12682.0             15.0        0               3\n",
       "4     18087.0             46.0       44               3"
      ]
     },
     "execution_count": 31,
     "metadata": {},
     "output_type": "execute_result"
    }
   ],
   "source": [
    "ctm_dt = order_cluster(ctm_dt, 'Recency', 'RecencyCluster', False)\n",
    "ctm_dt.head()"
   ]
  },
  {
   "cell_type": "code",
   "execution_count": 32,
   "metadata": {
    "_cell_guid": "81c26a86-67f7-4709-8372-f8c5d128fdac",
    "_uuid": "162cc196-760a-4313-9196-79501adf5165",
    "collapsed": false,
    "execution": {
     "iopub.execute_input": "2024-11-06T17:50:54.287329Z",
     "iopub.status.busy": "2024-11-06T17:50:54.287028Z",
     "iopub.status.idle": "2024-11-06T17:50:54.317220Z",
     "shell.execute_reply": "2024-11-06T17:50:54.316154Z",
     "shell.execute_reply.started": "2024-11-06T17:50:54.287288Z"
    },
    "jupyter": {
     "outputs_hidden": false
    },
    "trusted": true
   },
   "outputs": [
    {
     "data": {
      "text/html": [
       "<div>\n",
       "<style scoped>\n",
       "    .dataframe tbody tr th:only-of-type {\n",
       "        vertical-align: middle;\n",
       "    }\n",
       "\n",
       "    .dataframe tbody tr th {\n",
       "        vertical-align: top;\n",
       "    }\n",
       "\n",
       "    .dataframe thead th {\n",
       "        text-align: right;\n",
       "    }\n",
       "</style>\n",
       "<table border=\"1\" class=\"dataframe\">\n",
       "  <thead>\n",
       "    <tr style=\"text-align: right;\">\n",
       "      <th></th>\n",
       "      <th>count</th>\n",
       "      <th>mean</th>\n",
       "      <th>std</th>\n",
       "      <th>min</th>\n",
       "      <th>25%</th>\n",
       "      <th>50%</th>\n",
       "      <th>75%</th>\n",
       "      <th>max</th>\n",
       "    </tr>\n",
       "    <tr>\n",
       "      <th>RecencyCluster</th>\n",
       "      <th></th>\n",
       "      <th></th>\n",
       "      <th></th>\n",
       "      <th></th>\n",
       "      <th></th>\n",
       "      <th></th>\n",
       "      <th></th>\n",
       "      <th></th>\n",
       "    </tr>\n",
       "  </thead>\n",
       "  <tbody>\n",
       "    <tr>\n",
       "      <th>0</th>\n",
       "      <td>750.0</td>\n",
       "      <td>520.509333</td>\n",
       "      <td>65.218473</td>\n",
       "      <td>418.0</td>\n",
       "      <td>465.0</td>\n",
       "      <td>517.0</td>\n",
       "      <td>571.5</td>\n",
       "      <td>638.0</td>\n",
       "    </tr>\n",
       "    <tr>\n",
       "      <th>1</th>\n",
       "      <td>1427.0</td>\n",
       "      <td>314.360196</td>\n",
       "      <td>41.129298</td>\n",
       "      <td>236.0</td>\n",
       "      <td>281.5</td>\n",
       "      <td>308.0</td>\n",
       "      <td>338.0</td>\n",
       "      <td>416.0</td>\n",
       "    </tr>\n",
       "    <tr>\n",
       "      <th>2</th>\n",
       "      <td>1121.0</td>\n",
       "      <td>154.556646</td>\n",
       "      <td>39.686997</td>\n",
       "      <td>96.0</td>\n",
       "      <td>117.0</td>\n",
       "      <td>152.0</td>\n",
       "      <td>185.0</td>\n",
       "      <td>234.0</td>\n",
       "    </tr>\n",
       "    <tr>\n",
       "      <th>3</th>\n",
       "      <td>2016.0</td>\n",
       "      <td>37.407738</td>\n",
       "      <td>27.264651</td>\n",
       "      <td>0.0</td>\n",
       "      <td>13.0</td>\n",
       "      <td>33.0</td>\n",
       "      <td>58.0</td>\n",
       "      <td>94.0</td>\n",
       "    </tr>\n",
       "  </tbody>\n",
       "</table>\n",
       "</div>"
      ],
      "text/plain": [
       "                 count        mean        std    min    25%    50%    75%  \\\n",
       "RecencyCluster                                                              \n",
       "0                750.0  520.509333  65.218473  418.0  465.0  517.0  571.5   \n",
       "1               1427.0  314.360196  41.129298  236.0  281.5  308.0  338.0   \n",
       "2               1121.0  154.556646  39.686997   96.0  117.0  152.0  185.0   \n",
       "3               2016.0   37.407738  27.264651    0.0   13.0   33.0   58.0   \n",
       "\n",
       "                  max  \n",
       "RecencyCluster         \n",
       "0               638.0  \n",
       "1               416.0  \n",
       "2               234.0  \n",
       "3                94.0  "
      ]
     },
     "execution_count": 32,
     "metadata": {},
     "output_type": "execute_result"
    }
   ],
   "source": [
    "#print cluster characteristics\n",
    "ctm_dt.groupby('RecencyCluster')['Recency'].describe()"
   ]
  },
  {
   "cell_type": "markdown",
   "metadata": {
    "_cell_guid": "a0f38dd7-bdc1-47f7-a546-b94303c722a6",
    "_uuid": "30e425b5-1147-4ad4-939f-826d546dd41a",
    "trusted": true
   },
   "source": [
    "\n",
    "Observe from the above that, 3 covers the most recent customers whereas 0 has the most inactive customers."
   ]
  },
  {
   "cell_type": "markdown",
   "metadata": {
    "_cell_guid": "7fe749b5-47e1-49ab-b15c-238c8b9c0adf",
    "_uuid": "0f4cbd04-736b-4786-93bb-a87194fde1e1",
    "trusted": true
   },
   "source": [
    "**Frequency**\n",
    "\n",
    "Next, we will find customers purchase behaviour based on the number of times they buy from the online retail shop. That is, the total number of orders by each customer."
   ]
  },
  {
   "cell_type": "code",
   "execution_count": 33,
   "metadata": {
    "_cell_guid": "c62eeb4a-34cc-40e3-bd6d-28f766a91c8c",
    "_uuid": "45dda5fa-a5bb-4f4d-af89-8596067dcce5",
    "collapsed": false,
    "execution": {
     "iopub.execute_input": "2024-11-06T17:50:54.318649Z",
     "iopub.status.busy": "2024-11-06T17:50:54.318420Z",
     "iopub.status.idle": "2024-11-06T17:50:54.355324Z",
     "shell.execute_reply": "2024-11-06T17:50:54.354395Z",
     "shell.execute_reply.started": "2024-11-06T17:50:54.318622Z"
    },
    "jupyter": {
     "outputs_hidden": false
    },
    "trusted": true
   },
   "outputs": [],
   "source": [
    "#get order counts for each user and create a dataframe with it\n",
    "ctm_frequency = df_data.groupby('CustomerID').InvoiceDate.count().reset_index()\n",
    "ctm_frequency.columns = ['CustomerID','Frequency']"
   ]
  },
  {
   "cell_type": "code",
   "execution_count": 34,
   "metadata": {
    "_cell_guid": "572d7a2b-f2d6-45e1-8894-0e96025d3894",
    "_uuid": "2dfcef19-02c6-4c71-9db8-885de364bdf8",
    "collapsed": false,
    "execution": {
     "iopub.execute_input": "2024-11-06T17:50:54.356876Z",
     "iopub.status.busy": "2024-11-06T17:50:54.356623Z",
     "iopub.status.idle": "2024-11-06T17:50:54.377722Z",
     "shell.execute_reply": "2024-11-06T17:50:54.376742Z",
     "shell.execute_reply.started": "2024-11-06T17:50:54.356846Z"
    },
    "jupyter": {
     "outputs_hidden": false
    },
    "trusted": true
   },
   "outputs": [
    {
     "data": {
      "text/html": [
       "<div>\n",
       "<style scoped>\n",
       "    .dataframe tbody tr th:only-of-type {\n",
       "        vertical-align: middle;\n",
       "    }\n",
       "\n",
       "    .dataframe tbody tr th {\n",
       "        vertical-align: top;\n",
       "    }\n",
       "\n",
       "    .dataframe thead th {\n",
       "        text-align: right;\n",
       "    }\n",
       "</style>\n",
       "<table border=\"1\" class=\"dataframe\">\n",
       "  <thead>\n",
       "    <tr style=\"text-align: right;\">\n",
       "      <th></th>\n",
       "      <th>CustomerID</th>\n",
       "      <th>NextPurchaseDay</th>\n",
       "      <th>Recency</th>\n",
       "      <th>RecencyCluster</th>\n",
       "      <th>Frequency</th>\n",
       "    </tr>\n",
       "  </thead>\n",
       "  <tbody>\n",
       "    <tr>\n",
       "      <th>0</th>\n",
       "      <td>13085.0</td>\n",
       "      <td>9999.0</td>\n",
       "      <td>57</td>\n",
       "      <td>3</td>\n",
       "      <td>92</td>\n",
       "    </tr>\n",
       "    <tr>\n",
       "      <th>1</th>\n",
       "      <td>13078.0</td>\n",
       "      <td>13.0</td>\n",
       "      <td>0</td>\n",
       "      <td>3</td>\n",
       "      <td>801</td>\n",
       "    </tr>\n",
       "    <tr>\n",
       "      <th>2</th>\n",
       "      <td>18102.0</td>\n",
       "      <td>27.0</td>\n",
       "      <td>26</td>\n",
       "      <td>3</td>\n",
       "      <td>1026</td>\n",
       "    </tr>\n",
       "    <tr>\n",
       "      <th>3</th>\n",
       "      <td>12682.0</td>\n",
       "      <td>15.0</td>\n",
       "      <td>0</td>\n",
       "      <td>3</td>\n",
       "      <td>901</td>\n",
       "    </tr>\n",
       "    <tr>\n",
       "      <th>4</th>\n",
       "      <td>18087.0</td>\n",
       "      <td>46.0</td>\n",
       "      <td>44</td>\n",
       "      <td>3</td>\n",
       "      <td>95</td>\n",
       "    </tr>\n",
       "  </tbody>\n",
       "</table>\n",
       "</div>"
      ],
      "text/plain": [
       "   CustomerID  NextPurchaseDay  Recency  RecencyCluster  Frequency\n",
       "0     13085.0           9999.0       57               3         92\n",
       "1     13078.0             13.0        0               3        801\n",
       "2     18102.0             27.0       26               3       1026\n",
       "3     12682.0             15.0        0               3        901\n",
       "4     18087.0             46.0       44               3         95"
      ]
     },
     "execution_count": 34,
     "metadata": {},
     "output_type": "execute_result"
    }
   ],
   "source": [
    "#add this data to our main ctm_dt\n",
    "ctm_dt = pd.merge(ctm_dt, ctm_frequency, on='CustomerID')\n",
    "\n",
    "ctm_dt.head()"
   ]
  },
  {
   "cell_type": "code",
   "execution_count": 35,
   "metadata": {
    "_cell_guid": "7aff7a75-1e9d-46c8-9598-b7add8b30b72",
    "_uuid": "df962ff2-a2ee-438a-8708-a06cca8599ee",
    "collapsed": false,
    "execution": {
     "iopub.execute_input": "2024-11-06T17:50:54.379964Z",
     "iopub.status.busy": "2024-11-06T17:50:54.379626Z",
     "iopub.status.idle": "2024-11-06T17:50:54.394432Z",
     "shell.execute_reply": "2024-11-06T17:50:54.393271Z",
     "shell.execute_reply.started": "2024-11-06T17:50:54.379916Z"
    },
    "jupyter": {
     "outputs_hidden": false
    },
    "trusted": true
   },
   "outputs": [
    {
     "data": {
      "text/html": [
       "<div>\n",
       "<style scoped>\n",
       "    .dataframe tbody tr th:only-of-type {\n",
       "        vertical-align: middle;\n",
       "    }\n",
       "\n",
       "    .dataframe tbody tr th {\n",
       "        vertical-align: top;\n",
       "    }\n",
       "\n",
       "    .dataframe thead th {\n",
       "        text-align: right;\n",
       "    }\n",
       "</style>\n",
       "<table border=\"1\" class=\"dataframe\">\n",
       "  <thead>\n",
       "    <tr style=\"text-align: right;\">\n",
       "      <th></th>\n",
       "      <th>Frequency</th>\n",
       "    </tr>\n",
       "  </thead>\n",
       "  <tbody>\n",
       "    <tr>\n",
       "      <th>count</th>\n",
       "      <td>5314.000000</td>\n",
       "    </tr>\n",
       "    <tr>\n",
       "      <th>mean</th>\n",
       "      <td>134.508656</td>\n",
       "    </tr>\n",
       "    <tr>\n",
       "      <th>std</th>\n",
       "      <td>329.625858</td>\n",
       "    </tr>\n",
       "    <tr>\n",
       "      <th>min</th>\n",
       "      <td>1.000000</td>\n",
       "    </tr>\n",
       "    <tr>\n",
       "      <th>25%</th>\n",
       "      <td>21.000000</td>\n",
       "    </tr>\n",
       "    <tr>\n",
       "      <th>50%</th>\n",
       "      <td>54.000000</td>\n",
       "    </tr>\n",
       "    <tr>\n",
       "      <th>75%</th>\n",
       "      <td>140.750000</td>\n",
       "    </tr>\n",
       "    <tr>\n",
       "      <th>max</th>\n",
       "      <td>11217.000000</td>\n",
       "    </tr>\n",
       "  </tbody>\n",
       "</table>\n",
       "</div>"
      ],
      "text/plain": [
       "          Frequency\n",
       "count   5314.000000\n",
       "mean     134.508656\n",
       "std      329.625858\n",
       "min        1.000000\n",
       "25%       21.000000\n",
       "50%       54.000000\n",
       "75%      140.750000\n",
       "max    11217.000000"
      ]
     },
     "execution_count": 35,
     "metadata": {},
     "output_type": "execute_result"
    }
   ],
   "source": [
    "pd.DataFrame(ctm_dt.Frequency.describe())"
   ]
  },
  {
   "cell_type": "code",
   "execution_count": 37,
   "metadata": {
    "_cell_guid": "d9414435-4cc5-4059-92dc-dbc1f690becd",
    "_uuid": "f3c9e1dd-fa29-4c1b-b91d-0c78dcf7bf57",
    "collapsed": false,
    "execution": {
     "iopub.execute_input": "2024-11-06T17:50:54.396148Z",
     "iopub.status.busy": "2024-11-06T17:50:54.395796Z",
     "iopub.status.idle": "2024-11-06T17:50:54.515156Z",
     "shell.execute_reply": "2024-11-06T17:50:54.514248Z",
     "shell.execute_reply.started": "2024-11-06T17:50:54.396112Z"
    },
    "jupyter": {
     "outputs_hidden": false
    },
    "trusted": true
   },
   "outputs": [],
   "source": [
    "kmeans = KMeans(n_clusters=number_of_clusters)\n",
    "kmeans.fit(ctm_dt[['Frequency']])\n",
    "ctm_dt['FrequencyCluster'] = kmeans.predict(ctm_dt[['Frequency']])"
   ]
  },
  {
   "cell_type": "code",
   "execution_count": 38,
   "metadata": {
    "_cell_guid": "3a8e05c3-083f-4e4e-a8cb-454eba718d32",
    "_uuid": "65a411eb-f5a6-485e-b50c-f01e4a603a57",
    "collapsed": false,
    "execution": {
     "iopub.execute_input": "2024-11-06T17:50:54.517009Z",
     "iopub.status.busy": "2024-11-06T17:50:54.516726Z",
     "iopub.status.idle": "2024-11-06T17:50:54.538994Z",
     "shell.execute_reply": "2024-11-06T17:50:54.537967Z",
     "shell.execute_reply.started": "2024-11-06T17:50:54.516968Z"
    },
    "jupyter": {
     "outputs_hidden": false
    },
    "trusted": true
   },
   "outputs": [
    {
     "data": {
      "text/html": [
       "<div>\n",
       "<style scoped>\n",
       "    .dataframe tbody tr th:only-of-type {\n",
       "        vertical-align: middle;\n",
       "    }\n",
       "\n",
       "    .dataframe tbody tr th {\n",
       "        vertical-align: top;\n",
       "    }\n",
       "\n",
       "    .dataframe thead th {\n",
       "        text-align: right;\n",
       "    }\n",
       "</style>\n",
       "<table border=\"1\" class=\"dataframe\">\n",
       "  <thead>\n",
       "    <tr style=\"text-align: right;\">\n",
       "      <th></th>\n",
       "      <th>CustomerID</th>\n",
       "      <th>NextPurchaseDay</th>\n",
       "      <th>Recency</th>\n",
       "      <th>RecencyCluster</th>\n",
       "      <th>Frequency</th>\n",
       "      <th>FrequencyCluster</th>\n",
       "    </tr>\n",
       "  </thead>\n",
       "  <tbody>\n",
       "    <tr>\n",
       "      <th>0</th>\n",
       "      <td>13085.0</td>\n",
       "      <td>9999.0</td>\n",
       "      <td>57</td>\n",
       "      <td>3</td>\n",
       "      <td>92</td>\n",
       "      <td>3</td>\n",
       "    </tr>\n",
       "    <tr>\n",
       "      <th>1</th>\n",
       "      <td>18087.0</td>\n",
       "      <td>46.0</td>\n",
       "      <td>44</td>\n",
       "      <td>3</td>\n",
       "      <td>95</td>\n",
       "      <td>3</td>\n",
       "    </tr>\n",
       "    <tr>\n",
       "      <th>2</th>\n",
       "      <td>17519.0</td>\n",
       "      <td>9999.0</td>\n",
       "      <td>33</td>\n",
       "      <td>3</td>\n",
       "      <td>190</td>\n",
       "      <td>3</td>\n",
       "    </tr>\n",
       "    <tr>\n",
       "      <th>3</th>\n",
       "      <td>12362.0</td>\n",
       "      <td>40.0</td>\n",
       "      <td>12</td>\n",
       "      <td>3</td>\n",
       "      <td>242</td>\n",
       "      <td>3</td>\n",
       "    </tr>\n",
       "    <tr>\n",
       "      <th>4</th>\n",
       "      <td>15712.0</td>\n",
       "      <td>38.0</td>\n",
       "      <td>9</td>\n",
       "      <td>3</td>\n",
       "      <td>156</td>\n",
       "      <td>3</td>\n",
       "    </tr>\n",
       "  </tbody>\n",
       "</table>\n",
       "</div>"
      ],
      "text/plain": [
       "   CustomerID  NextPurchaseDay  Recency  RecencyCluster  Frequency  \\\n",
       "0     13085.0           9999.0       57               3         92   \n",
       "1     18087.0             46.0       44               3         95   \n",
       "2     17519.0           9999.0       33               3        190   \n",
       "3     12362.0             40.0       12               3        242   \n",
       "4     15712.0             38.0        9               3        156   \n",
       "\n",
       "   FrequencyCluster  \n",
       "0                 3  \n",
       "1                 3  \n",
       "2                 3  \n",
       "3                 3  \n",
       "4                 3  "
      ]
     },
     "execution_count": 38,
     "metadata": {},
     "output_type": "execute_result"
    }
   ],
   "source": [
    "ctm_dt = order_cluster(ctm_dt, 'Frequency', 'FrequencyCluster', False)\n",
    "ctm_dt.head()"
   ]
  },
  {
   "cell_type": "code",
   "execution_count": 39,
   "metadata": {
    "_cell_guid": "5241f424-15a5-4b8d-855f-871480fe4a28",
    "_uuid": "6ad74204-e10d-4720-93be-16bc26892dcb",
    "collapsed": false,
    "execution": {
     "iopub.execute_input": "2024-11-06T17:50:54.540507Z",
     "iopub.status.busy": "2024-11-06T17:50:54.540261Z",
     "iopub.status.idle": "2024-11-06T17:50:54.570886Z",
     "shell.execute_reply": "2024-11-06T17:50:54.569928Z",
     "shell.execute_reply.started": "2024-11-06T17:50:54.540477Z"
    },
    "jupyter": {
     "outputs_hidden": false
    },
    "trusted": true
   },
   "outputs": [
    {
     "data": {
      "text/html": [
       "<div>\n",
       "<style scoped>\n",
       "    .dataframe tbody tr th:only-of-type {\n",
       "        vertical-align: middle;\n",
       "    }\n",
       "\n",
       "    .dataframe tbody tr th {\n",
       "        vertical-align: top;\n",
       "    }\n",
       "\n",
       "    .dataframe thead th {\n",
       "        text-align: right;\n",
       "    }\n",
       "</style>\n",
       "<table border=\"1\" class=\"dataframe\">\n",
       "  <thead>\n",
       "    <tr style=\"text-align: right;\">\n",
       "      <th></th>\n",
       "      <th>count</th>\n",
       "      <th>mean</th>\n",
       "      <th>std</th>\n",
       "      <th>min</th>\n",
       "      <th>25%</th>\n",
       "      <th>50%</th>\n",
       "      <th>75%</th>\n",
       "      <th>max</th>\n",
       "    </tr>\n",
       "    <tr>\n",
       "      <th>FrequencyCluster</th>\n",
       "      <th></th>\n",
       "      <th></th>\n",
       "      <th></th>\n",
       "      <th></th>\n",
       "      <th></th>\n",
       "      <th></th>\n",
       "      <th></th>\n",
       "      <th></th>\n",
       "    </tr>\n",
       "  </thead>\n",
       "  <tbody>\n",
       "    <tr>\n",
       "      <th>0</th>\n",
       "      <td>2.0</td>\n",
       "      <td>10768.500000</td>\n",
       "      <td>634.274783</td>\n",
       "      <td>10320.0</td>\n",
       "      <td>10544.25</td>\n",
       "      <td>10768.5</td>\n",
       "      <td>10992.75</td>\n",
       "      <td>11217.0</td>\n",
       "    </tr>\n",
       "    <tr>\n",
       "      <th>1</th>\n",
       "      <td>14.0</td>\n",
       "      <td>3367.714286</td>\n",
       "      <td>1153.137621</td>\n",
       "      <td>2283.0</td>\n",
       "      <td>2616.75</td>\n",
       "      <td>2775.5</td>\n",
       "      <td>3938.25</td>\n",
       "      <td>6167.0</td>\n",
       "    </tr>\n",
       "    <tr>\n",
       "      <th>2</th>\n",
       "      <td>444.0</td>\n",
       "      <td>619.074324</td>\n",
       "      <td>287.459121</td>\n",
       "      <td>350.0</td>\n",
       "      <td>405.00</td>\n",
       "      <td>519.0</td>\n",
       "      <td>738.50</td>\n",
       "      <td>1951.0</td>\n",
       "    </tr>\n",
       "    <tr>\n",
       "      <th>3</th>\n",
       "      <td>4854.0</td>\n",
       "      <td>76.478162</td>\n",
       "      <td>78.448629</td>\n",
       "      <td>1.0</td>\n",
       "      <td>19.00</td>\n",
       "      <td>47.0</td>\n",
       "      <td>108.00</td>\n",
       "      <td>349.0</td>\n",
       "    </tr>\n",
       "  </tbody>\n",
       "</table>\n",
       "</div>"
      ],
      "text/plain": [
       "                   count          mean          std      min       25%  \\\n",
       "FrequencyCluster                                                         \n",
       "0                    2.0  10768.500000   634.274783  10320.0  10544.25   \n",
       "1                   14.0   3367.714286  1153.137621   2283.0   2616.75   \n",
       "2                  444.0    619.074324   287.459121    350.0    405.00   \n",
       "3                 4854.0     76.478162    78.448629      1.0     19.00   \n",
       "\n",
       "                      50%       75%      max  \n",
       "FrequencyCluster                              \n",
       "0                 10768.5  10992.75  11217.0  \n",
       "1                  2775.5   3938.25   6167.0  \n",
       "2                   519.0    738.50   1951.0  \n",
       "3                    47.0    108.00    349.0  "
      ]
     },
     "execution_count": 39,
     "metadata": {},
     "output_type": "execute_result"
    }
   ],
   "source": [
    "#see details of each cluster\n",
    "ctm_dt.groupby('FrequencyCluster')['Frequency'].describe()"
   ]
  },
  {
   "cell_type": "markdown",
   "metadata": {
    "_cell_guid": "9a360b06-7a75-459a-94fa-e9de4b951082",
    "_uuid": "45904abb-d42d-47f5-81b2-b2b52db52552",
    "trusted": true
   },
   "source": [
    "As it was for the case of the Recency, higher frequency number means better customers."
   ]
  },
  {
   "cell_type": "markdown",
   "metadata": {
    "_cell_guid": "8e3a0107-417a-42b3-8dbf-951319a47f3c",
    "_uuid": "095773db-853d-4767-bd61-c9794267411c",
    "trusted": true
   },
   "source": [
    "**Revenue**"
   ]
  },
  {
   "cell_type": "code",
   "execution_count": 40,
   "metadata": {
    "_cell_guid": "b50b257d-f917-4307-8b4f-e2b61e441afe",
    "_uuid": "054b77ad-22b8-42d7-96fd-0afee52ee6a1",
    "collapsed": false,
    "execution": {
     "iopub.execute_input": "2024-11-06T17:50:54.572368Z",
     "iopub.status.busy": "2024-11-06T17:50:54.572120Z",
     "iopub.status.idle": "2024-11-06T17:50:54.601752Z",
     "shell.execute_reply": "2024-11-06T17:50:54.600848Z",
     "shell.execute_reply.started": "2024-11-06T17:50:54.572336Z"
    },
    "jupyter": {
     "outputs_hidden": false
    },
    "trusted": true
   },
   "outputs": [],
   "source": [
    "ctm_revenue = df_data.groupby('CustomerID').Revenue.sum().reset_index()"
   ]
  },
  {
   "cell_type": "code",
   "execution_count": 41,
   "metadata": {
    "_cell_guid": "edf5650a-969e-44b3-8037-797bcaf0053f",
    "_uuid": "7b99bd34-2743-429e-b136-7b0764e220e9",
    "collapsed": false,
    "execution": {
     "iopub.execute_input": "2024-11-06T17:50:54.603561Z",
     "iopub.status.busy": "2024-11-06T17:50:54.603235Z",
     "iopub.status.idle": "2024-11-06T17:50:54.626351Z",
     "shell.execute_reply": "2024-11-06T17:50:54.625373Z",
     "shell.execute_reply.started": "2024-11-06T17:50:54.603517Z"
    },
    "jupyter": {
     "outputs_hidden": false
    },
    "trusted": true
   },
   "outputs": [
    {
     "data": {
      "text/html": [
       "<div>\n",
       "<style scoped>\n",
       "    .dataframe tbody tr th:only-of-type {\n",
       "        vertical-align: middle;\n",
       "    }\n",
       "\n",
       "    .dataframe tbody tr th {\n",
       "        vertical-align: top;\n",
       "    }\n",
       "\n",
       "    .dataframe thead th {\n",
       "        text-align: right;\n",
       "    }\n",
       "</style>\n",
       "<table border=\"1\" class=\"dataframe\">\n",
       "  <thead>\n",
       "    <tr style=\"text-align: right;\">\n",
       "      <th></th>\n",
       "      <th>CustomerID</th>\n",
       "      <th>NextPurchaseDay</th>\n",
       "      <th>Recency</th>\n",
       "      <th>RecencyCluster</th>\n",
       "      <th>Frequency</th>\n",
       "      <th>FrequencyCluster</th>\n",
       "      <th>Revenue</th>\n",
       "    </tr>\n",
       "  </thead>\n",
       "  <tbody>\n",
       "    <tr>\n",
       "      <th>0</th>\n",
       "      <td>13085.0</td>\n",
       "      <td>9999.0</td>\n",
       "      <td>57</td>\n",
       "      <td>3</td>\n",
       "      <td>92</td>\n",
       "      <td>3</td>\n",
       "      <td>1459.46</td>\n",
       "    </tr>\n",
       "    <tr>\n",
       "      <th>1</th>\n",
       "      <td>18087.0</td>\n",
       "      <td>46.0</td>\n",
       "      <td>44</td>\n",
       "      <td>3</td>\n",
       "      <td>95</td>\n",
       "      <td>3</td>\n",
       "      <td>14411.62</td>\n",
       "    </tr>\n",
       "    <tr>\n",
       "      <th>2</th>\n",
       "      <td>17519.0</td>\n",
       "      <td>9999.0</td>\n",
       "      <td>33</td>\n",
       "      <td>3</td>\n",
       "      <td>190</td>\n",
       "      <td>3</td>\n",
       "      <td>4411.48</td>\n",
       "    </tr>\n",
       "    <tr>\n",
       "      <th>3</th>\n",
       "      <td>12362.0</td>\n",
       "      <td>40.0</td>\n",
       "      <td>12</td>\n",
       "      <td>3</td>\n",
       "      <td>242</td>\n",
       "      <td>3</td>\n",
       "      <td>4804.39</td>\n",
       "    </tr>\n",
       "    <tr>\n",
       "      <th>4</th>\n",
       "      <td>15712.0</td>\n",
       "      <td>38.0</td>\n",
       "      <td>9</td>\n",
       "      <td>3</td>\n",
       "      <td>156</td>\n",
       "      <td>3</td>\n",
       "      <td>3261.01</td>\n",
       "    </tr>\n",
       "  </tbody>\n",
       "</table>\n",
       "</div>"
      ],
      "text/plain": [
       "   CustomerID  NextPurchaseDay  Recency  RecencyCluster  Frequency  \\\n",
       "0     13085.0           9999.0       57               3         92   \n",
       "1     18087.0             46.0       44               3         95   \n",
       "2     17519.0           9999.0       33               3        190   \n",
       "3     12362.0             40.0       12               3        242   \n",
       "4     15712.0             38.0        9               3        156   \n",
       "\n",
       "   FrequencyCluster   Revenue  \n",
       "0                 3   1459.46  \n",
       "1                 3  14411.62  \n",
       "2                 3   4411.48  \n",
       "3                 3   4804.39  \n",
       "4                 3   3261.01  "
      ]
     },
     "execution_count": 41,
     "metadata": {},
     "output_type": "execute_result"
    }
   ],
   "source": [
    "#merge it with our ctm_dt\n",
    "ctm_dt = pd.merge(ctm_dt, ctm_revenue, on='CustomerID')\n",
    "ctm_dt.head()"
   ]
  },
  {
   "cell_type": "code",
   "execution_count": 42,
   "metadata": {
    "_cell_guid": "580297b5-9346-4249-8dd9-ab51bc70fbb7",
    "_uuid": "8ff9e75d-5f50-410d-a89a-85616a335173",
    "collapsed": false,
    "execution": {
     "iopub.execute_input": "2024-11-06T17:50:54.628127Z",
     "iopub.status.busy": "2024-11-06T17:50:54.627785Z",
     "iopub.status.idle": "2024-11-06T17:50:54.701399Z",
     "shell.execute_reply": "2024-11-06T17:50:54.700532Z",
     "shell.execute_reply.started": "2024-11-06T17:50:54.628059Z"
    },
    "jupyter": {
     "outputs_hidden": false
    },
    "trusted": true
   },
   "outputs": [],
   "source": [
    "#apply clustering\n",
    "kmeans = KMeans(n_clusters=number_of_clusters)\n",
    "kmeans.fit(ctm_dt[['Revenue']])\n",
    "ctm_dt['RevenueCluster'] = kmeans.predict(ctm_dt[['Revenue']])"
   ]
  },
  {
   "cell_type": "code",
   "execution_count": 43,
   "metadata": {
    "_cell_guid": "0771a2e0-76df-44d2-9346-d72b77e73d70",
    "_uuid": "8365b23d-6d43-435d-8a6d-45175cec088b",
    "collapsed": false,
    "execution": {
     "iopub.execute_input": "2024-11-06T17:50:54.703375Z",
     "iopub.status.busy": "2024-11-06T17:50:54.702797Z",
     "iopub.status.idle": "2024-11-06T17:50:54.731373Z",
     "shell.execute_reply": "2024-11-06T17:50:54.730334Z",
     "shell.execute_reply.started": "2024-11-06T17:50:54.703324Z"
    },
    "jupyter": {
     "outputs_hidden": false
    },
    "trusted": true
   },
   "outputs": [
    {
     "data": {
      "text/html": [
       "<div>\n",
       "<style scoped>\n",
       "    .dataframe tbody tr th:only-of-type {\n",
       "        vertical-align: middle;\n",
       "    }\n",
       "\n",
       "    .dataframe tbody tr th {\n",
       "        vertical-align: top;\n",
       "    }\n",
       "\n",
       "    .dataframe thead th {\n",
       "        text-align: right;\n",
       "    }\n",
       "</style>\n",
       "<table border=\"1\" class=\"dataframe\">\n",
       "  <thead>\n",
       "    <tr style=\"text-align: right;\">\n",
       "      <th></th>\n",
       "      <th>CustomerID</th>\n",
       "      <th>NextPurchaseDay</th>\n",
       "      <th>Recency</th>\n",
       "      <th>RecencyCluster</th>\n",
       "      <th>Frequency</th>\n",
       "      <th>FrequencyCluster</th>\n",
       "      <th>Revenue</th>\n",
       "      <th>RevenueCluster</th>\n",
       "    </tr>\n",
       "  </thead>\n",
       "  <tbody>\n",
       "    <tr>\n",
       "      <th>0</th>\n",
       "      <td>13085.0</td>\n",
       "      <td>9999.0</td>\n",
       "      <td>57</td>\n",
       "      <td>3</td>\n",
       "      <td>92</td>\n",
       "      <td>3</td>\n",
       "      <td>1459.46</td>\n",
       "      <td>0</td>\n",
       "    </tr>\n",
       "    <tr>\n",
       "      <th>1</th>\n",
       "      <td>17519.0</td>\n",
       "      <td>9999.0</td>\n",
       "      <td>33</td>\n",
       "      <td>3</td>\n",
       "      <td>190</td>\n",
       "      <td>3</td>\n",
       "      <td>4411.48</td>\n",
       "      <td>0</td>\n",
       "    </tr>\n",
       "    <tr>\n",
       "      <th>2</th>\n",
       "      <td>12362.0</td>\n",
       "      <td>40.0</td>\n",
       "      <td>12</td>\n",
       "      <td>3</td>\n",
       "      <td>242</td>\n",
       "      <td>3</td>\n",
       "      <td>4804.39</td>\n",
       "      <td>0</td>\n",
       "    </tr>\n",
       "    <tr>\n",
       "      <th>3</th>\n",
       "      <td>15712.0</td>\n",
       "      <td>38.0</td>\n",
       "      <td>9</td>\n",
       "      <td>3</td>\n",
       "      <td>156</td>\n",
       "      <td>3</td>\n",
       "      <td>3261.01</td>\n",
       "      <td>0</td>\n",
       "    </tr>\n",
       "    <tr>\n",
       "      <th>4</th>\n",
       "      <td>16128.0</td>\n",
       "      <td>66.0</td>\n",
       "      <td>43</td>\n",
       "      <td>3</td>\n",
       "      <td>182</td>\n",
       "      <td>3</td>\n",
       "      <td>3558.76</td>\n",
       "      <td>0</td>\n",
       "    </tr>\n",
       "  </tbody>\n",
       "</table>\n",
       "</div>"
      ],
      "text/plain": [
       "   CustomerID  NextPurchaseDay  Recency  RecencyCluster  Frequency  \\\n",
       "0     13085.0           9999.0       57               3         92   \n",
       "1     17519.0           9999.0       33               3        190   \n",
       "2     12362.0             40.0       12               3        242   \n",
       "3     15712.0             38.0        9               3        156   \n",
       "4     16128.0             66.0       43               3        182   \n",
       "\n",
       "   FrequencyCluster  Revenue  RevenueCluster  \n",
       "0                 3  1459.46               0  \n",
       "1                 3  4411.48               0  \n",
       "2                 3  4804.39               0  \n",
       "3                 3  3261.01               0  \n",
       "4                 3  3558.76               0  "
      ]
     },
     "execution_count": 43,
     "metadata": {},
     "output_type": "execute_result"
    }
   ],
   "source": [
    "#order the cluster numbers\n",
    "ctm_dt = order_cluster(ctm_dt, 'Revenue', 'RevenueCluster', True)\n",
    "ctm_dt.head()"
   ]
  },
  {
   "cell_type": "code",
   "execution_count": 44,
   "metadata": {
    "_cell_guid": "b3c51350-2041-42ad-8ece-3a5936f8efc8",
    "_uuid": "2a66c33b-c0a4-4022-b3f7-9382e25dfccd",
    "collapsed": false,
    "execution": {
     "iopub.execute_input": "2024-11-06T17:50:54.733007Z",
     "iopub.status.busy": "2024-11-06T17:50:54.732723Z",
     "iopub.status.idle": "2024-11-06T17:50:54.763119Z",
     "shell.execute_reply": "2024-11-06T17:50:54.761878Z",
     "shell.execute_reply.started": "2024-11-06T17:50:54.732971Z"
    },
    "jupyter": {
     "outputs_hidden": false
    },
    "trusted": true
   },
   "outputs": [
    {
     "data": {
      "text/html": [
       "<div>\n",
       "<style scoped>\n",
       "    .dataframe tbody tr th:only-of-type {\n",
       "        vertical-align: middle;\n",
       "    }\n",
       "\n",
       "    .dataframe tbody tr th {\n",
       "        vertical-align: top;\n",
       "    }\n",
       "\n",
       "    .dataframe thead th {\n",
       "        text-align: right;\n",
       "    }\n",
       "</style>\n",
       "<table border=\"1\" class=\"dataframe\">\n",
       "  <thead>\n",
       "    <tr style=\"text-align: right;\">\n",
       "      <th></th>\n",
       "      <th>count</th>\n",
       "      <th>mean</th>\n",
       "      <th>std</th>\n",
       "      <th>min</th>\n",
       "      <th>25%</th>\n",
       "      <th>50%</th>\n",
       "      <th>75%</th>\n",
       "      <th>max</th>\n",
       "    </tr>\n",
       "    <tr>\n",
       "      <th>RevenueCluster</th>\n",
       "      <th></th>\n",
       "      <th></th>\n",
       "      <th></th>\n",
       "      <th></th>\n",
       "      <th></th>\n",
       "      <th></th>\n",
       "      <th></th>\n",
       "      <th></th>\n",
       "    </tr>\n",
       "  </thead>\n",
       "  <tbody>\n",
       "    <tr>\n",
       "      <th>0</th>\n",
       "      <td>5170.0</td>\n",
       "      <td>1663.439982</td>\n",
       "      <td>2272.106050</td>\n",
       "      <td>-25111.09</td>\n",
       "      <td>317.96</td>\n",
       "      <td>826.785</td>\n",
       "      <td>2057.2375</td>\n",
       "      <td>13409.67</td>\n",
       "    </tr>\n",
       "    <tr>\n",
       "      <th>1</th>\n",
       "      <td>129.0</td>\n",
       "      <td>25549.154907</td>\n",
       "      <td>13626.406418</td>\n",
       "      <td>13671.52</td>\n",
       "      <td>16012.58</td>\n",
       "      <td>20670.550</td>\n",
       "      <td>29655.7500</td>\n",
       "      <td>80773.58</td>\n",
       "    </tr>\n",
       "    <tr>\n",
       "      <th>2</th>\n",
       "      <td>13.0</td>\n",
       "      <td>149962.386923</td>\n",
       "      <td>63540.384962</td>\n",
       "      <td>89705.47</td>\n",
       "      <td>101844.82</td>\n",
       "      <td>134907.470</td>\n",
       "      <td>182233.4600</td>\n",
       "      <td>289744.44</td>\n",
       "    </tr>\n",
       "    <tr>\n",
       "      <th>3</th>\n",
       "      <td>2.0</td>\n",
       "      <td>524667.270000</td>\n",
       "      <td>48000.840754</td>\n",
       "      <td>490725.55</td>\n",
       "      <td>507696.41</td>\n",
       "      <td>524667.270</td>\n",
       "      <td>541638.1300</td>\n",
       "      <td>558608.99</td>\n",
       "    </tr>\n",
       "  </tbody>\n",
       "</table>\n",
       "</div>"
      ],
      "text/plain": [
       "                 count           mean           std        min        25%  \\\n",
       "RevenueCluster                                                              \n",
       "0               5170.0    1663.439982   2272.106050  -25111.09     317.96   \n",
       "1                129.0   25549.154907  13626.406418   13671.52   16012.58   \n",
       "2                 13.0  149962.386923  63540.384962   89705.47  101844.82   \n",
       "3                  2.0  524667.270000  48000.840754  490725.55  507696.41   \n",
       "\n",
       "                       50%          75%        max  \n",
       "RevenueCluster                                      \n",
       "0                  826.785    2057.2375   13409.67  \n",
       "1                20670.550   29655.7500   80773.58  \n",
       "2               134907.470  182233.4600  289744.44  \n",
       "3               524667.270  541638.1300  558608.99  "
      ]
     },
     "execution_count": 44,
     "metadata": {},
     "output_type": "execute_result"
    }
   ],
   "source": [
    "#show details of the dataframe\n",
    "ctm_dt.groupby('RevenueCluster')['Revenue'].describe()"
   ]
  },
  {
   "cell_type": "markdown",
   "metadata": {
    "_cell_guid": "b5178f57-a4e8-4529-94da-c3a038910e03",
    "_uuid": "4ad4d435-676c-4b5b-b4d0-dba80dfb83b3",
    "trusted": true
   },
   "source": [
    "**Overall Score**\n",
    "\n",
    "Finally we sum all the cluster features"
   ]
  },
  {
   "cell_type": "code",
   "execution_count": 45,
   "metadata": {
    "_cell_guid": "b0240e1a-e7ca-4a72-b153-94aea300ae67",
    "_uuid": "842ac67b-8406-447c-b22d-b048b1de7728",
    "collapsed": false,
    "execution": {
     "iopub.execute_input": "2024-11-06T17:50:54.764703Z",
     "iopub.status.busy": "2024-11-06T17:50:54.764443Z",
     "iopub.status.idle": "2024-11-06T17:50:54.784634Z",
     "shell.execute_reply": "2024-11-06T17:50:54.783396Z",
     "shell.execute_reply.started": "2024-11-06T17:50:54.764670Z"
    },
    "jupyter": {
     "outputs_hidden": false
    },
    "trusted": true
   },
   "outputs": [
    {
     "ename": "ValueError",
     "evalue": "Cannot subset columns with a tuple with more than one element. Use a list instead.",
     "output_type": "error",
     "traceback": [
      "\u001b[0;31m---------------------------------------------------------------------------\u001b[0m",
      "\u001b[0;31mValueError\u001b[0m                                Traceback (most recent call last)",
      "Cell \u001b[0;32mIn[45], line 3\u001b[0m\n\u001b[1;32m      1\u001b[0m \u001b[38;5;66;03m#calculate overall score and use mean() to see details\u001b[39;00m\n\u001b[1;32m      2\u001b[0m ctm_dt[\u001b[38;5;124m'\u001b[39m\u001b[38;5;124mOverallScore\u001b[39m\u001b[38;5;124m'\u001b[39m] \u001b[38;5;241m=\u001b[39m ctm_dt[\u001b[38;5;124m'\u001b[39m\u001b[38;5;124mRecencyCluster\u001b[39m\u001b[38;5;124m'\u001b[39m] \u001b[38;5;241m+\u001b[39m ctm_dt[\u001b[38;5;124m'\u001b[39m\u001b[38;5;124mFrequencyCluster\u001b[39m\u001b[38;5;124m'\u001b[39m] \u001b[38;5;241m+\u001b[39m ctm_dt[\u001b[38;5;124m'\u001b[39m\u001b[38;5;124mRevenueCluster\u001b[39m\u001b[38;5;124m'\u001b[39m]\n\u001b[0;32m----> 3\u001b[0m \u001b[43mctm_dt\u001b[49m\u001b[38;5;241;43m.\u001b[39;49m\u001b[43mgroupby\u001b[49m\u001b[43m(\u001b[49m\u001b[38;5;124;43m'\u001b[39;49m\u001b[38;5;124;43mOverallScore\u001b[39;49m\u001b[38;5;124;43m'\u001b[39;49m\u001b[43m)\u001b[49m\u001b[43m[\u001b[49m\u001b[38;5;124;43m'\u001b[39;49m\u001b[38;5;124;43mRecency\u001b[39;49m\u001b[38;5;124;43m'\u001b[39;49m\u001b[43m,\u001b[49m\u001b[38;5;124;43m'\u001b[39;49m\u001b[38;5;124;43mFrequency\u001b[39;49m\u001b[38;5;124;43m'\u001b[39;49m\u001b[43m,\u001b[49m\u001b[38;5;124;43m'\u001b[39;49m\u001b[38;5;124;43mRevenue\u001b[39;49m\u001b[38;5;124;43m'\u001b[39;49m\u001b[43m]\u001b[49m\u001b[38;5;241m.\u001b[39mmean()\n",
      "File \u001b[0;32m~/.local/lib/python3.10/site-packages/pandas/core/groupby/generic.py:1960\u001b[0m, in \u001b[0;36mDataFrameGroupBy.__getitem__\u001b[0;34m(self, key)\u001b[0m\n\u001b[1;32m   1956\u001b[0m \u001b[38;5;66;03m# per GH 23566\u001b[39;00m\n\u001b[1;32m   1957\u001b[0m \u001b[38;5;28;01mif\u001b[39;00m \u001b[38;5;28misinstance\u001b[39m(key, \u001b[38;5;28mtuple\u001b[39m) \u001b[38;5;129;01mand\u001b[39;00m \u001b[38;5;28mlen\u001b[39m(key) \u001b[38;5;241m>\u001b[39m \u001b[38;5;241m1\u001b[39m:\n\u001b[1;32m   1958\u001b[0m     \u001b[38;5;66;03m# if len == 1, then it becomes a SeriesGroupBy and this is actually\u001b[39;00m\n\u001b[1;32m   1959\u001b[0m     \u001b[38;5;66;03m# valid syntax, so don't raise\u001b[39;00m\n\u001b[0;32m-> 1960\u001b[0m     \u001b[38;5;28;01mraise\u001b[39;00m \u001b[38;5;167;01mValueError\u001b[39;00m(\n\u001b[1;32m   1961\u001b[0m         \u001b[38;5;124m\"\u001b[39m\u001b[38;5;124mCannot subset columns with a tuple with more than one element. \u001b[39m\u001b[38;5;124m\"\u001b[39m\n\u001b[1;32m   1962\u001b[0m         \u001b[38;5;124m\"\u001b[39m\u001b[38;5;124mUse a list instead.\u001b[39m\u001b[38;5;124m\"\u001b[39m\n\u001b[1;32m   1963\u001b[0m     )\n\u001b[1;32m   1964\u001b[0m \u001b[38;5;28;01mreturn\u001b[39;00m \u001b[38;5;28msuper\u001b[39m()\u001b[38;5;241m.\u001b[39m\u001b[38;5;21m__getitem__\u001b[39m(key)\n",
      "\u001b[0;31mValueError\u001b[0m: Cannot subset columns with a tuple with more than one element. Use a list instead."
     ]
    }
   ],
   "source": [
    "#calculate overall score and use mean() to see details\n",
    "ctm_dt['OverallScore'] = ctm_dt['RecencyCluster'] + ctm_dt['FrequencyCluster'] + ctm_dt['RevenueCluster']\n",
    "ctm_dt.groupby('OverallScore')['Recency','Frequency','Revenue'].mean()"
   ]
  },
  {
   "cell_type": "markdown",
   "metadata": {
    "_cell_guid": "6fbf82ba-82d9-4075-b9ec-d542d21a901a",
    "_uuid": "64d9e276-6d05-4758-936f-8914eae79756",
    "trusted": true
   },
   "source": [
    "The scoring above clearly shows us that customers with score"
   ]
  },
  {
   "cell_type": "code",
   "execution_count": 46,
   "metadata": {
    "_cell_guid": "0f6bf013-17b2-4a7c-b1b2-679f91885588",
    "_uuid": "316a7229-fd7f-43da-9ec7-18bbb76697ff",
    "collapsed": false,
    "execution": {
     "iopub.execute_input": "2024-11-06T17:50:54.786302Z",
     "iopub.status.busy": "2024-11-06T17:50:54.786003Z",
     "iopub.status.idle": "2024-11-06T17:50:54.797437Z",
     "shell.execute_reply": "2024-11-06T17:50:54.795919Z",
     "shell.execute_reply.started": "2024-11-06T17:50:54.786268Z"
    },
    "jupyter": {
     "outputs_hidden": false
    },
    "trusted": true
   },
   "outputs": [],
   "source": [
    "ctm_dt['Segment'] = 'Low-Value'\n",
    "ctm_dt.loc[ctm_dt['OverallScore'] > 4, 'Segment'] = 'Mid-Value'\n",
    "ctm_dt.loc[ctm_dt['OverallScore'] > 6, 'Segment'] = 'High-Value'"
   ]
  },
  {
   "cell_type": "code",
   "execution_count": 47,
   "metadata": {
    "_cell_guid": "a4e8cf93-bd75-4cb7-8b7d-9fe099af479f",
    "_uuid": "0907506d-45ba-4bf3-ad19-1409fa2ddf7d",
    "collapsed": false,
    "execution": {
     "iopub.execute_input": "2024-11-06T17:50:54.800267Z",
     "iopub.status.busy": "2024-11-06T17:50:54.799817Z",
     "iopub.status.idle": "2024-11-06T17:50:54.822722Z",
     "shell.execute_reply": "2024-11-06T17:50:54.821382Z",
     "shell.execute_reply.started": "2024-11-06T17:50:54.800215Z"
    },
    "jupyter": {
     "outputs_hidden": false
    },
    "trusted": true
   },
   "outputs": [
    {
     "data": {
      "text/html": [
       "<div>\n",
       "<style scoped>\n",
       "    .dataframe tbody tr th:only-of-type {\n",
       "        vertical-align: middle;\n",
       "    }\n",
       "\n",
       "    .dataframe tbody tr th {\n",
       "        vertical-align: top;\n",
       "    }\n",
       "\n",
       "    .dataframe thead th {\n",
       "        text-align: right;\n",
       "    }\n",
       "</style>\n",
       "<table border=\"1\" class=\"dataframe\">\n",
       "  <thead>\n",
       "    <tr style=\"text-align: right;\">\n",
       "      <th></th>\n",
       "      <th>CustomerID</th>\n",
       "      <th>NextPurchaseDay</th>\n",
       "      <th>Recency</th>\n",
       "      <th>RecencyCluster</th>\n",
       "      <th>Frequency</th>\n",
       "      <th>FrequencyCluster</th>\n",
       "      <th>Revenue</th>\n",
       "      <th>RevenueCluster</th>\n",
       "      <th>OverallScore</th>\n",
       "      <th>Segment</th>\n",
       "    </tr>\n",
       "  </thead>\n",
       "  <tbody>\n",
       "    <tr>\n",
       "      <th>0</th>\n",
       "      <td>13085.0</td>\n",
       "      <td>9999.0</td>\n",
       "      <td>57</td>\n",
       "      <td>3</td>\n",
       "      <td>92</td>\n",
       "      <td>3</td>\n",
       "      <td>1459.46</td>\n",
       "      <td>0</td>\n",
       "      <td>6</td>\n",
       "      <td>Mid-Value</td>\n",
       "    </tr>\n",
       "    <tr>\n",
       "      <th>1</th>\n",
       "      <td>17519.0</td>\n",
       "      <td>9999.0</td>\n",
       "      <td>33</td>\n",
       "      <td>3</td>\n",
       "      <td>190</td>\n",
       "      <td>3</td>\n",
       "      <td>4411.48</td>\n",
       "      <td>0</td>\n",
       "      <td>6</td>\n",
       "      <td>Mid-Value</td>\n",
       "    </tr>\n",
       "    <tr>\n",
       "      <th>2</th>\n",
       "      <td>12362.0</td>\n",
       "      <td>40.0</td>\n",
       "      <td>12</td>\n",
       "      <td>3</td>\n",
       "      <td>242</td>\n",
       "      <td>3</td>\n",
       "      <td>4804.39</td>\n",
       "      <td>0</td>\n",
       "      <td>6</td>\n",
       "      <td>Mid-Value</td>\n",
       "    </tr>\n",
       "    <tr>\n",
       "      <th>3</th>\n",
       "      <td>15712.0</td>\n",
       "      <td>38.0</td>\n",
       "      <td>9</td>\n",
       "      <td>3</td>\n",
       "      <td>156</td>\n",
       "      <td>3</td>\n",
       "      <td>3261.01</td>\n",
       "      <td>0</td>\n",
       "      <td>6</td>\n",
       "      <td>Mid-Value</td>\n",
       "    </tr>\n",
       "    <tr>\n",
       "      <th>4</th>\n",
       "      <td>16128.0</td>\n",
       "      <td>66.0</td>\n",
       "      <td>43</td>\n",
       "      <td>3</td>\n",
       "      <td>182</td>\n",
       "      <td>3</td>\n",
       "      <td>3558.76</td>\n",
       "      <td>0</td>\n",
       "      <td>6</td>\n",
       "      <td>Mid-Value</td>\n",
       "    </tr>\n",
       "  </tbody>\n",
       "</table>\n",
       "</div>"
      ],
      "text/plain": [
       "   CustomerID  NextPurchaseDay  Recency  RecencyCluster  Frequency  \\\n",
       "0     13085.0           9999.0       57               3         92   \n",
       "1     17519.0           9999.0       33               3        190   \n",
       "2     12362.0             40.0       12               3        242   \n",
       "3     15712.0             38.0        9               3        156   \n",
       "4     16128.0             66.0       43               3        182   \n",
       "\n",
       "   FrequencyCluster  Revenue  RevenueCluster  OverallScore    Segment  \n",
       "0                 3  1459.46               0             6  Mid-Value  \n",
       "1                 3  4411.48               0             6  Mid-Value  \n",
       "2                 3  4804.39               0             6  Mid-Value  \n",
       "3                 3  3261.01               0             6  Mid-Value  \n",
       "4                 3  3558.76               0             6  Mid-Value  "
      ]
     },
     "execution_count": 47,
     "metadata": {},
     "output_type": "execute_result"
    }
   ],
   "source": [
    "ctm_dt.head()"
   ]
  },
  {
   "cell_type": "markdown",
   "metadata": {
    "_cell_guid": "9c419656-2f5d-4b96-a999-f42f41d1230f",
    "_uuid": "98ca1c65-94b6-42b0-bb6b-8755b930f96d",
    "trusted": true
   },
   "source": [
    "Let us create a copy of the dataframe ctm_dt and apply the method get_dummies to it so as to convert all categorical column Segment to indicator variables."
   ]
  },
  {
   "cell_type": "code",
   "execution_count": 48,
   "metadata": {
    "_cell_guid": "20ad326c-7349-46d1-a387-e8107b09ff4a",
    "_uuid": "97a6eb7a-0aa1-49ea-bc54-85b7503993ca",
    "collapsed": false,
    "execution": {
     "iopub.execute_input": "2024-11-06T17:50:54.824429Z",
     "iopub.status.busy": "2024-11-06T17:50:54.824139Z",
     "iopub.status.idle": "2024-11-06T17:50:54.854011Z",
     "shell.execute_reply": "2024-11-06T17:50:54.852685Z",
     "shell.execute_reply.started": "2024-11-06T17:50:54.824393Z"
    },
    "jupyter": {
     "outputs_hidden": false
    },
    "trusted": true
   },
   "outputs": [
    {
     "data": {
      "text/html": [
       "<div>\n",
       "<style scoped>\n",
       "    .dataframe tbody tr th:only-of-type {\n",
       "        vertical-align: middle;\n",
       "    }\n",
       "\n",
       "    .dataframe tbody tr th {\n",
       "        vertical-align: top;\n",
       "    }\n",
       "\n",
       "    .dataframe thead th {\n",
       "        text-align: right;\n",
       "    }\n",
       "</style>\n",
       "<table border=\"1\" class=\"dataframe\">\n",
       "  <thead>\n",
       "    <tr style=\"text-align: right;\">\n",
       "      <th></th>\n",
       "      <th>CustomerID</th>\n",
       "      <th>NextPurchaseDay</th>\n",
       "      <th>Recency</th>\n",
       "      <th>RecencyCluster</th>\n",
       "      <th>Frequency</th>\n",
       "      <th>FrequencyCluster</th>\n",
       "      <th>Revenue</th>\n",
       "      <th>RevenueCluster</th>\n",
       "      <th>OverallScore</th>\n",
       "      <th>Segment_High-Value</th>\n",
       "      <th>Segment_Low-Value</th>\n",
       "      <th>Segment_Mid-Value</th>\n",
       "    </tr>\n",
       "  </thead>\n",
       "  <tbody>\n",
       "    <tr>\n",
       "      <th>0</th>\n",
       "      <td>13085.0</td>\n",
       "      <td>9999.0</td>\n",
       "      <td>57</td>\n",
       "      <td>3</td>\n",
       "      <td>92</td>\n",
       "      <td>3</td>\n",
       "      <td>1459.46</td>\n",
       "      <td>0</td>\n",
       "      <td>6</td>\n",
       "      <td>False</td>\n",
       "      <td>False</td>\n",
       "      <td>True</td>\n",
       "    </tr>\n",
       "    <tr>\n",
       "      <th>1</th>\n",
       "      <td>17519.0</td>\n",
       "      <td>9999.0</td>\n",
       "      <td>33</td>\n",
       "      <td>3</td>\n",
       "      <td>190</td>\n",
       "      <td>3</td>\n",
       "      <td>4411.48</td>\n",
       "      <td>0</td>\n",
       "      <td>6</td>\n",
       "      <td>False</td>\n",
       "      <td>False</td>\n",
       "      <td>True</td>\n",
       "    </tr>\n",
       "    <tr>\n",
       "      <th>2</th>\n",
       "      <td>12362.0</td>\n",
       "      <td>40.0</td>\n",
       "      <td>12</td>\n",
       "      <td>3</td>\n",
       "      <td>242</td>\n",
       "      <td>3</td>\n",
       "      <td>4804.39</td>\n",
       "      <td>0</td>\n",
       "      <td>6</td>\n",
       "      <td>False</td>\n",
       "      <td>False</td>\n",
       "      <td>True</td>\n",
       "    </tr>\n",
       "    <tr>\n",
       "      <th>3</th>\n",
       "      <td>15712.0</td>\n",
       "      <td>38.0</td>\n",
       "      <td>9</td>\n",
       "      <td>3</td>\n",
       "      <td>156</td>\n",
       "      <td>3</td>\n",
       "      <td>3261.01</td>\n",
       "      <td>0</td>\n",
       "      <td>6</td>\n",
       "      <td>False</td>\n",
       "      <td>False</td>\n",
       "      <td>True</td>\n",
       "    </tr>\n",
       "    <tr>\n",
       "      <th>4</th>\n",
       "      <td>16128.0</td>\n",
       "      <td>66.0</td>\n",
       "      <td>43</td>\n",
       "      <td>3</td>\n",
       "      <td>182</td>\n",
       "      <td>3</td>\n",
       "      <td>3558.76</td>\n",
       "      <td>0</td>\n",
       "      <td>6</td>\n",
       "      <td>False</td>\n",
       "      <td>False</td>\n",
       "      <td>True</td>\n",
       "    </tr>\n",
       "  </tbody>\n",
       "</table>\n",
       "</div>"
      ],
      "text/plain": [
       "   CustomerID  NextPurchaseDay  Recency  RecencyCluster  Frequency  \\\n",
       "0     13085.0           9999.0       57               3         92   \n",
       "1     17519.0           9999.0       33               3        190   \n",
       "2     12362.0             40.0       12               3        242   \n",
       "3     15712.0             38.0        9               3        156   \n",
       "4     16128.0             66.0       43               3        182   \n",
       "\n",
       "   FrequencyCluster  Revenue  RevenueCluster  OverallScore  \\\n",
       "0                 3  1459.46               0             6   \n",
       "1                 3  4411.48               0             6   \n",
       "2                 3  4804.39               0             6   \n",
       "3                 3  3261.01               0             6   \n",
       "4                 3  3558.76               0             6   \n",
       "\n",
       "   Segment_High-Value  Segment_Low-Value  Segment_Mid-Value  \n",
       "0               False              False               True  \n",
       "1               False              False               True  \n",
       "2               False              False               True  \n",
       "3               False              False               True  \n",
       "4               False              False               True  "
      ]
     },
     "execution_count": 48,
     "metadata": {},
     "output_type": "execute_result"
    }
   ],
   "source": [
    "#create ctm_class as a copy of ctm_dt before applying get_dummies\n",
    "ctm_class = ctm_dt.copy()\n",
    "ctm_class = pd.get_dummies(ctm_class)\n",
    "ctm_class.head()"
   ]
  },
  {
   "cell_type": "markdown",
   "metadata": {
    "_cell_guid": "52ddbe7a-c401-4eb9-ba75-04636e6bb529",
    "_uuid": "553dcc81-10b0-4e88-ab81-a9874c412db9",
    "trusted": true
   },
   "source": [
    "Since our goal is to estimate whether a customer will make a purchase in the next quarter, we will create a new column NextPurchaseDayRange with values as either 1 or 0 defined as follows:\n",
    "\n",
    "* If the value is 1, then it indicates that the customer will buy something in the next quarter, i.e., 90 days from his or her last purchase.\n",
    "\n",
    "* The value 0 indicates that the customer will buy something in more than 90 days from his or her last purchase."
   ]
  },
  {
   "cell_type": "code",
   "execution_count": 49,
   "metadata": {
    "_cell_guid": "b41fdc0b-f921-4391-a81c-57a2ac8420e8",
    "_uuid": "d3a72f3c-70f0-46e8-a653-898b760ebb52",
    "collapsed": false,
    "execution": {
     "iopub.execute_input": "2024-11-06T17:50:54.856237Z",
     "iopub.status.busy": "2024-11-06T17:50:54.855820Z",
     "iopub.status.idle": "2024-11-06T17:50:54.878542Z",
     "shell.execute_reply": "2024-11-06T17:50:54.877409Z",
     "shell.execute_reply.started": "2024-11-06T17:50:54.856194Z"
    },
    "jupyter": {
     "outputs_hidden": false
    },
    "trusted": true
   },
   "outputs": [
    {
     "data": {
      "text/html": [
       "<div>\n",
       "<style scoped>\n",
       "    .dataframe tbody tr th:only-of-type {\n",
       "        vertical-align: middle;\n",
       "    }\n",
       "\n",
       "    .dataframe tbody tr th {\n",
       "        vertical-align: top;\n",
       "    }\n",
       "\n",
       "    .dataframe thead th {\n",
       "        text-align: right;\n",
       "    }\n",
       "</style>\n",
       "<table border=\"1\" class=\"dataframe\">\n",
       "  <thead>\n",
       "    <tr style=\"text-align: right;\">\n",
       "      <th></th>\n",
       "      <th>CustomerID</th>\n",
       "      <th>NextPurchaseDay</th>\n",
       "      <th>Recency</th>\n",
       "      <th>RecencyCluster</th>\n",
       "      <th>Frequency</th>\n",
       "      <th>FrequencyCluster</th>\n",
       "      <th>Revenue</th>\n",
       "      <th>RevenueCluster</th>\n",
       "      <th>OverallScore</th>\n",
       "      <th>Segment_High-Value</th>\n",
       "      <th>Segment_Low-Value</th>\n",
       "      <th>Segment_Mid-Value</th>\n",
       "      <th>NextPurchaseDayRange</th>\n",
       "    </tr>\n",
       "  </thead>\n",
       "  <tbody>\n",
       "    <tr>\n",
       "      <th>0</th>\n",
       "      <td>13085.0</td>\n",
       "      <td>9999.0</td>\n",
       "      <td>57</td>\n",
       "      <td>3</td>\n",
       "      <td>92</td>\n",
       "      <td>3</td>\n",
       "      <td>1459.46</td>\n",
       "      <td>0</td>\n",
       "      <td>6</td>\n",
       "      <td>False</td>\n",
       "      <td>False</td>\n",
       "      <td>True</td>\n",
       "      <td>0</td>\n",
       "    </tr>\n",
       "    <tr>\n",
       "      <th>1</th>\n",
       "      <td>17519.0</td>\n",
       "      <td>9999.0</td>\n",
       "      <td>33</td>\n",
       "      <td>3</td>\n",
       "      <td>190</td>\n",
       "      <td>3</td>\n",
       "      <td>4411.48</td>\n",
       "      <td>0</td>\n",
       "      <td>6</td>\n",
       "      <td>False</td>\n",
       "      <td>False</td>\n",
       "      <td>True</td>\n",
       "      <td>0</td>\n",
       "    </tr>\n",
       "    <tr>\n",
       "      <th>2</th>\n",
       "      <td>12362.0</td>\n",
       "      <td>40.0</td>\n",
       "      <td>12</td>\n",
       "      <td>3</td>\n",
       "      <td>242</td>\n",
       "      <td>3</td>\n",
       "      <td>4804.39</td>\n",
       "      <td>0</td>\n",
       "      <td>6</td>\n",
       "      <td>False</td>\n",
       "      <td>False</td>\n",
       "      <td>True</td>\n",
       "      <td>1</td>\n",
       "    </tr>\n",
       "    <tr>\n",
       "      <th>3</th>\n",
       "      <td>15712.0</td>\n",
       "      <td>38.0</td>\n",
       "      <td>9</td>\n",
       "      <td>3</td>\n",
       "      <td>156</td>\n",
       "      <td>3</td>\n",
       "      <td>3261.01</td>\n",
       "      <td>0</td>\n",
       "      <td>6</td>\n",
       "      <td>False</td>\n",
       "      <td>False</td>\n",
       "      <td>True</td>\n",
       "      <td>1</td>\n",
       "    </tr>\n",
       "    <tr>\n",
       "      <th>4</th>\n",
       "      <td>16128.0</td>\n",
       "      <td>66.0</td>\n",
       "      <td>43</td>\n",
       "      <td>3</td>\n",
       "      <td>182</td>\n",
       "      <td>3</td>\n",
       "      <td>3558.76</td>\n",
       "      <td>0</td>\n",
       "      <td>6</td>\n",
       "      <td>False</td>\n",
       "      <td>False</td>\n",
       "      <td>True</td>\n",
       "      <td>1</td>\n",
       "    </tr>\n",
       "  </tbody>\n",
       "</table>\n",
       "</div>"
      ],
      "text/plain": [
       "   CustomerID  NextPurchaseDay  Recency  RecencyCluster  Frequency  \\\n",
       "0     13085.0           9999.0       57               3         92   \n",
       "1     17519.0           9999.0       33               3        190   \n",
       "2     12362.0             40.0       12               3        242   \n",
       "3     15712.0             38.0        9               3        156   \n",
       "4     16128.0             66.0       43               3        182   \n",
       "\n",
       "   FrequencyCluster  Revenue  RevenueCluster  OverallScore  \\\n",
       "0                 3  1459.46               0             6   \n",
       "1                 3  4411.48               0             6   \n",
       "2                 3  4804.39               0             6   \n",
       "3                 3  3261.01               0             6   \n",
       "4                 3  3558.76               0             6   \n",
       "\n",
       "   Segment_High-Value  Segment_Low-Value  Segment_Mid-Value  \\\n",
       "0               False              False               True   \n",
       "1               False              False               True   \n",
       "2               False              False               True   \n",
       "3               False              False               True   \n",
       "4               False              False               True   \n",
       "\n",
       "   NextPurchaseDayRange  \n",
       "0                     0  \n",
       "1                     0  \n",
       "2                     1  \n",
       "3                     1  \n",
       "4                     1  "
      ]
     },
     "execution_count": 49,
     "metadata": {},
     "output_type": "execute_result"
    }
   ],
   "source": [
    "ctm_class['NextPurchaseDayRange'] = 1  ## less than 3 months\n",
    "ctm_class.loc[ctm_class.NextPurchaseDay>90,'NextPurchaseDayRange'] = 0 # more than 3 months\n",
    "ctm_class.head()"
   ]
  },
  {
   "cell_type": "markdown",
   "metadata": {
    "_cell_guid": "3fdee5bb-77e5-4941-ba9e-4962023fcf01",
    "_uuid": "a0fc5529-b054-4058-87eb-136304d5b3c1",
    "trusted": true
   },
   "source": [
    "Finally in this section, let's see the correlation between our features and label. We can achieve this by applying the corr method to the dataframe ctm_dt."
   ]
  },
  {
   "cell_type": "code",
   "execution_count": 50,
   "metadata": {
    "_cell_guid": "75d64250-7e21-4783-b2a7-0a3bbcde3622",
    "_uuid": "55945ee2-be7a-4339-a21d-d4dc9ea99bb9",
    "collapsed": false,
    "execution": {
     "iopub.execute_input": "2024-11-06T17:50:54.880277Z",
     "iopub.status.busy": "2024-11-06T17:50:54.879958Z",
     "iopub.status.idle": "2024-11-06T17:50:54.904245Z",
     "shell.execute_reply": "2024-11-06T17:50:54.903161Z",
     "shell.execute_reply.started": "2024-11-06T17:50:54.880240Z"
    },
    "jupyter": {
     "outputs_hidden": false
    },
    "trusted": true
   },
   "outputs": [
    {
     "data": {
      "text/html": [
       "<div>\n",
       "<style scoped>\n",
       "    .dataframe tbody tr th:only-of-type {\n",
       "        vertical-align: middle;\n",
       "    }\n",
       "\n",
       "    .dataframe tbody tr th {\n",
       "        vertical-align: top;\n",
       "    }\n",
       "\n",
       "    .dataframe thead th {\n",
       "        text-align: right;\n",
       "    }\n",
       "</style>\n",
       "<table border=\"1\" class=\"dataframe\">\n",
       "  <thead>\n",
       "    <tr style=\"text-align: right;\">\n",
       "      <th></th>\n",
       "      <th>MinCorrelationCoeff</th>\n",
       "      <th>MaxCorrelationCoeff</th>\n",
       "    </tr>\n",
       "  </thead>\n",
       "  <tbody>\n",
       "    <tr>\n",
       "      <th>CustomerID</th>\n",
       "      <td>-0.042081</td>\n",
       "      <td>0.041341</td>\n",
       "    </tr>\n",
       "    <tr>\n",
       "      <th>NextPurchaseDay</th>\n",
       "      <td>-0.638385</td>\n",
       "      <td>0.430140</td>\n",
       "    </tr>\n",
       "    <tr>\n",
       "      <th>Recency</th>\n",
       "      <td>-0.964459</td>\n",
       "      <td>0.855980</td>\n",
       "    </tr>\n",
       "    <tr>\n",
       "      <th>RecencyCluster</th>\n",
       "      <td>-0.964459</td>\n",
       "      <td>0.965892</td>\n",
       "    </tr>\n",
       "    <tr>\n",
       "      <th>Frequency</th>\n",
       "      <td>-0.705590</td>\n",
       "      <td>0.484804</td>\n",
       "    </tr>\n",
       "    <tr>\n",
       "      <th>FrequencyCluster</th>\n",
       "      <td>-0.705590</td>\n",
       "      <td>0.293458</td>\n",
       "    </tr>\n",
       "    <tr>\n",
       "      <th>Revenue</th>\n",
       "      <td>-0.364364</td>\n",
       "      <td>0.709642</td>\n",
       "    </tr>\n",
       "    <tr>\n",
       "      <th>RevenueCluster</th>\n",
       "      <td>-0.403472</td>\n",
       "      <td>0.709642</td>\n",
       "    </tr>\n",
       "    <tr>\n",
       "      <th>OverallScore</th>\n",
       "      <td>-0.931451</td>\n",
       "      <td>0.965892</td>\n",
       "    </tr>\n",
       "    <tr>\n",
       "      <th>Segment_High-Value</th>\n",
       "      <td>-0.106976</td>\n",
       "      <td>0.597811</td>\n",
       "    </tr>\n",
       "    <tr>\n",
       "      <th>Segment_Low-Value</th>\n",
       "      <td>-0.982803</td>\n",
       "      <td>0.855980</td>\n",
       "    </tr>\n",
       "    <tr>\n",
       "      <th>Segment_Mid-Value</th>\n",
       "      <td>-0.982803</td>\n",
       "      <td>0.868970</td>\n",
       "    </tr>\n",
       "    <tr>\n",
       "      <th>NextPurchaseDayRange</th>\n",
       "      <td>-0.638385</td>\n",
       "      <td>0.510529</td>\n",
       "    </tr>\n",
       "  </tbody>\n",
       "</table>\n",
       "</div>"
      ],
      "text/plain": [
       "                      MinCorrelationCoeff  MaxCorrelationCoeff\n",
       "CustomerID                      -0.042081             0.041341\n",
       "NextPurchaseDay                 -0.638385             0.430140\n",
       "Recency                         -0.964459             0.855980\n",
       "RecencyCluster                  -0.964459             0.965892\n",
       "Frequency                       -0.705590             0.484804\n",
       "FrequencyCluster                -0.705590             0.293458\n",
       "Revenue                         -0.364364             0.709642\n",
       "RevenueCluster                  -0.403472             0.709642\n",
       "OverallScore                    -0.931451             0.965892\n",
       "Segment_High-Value              -0.106976             0.597811\n",
       "Segment_Low-Value               -0.982803             0.855980\n",
       "Segment_Mid-Value               -0.982803             0.868970\n",
       "NextPurchaseDayRange            -0.638385             0.510529"
      ]
     },
     "execution_count": 50,
     "metadata": {},
     "output_type": "execute_result"
    }
   ],
   "source": [
    "corr_matrix = ctm_class[ctm_class.columns].corr()\n",
    "corr_df = pd.DataFrame(corr_matrix.min())\n",
    "corr_df.columns = ['MinCorrelationCoeff']\n",
    "corr_df['MaxCorrelationCoeff'] = corr_matrix[corr_matrix < 1].max()\n",
    "corr_df"
   ]
  },
  {
   "cell_type": "markdown",
   "metadata": {
    "_cell_guid": "64a9dcda-ee5d-4d68-9368-ba64e501adb6",
    "_uuid": "3eeae5b6-7e8a-4f2a-a09a-dbe59c7e5f88",
    "trusted": true
   },
   "source": [
    "From the output above, we observe that Overall Score has the highest positive correlation of 0.97 with RecencyCluster and Segment_Low-Value has the highest negative of -0.99 with Segment_Mid-Value.\n",
    "\n",
    "We can get a good visualisation of the coefficient matrix below."
   ]
  },
  {
   "cell_type": "code",
   "execution_count": 51,
   "metadata": {
    "_cell_guid": "9853a184-0f60-4039-848f-67d4feb17e01",
    "_uuid": "759ee981-9930-4865-9f34-60c38ac0b4f4",
    "collapsed": false,
    "execution": {
     "iopub.execute_input": "2024-11-06T17:50:54.906309Z",
     "iopub.status.busy": "2024-11-06T17:50:54.905946Z",
     "iopub.status.idle": "2024-11-06T17:50:56.576144Z",
     "shell.execute_reply": "2024-11-06T17:50:56.575166Z",
     "shell.execute_reply.started": "2024-11-06T17:50:54.906260Z"
    },
    "jupyter": {
     "outputs_hidden": false
    },
    "trusted": true
   },
   "outputs": [
    {
     "data": {
      "image/png": "[encoded data removed]",
      "text/plain": [
       "<Figure size 4000x3000 with 2 Axes>"
      ]
     },
     "metadata": {},
     "output_type": "display_data"
    }
   ],
   "source": [
    "plt.figure(figsize = (40, 30))\n",
    "sns.heatmap(corr_matrix, annot = True, linewidths=0.2, fmt=\".2f\");"
   ]
  },
  {
   "cell_type": "markdown",
   "metadata": {
    "_cell_guid": "34578635-a8d3-44f1-bd45-0c0b86260496",
    "_uuid": "2231de5e-50d3-447d-be12-8b789f3451b6",
    "trusted": true
   },
   "source": [
    "### Building Machine Learning Models"
   ]
  },
  {
   "cell_type": "code",
   "execution_count": 52,
   "metadata": {
    "_cell_guid": "cef00a6f-9b85-4ea7-8a23-1072f8f806a6",
    "_uuid": "9fb7c112-dbd6-46d5-be59-99e928b07d11",
    "collapsed": false,
    "execution": {
     "iopub.execute_input": "2024-11-06T17:50:56.577718Z",
     "iopub.status.busy": "2024-11-06T17:50:56.577459Z",
     "iopub.status.idle": "2024-11-06T17:50:56.583424Z",
     "shell.execute_reply": "2024-11-06T17:50:56.582497Z",
     "shell.execute_reply.started": "2024-11-06T17:50:56.577686Z"
    },
    "jupyter": {
     "outputs_hidden": false
    },
    "trusted": true
   },
   "outputs": [],
   "source": [
    "ctm_class = ctm_class.drop('NextPurchaseDay', axis=1)"
   ]
  },
  {
   "cell_type": "code",
   "execution_count": 53,
   "metadata": {
    "_cell_guid": "c9db14e6-e421-45b2-93af-9f5fa7cf3abd",
    "_uuid": "4afde939-7212-4286-8b02-726b1aad8dec",
    "collapsed": false,
    "execution": {
     "iopub.execute_input": "2024-11-06T17:50:56.584863Z",
     "iopub.status.busy": "2024-11-06T17:50:56.584594Z",
     "iopub.status.idle": "2024-11-06T17:50:56.612044Z",
     "shell.execute_reply": "2024-11-06T17:50:56.610939Z",
     "shell.execute_reply.started": "2024-11-06T17:50:56.584831Z"
    },
    "jupyter": {
     "outputs_hidden": false
    },
    "trusted": true
   },
   "outputs": [
    {
     "data": {
      "text/html": [
       "<div>\n",
       "<style scoped>\n",
       "    .dataframe tbody tr th:only-of-type {\n",
       "        vertical-align: middle;\n",
       "    }\n",
       "\n",
       "    .dataframe tbody tr th {\n",
       "        vertical-align: top;\n",
       "    }\n",
       "\n",
       "    .dataframe thead th {\n",
       "        text-align: right;\n",
       "    }\n",
       "</style>\n",
       "<table border=\"1\" class=\"dataframe\">\n",
       "  <thead>\n",
       "    <tr style=\"text-align: right;\">\n",
       "      <th></th>\n",
       "      <th>CustomerID</th>\n",
       "      <th>Recency</th>\n",
       "      <th>RecencyCluster</th>\n",
       "      <th>Frequency</th>\n",
       "      <th>FrequencyCluster</th>\n",
       "      <th>Revenue</th>\n",
       "      <th>RevenueCluster</th>\n",
       "      <th>OverallScore</th>\n",
       "      <th>Segment_High-Value</th>\n",
       "      <th>Segment_Low-Value</th>\n",
       "      <th>Segment_Mid-Value</th>\n",
       "      <th>NextPurchaseDayRange</th>\n",
       "    </tr>\n",
       "  </thead>\n",
       "  <tbody>\n",
       "    <tr>\n",
       "      <th>0</th>\n",
       "      <td>13085.0</td>\n",
       "      <td>57</td>\n",
       "      <td>3</td>\n",
       "      <td>92</td>\n",
       "      <td>3</td>\n",
       "      <td>1459.46</td>\n",
       "      <td>0</td>\n",
       "      <td>6</td>\n",
       "      <td>False</td>\n",
       "      <td>False</td>\n",
       "      <td>True</td>\n",
       "      <td>0</td>\n",
       "    </tr>\n",
       "    <tr>\n",
       "      <th>1</th>\n",
       "      <td>17519.0</td>\n",
       "      <td>33</td>\n",
       "      <td>3</td>\n",
       "      <td>190</td>\n",
       "      <td>3</td>\n",
       "      <td>4411.48</td>\n",
       "      <td>0</td>\n",
       "      <td>6</td>\n",
       "      <td>False</td>\n",
       "      <td>False</td>\n",
       "      <td>True</td>\n",
       "      <td>0</td>\n",
       "    </tr>\n",
       "    <tr>\n",
       "      <th>2</th>\n",
       "      <td>12362.0</td>\n",
       "      <td>12</td>\n",
       "      <td>3</td>\n",
       "      <td>242</td>\n",
       "      <td>3</td>\n",
       "      <td>4804.39</td>\n",
       "      <td>0</td>\n",
       "      <td>6</td>\n",
       "      <td>False</td>\n",
       "      <td>False</td>\n",
       "      <td>True</td>\n",
       "      <td>1</td>\n",
       "    </tr>\n",
       "    <tr>\n",
       "      <th>3</th>\n",
       "      <td>15712.0</td>\n",
       "      <td>9</td>\n",
       "      <td>3</td>\n",
       "      <td>156</td>\n",
       "      <td>3</td>\n",
       "      <td>3261.01</td>\n",
       "      <td>0</td>\n",
       "      <td>6</td>\n",
       "      <td>False</td>\n",
       "      <td>False</td>\n",
       "      <td>True</td>\n",
       "      <td>1</td>\n",
       "    </tr>\n",
       "    <tr>\n",
       "      <th>4</th>\n",
       "      <td>16128.0</td>\n",
       "      <td>43</td>\n",
       "      <td>3</td>\n",
       "      <td>182</td>\n",
       "      <td>3</td>\n",
       "      <td>3558.76</td>\n",
       "      <td>0</td>\n",
       "      <td>6</td>\n",
       "      <td>False</td>\n",
       "      <td>False</td>\n",
       "      <td>True</td>\n",
       "      <td>1</td>\n",
       "    </tr>\n",
       "    <tr>\n",
       "      <th>...</th>\n",
       "      <td>...</td>\n",
       "      <td>...</td>\n",
       "      <td>...</td>\n",
       "      <td>...</td>\n",
       "      <td>...</td>\n",
       "      <td>...</td>\n",
       "      <td>...</td>\n",
       "      <td>...</td>\n",
       "      <td>...</td>\n",
       "      <td>...</td>\n",
       "      <td>...</td>\n",
       "      <td>...</td>\n",
       "    </tr>\n",
       "    <tr>\n",
       "      <th>5309</th>\n",
       "      <td>13089.0</td>\n",
       "      <td>0</td>\n",
       "      <td>3</td>\n",
       "      <td>3227</td>\n",
       "      <td>1</td>\n",
       "      <td>101844.82</td>\n",
       "      <td>2</td>\n",
       "      <td>6</td>\n",
       "      <td>False</td>\n",
       "      <td>False</td>\n",
       "      <td>True</td>\n",
       "      <td>1</td>\n",
       "    </tr>\n",
       "    <tr>\n",
       "      <th>5310</th>\n",
       "      <td>14298.0</td>\n",
       "      <td>23</td>\n",
       "      <td>3</td>\n",
       "      <td>2851</td>\n",
       "      <td>1</td>\n",
       "      <td>90516.57</td>\n",
       "      <td>2</td>\n",
       "      <td>6</td>\n",
       "      <td>False</td>\n",
       "      <td>False</td>\n",
       "      <td>True</td>\n",
       "      <td>1</td>\n",
       "    </tr>\n",
       "    <tr>\n",
       "      <th>5311</th>\n",
       "      <td>14911.0</td>\n",
       "      <td>1</td>\n",
       "      <td>3</td>\n",
       "      <td>10320</td>\n",
       "      <td>0</td>\n",
       "      <td>239002.69</td>\n",
       "      <td>2</td>\n",
       "      <td>5</td>\n",
       "      <td>False</td>\n",
       "      <td>False</td>\n",
       "      <td>True</td>\n",
       "      <td>1</td>\n",
       "    </tr>\n",
       "    <tr>\n",
       "      <th>5312</th>\n",
       "      <td>18102.0</td>\n",
       "      <td>26</td>\n",
       "      <td>3</td>\n",
       "      <td>1026</td>\n",
       "      <td>2</td>\n",
       "      <td>558608.99</td>\n",
       "      <td>3</td>\n",
       "      <td>8</td>\n",
       "      <td>True</td>\n",
       "      <td>False</td>\n",
       "      <td>False</td>\n",
       "      <td>1</td>\n",
       "    </tr>\n",
       "    <tr>\n",
       "      <th>5313</th>\n",
       "      <td>14646.0</td>\n",
       "      <td>0</td>\n",
       "      <td>3</td>\n",
       "      <td>3675</td>\n",
       "      <td>1</td>\n",
       "      <td>490725.55</td>\n",
       "      <td>3</td>\n",
       "      <td>7</td>\n",
       "      <td>True</td>\n",
       "      <td>False</td>\n",
       "      <td>False</td>\n",
       "      <td>1</td>\n",
       "    </tr>\n",
       "  </tbody>\n",
       "</table>\n",
       "<p>5314 rows × 12 columns</p>\n",
       "</div>"
      ],
      "text/plain": [
       "      CustomerID  Recency  RecencyCluster  Frequency  FrequencyCluster  \\\n",
       "0        13085.0       57               3         92                 3   \n",
       "1        17519.0       33               3        190                 3   \n",
       "2        12362.0       12               3        242                 3   \n",
       "3        15712.0        9               3        156                 3   \n",
       "4        16128.0       43               3        182                 3   \n",
       "...          ...      ...             ...        ...               ...   \n",
       "5309     13089.0        0               3       3227                 1   \n",
       "5310     14298.0       23               3       2851                 1   \n",
       "5311     14911.0        1               3      10320                 0   \n",
       "5312     18102.0       26               3       1026                 2   \n",
       "5313     14646.0        0               3       3675                 1   \n",
       "\n",
       "        Revenue  RevenueCluster  OverallScore  Segment_High-Value  \\\n",
       "0       1459.46               0             6               False   \n",
       "1       4411.48               0             6               False   \n",
       "2       4804.39               0             6               False   \n",
       "3       3261.01               0             6               False   \n",
       "4       3558.76               0             6               False   \n",
       "...         ...             ...           ...                 ...   \n",
       "5309  101844.82               2             6               False   \n",
       "5310   90516.57               2             6               False   \n",
       "5311  239002.69               2             5               False   \n",
       "5312  558608.99               3             8                True   \n",
       "5313  490725.55               3             7                True   \n",
       "\n",
       "      Segment_Low-Value  Segment_Mid-Value  NextPurchaseDayRange  \n",
       "0                 False               True                     0  \n",
       "1                 False               True                     0  \n",
       "2                 False               True                     1  \n",
       "3                 False               True                     1  \n",
       "4                 False               True                     1  \n",
       "...                 ...                ...                   ...  \n",
       "5309              False               True                     1  \n",
       "5310              False               True                     1  \n",
       "5311              False               True                     1  \n",
       "5312              False              False                     1  \n",
       "5313              False              False                     1  \n",
       "\n",
       "[5314 rows x 12 columns]"
      ]
     },
     "execution_count": 53,
     "metadata": {},
     "output_type": "execute_result"
    }
   ],
   "source": [
    "ctm_class"
   ]
  },
  {
   "cell_type": "code",
   "execution_count": 54,
   "metadata": {
    "_cell_guid": "6fb4ed0c-5406-4723-8196-e802c97fceec",
    "_uuid": "d8d66d0e-b4a0-43c4-9573-e06ce5fb2f1a",
    "collapsed": false,
    "execution": {
     "iopub.execute_input": "2024-11-06T17:50:56.613750Z",
     "iopub.status.busy": "2024-11-06T17:50:56.613512Z",
     "iopub.status.idle": "2024-11-06T17:50:56.627323Z",
     "shell.execute_reply": "2024-11-06T17:50:56.626277Z",
     "shell.execute_reply.started": "2024-11-06T17:50:56.613720Z"
    },
    "jupyter": {
     "outputs_hidden": false
    },
    "trusted": true
   },
   "outputs": [],
   "source": [
    "X, y = ctm_class.drop('NextPurchaseDayRange', axis=1), ctm_class.NextPurchaseDayRange\n",
    "X_train, X_test, y_train, y_test = train_test_split(X, y, test_size=0.2, random_state=None, shuffle=True)"
   ]
  },
  {
   "cell_type": "code",
   "execution_count": 55,
   "metadata": {
    "_cell_guid": "ac35ab78-db27-4bad-8e77-7e7b872ea863",
    "_uuid": "f0a8483d-c0c2-4937-a2c5-b23df47b536d",
    "collapsed": false,
    "execution": {
     "iopub.execute_input": "2024-11-06T17:50:56.628927Z",
     "iopub.status.busy": "2024-11-06T17:50:56.628636Z",
     "iopub.status.idle": "2024-11-06T17:50:56.637819Z",
     "shell.execute_reply": "2024-11-06T17:50:56.636951Z",
     "shell.execute_reply.started": "2024-11-06T17:50:56.628882Z"
    },
    "jupyter": {
     "outputs_hidden": false
    },
    "trusted": true
   },
   "outputs": [],
   "source": [
    "# Create an array of models\n",
    "models = []\n",
    "models.append((\"LogisticRegression\", LogisticRegression()))\n",
    "models.append((\"GaussianNB\", GaussianNB()))\n",
    "models.append((\"RandomForestClassifier\", RandomForestClassifier()))\n",
    "models.append((\"SVC\", SVC()))\n",
    "models.append((\"DecisionTreeClassifier\", DecisionTreeClassifier()))\n",
    "models.append((\"xgb.XGBClassifier\", xgb.XGBClassifier(eval_metric='mlogloss')))\n",
    "models.append((\"KNeighborsClassifier\", KNeighborsClassifier()))"
   ]
  },
  {
   "cell_type": "code",
   "execution_count": 56,
   "metadata": {
    "_cell_guid": "d2396a7f-e74d-4221-bc96-fa63eaaf2494",
    "_uuid": "5b6afe01-b1ca-4082-a52e-0f5b1f38ced8",
    "collapsed": false,
    "execution": {
     "iopub.execute_input": "2024-11-06T17:50:56.639606Z",
     "iopub.status.busy": "2024-11-06T17:50:56.639275Z",
     "iopub.status.idle": "2024-11-06T17:50:58.883434Z",
     "shell.execute_reply": "2024-11-06T17:50:58.882274Z",
     "shell.execute_reply.started": "2024-11-06T17:50:56.639539Z"
    },
    "jupyter": {
     "outputs_hidden": false
    },
    "trusted": true
   },
   "outputs": [
    {
     "name": "stdout",
     "output_type": "stream",
     "text": [
      "LogisticRegression [0.90216369 0.89882353]\n",
      "GaussianNB [0.89134525 0.87529412]\n",
      "RandomForestClassifier [0.89746002 0.89647059]\n",
      "SVC [0.83537159 0.84894118]\n",
      "DecisionTreeClassifier [0.88428975 0.86635294]\n",
      "xgb.XGBClassifier [0.88946378 0.88894118]\n",
      "KNeighborsClassifier [0.83490122 0.83058824]\n"
     ]
    }
   ],
   "source": [
    "for name,model in models:\n",
    "    kfold = KFold(n_splits=2)\n",
    "    cv_result = cross_val_score(model,X_train,y_train, cv = kfold,scoring = \"accuracy\")\n",
    "    print(name, cv_result)"
   ]
  },
  {
   "cell_type": "code",
   "execution_count": 57,
   "metadata": {
    "_cell_guid": "e255277d-10a0-4916-a979-8aa8a1e2321c",
    "_uuid": "83c9ab7e-bc13-4333-9c35-bd842e4d4e7c",
    "collapsed": false,
    "execution": {
     "iopub.execute_input": "2024-11-06T17:50:58.886035Z",
     "iopub.status.busy": "2024-11-06T17:50:58.885400Z",
     "iopub.status.idle": "2024-11-06T17:50:59.466560Z",
     "shell.execute_reply": "2024-11-06T17:50:59.465576Z",
     "shell.execute_reply.started": "2024-11-06T17:50:58.885974Z"
    },
    "jupyter": {
     "outputs_hidden": false
    },
    "trusted": true
   },
   "outputs": [
    {
     "name": "stdout",
     "output_type": "stream",
     "text": [
      "Accuracy of Random Forest classifier on training set: 1.00\n",
      "Accuracy of Random Forest classifier on test set: 0.90\n",
      "              precision    recall  f1-score   support\n",
      "\n",
      "           0       0.94      0.93      0.94       862\n",
      "           1       0.72      0.75      0.73       201\n",
      "\n",
      "    accuracy                           0.90      1063\n",
      "   macro avg       0.83      0.84      0.84      1063\n",
      "weighted avg       0.90      0.90      0.90      1063\n",
      "\n"
     ]
    }
   ],
   "source": [
    "rf_model = RandomForestClassifier().fit(X_train, y_train)\n",
    "\n",
    "print('Accuracy of Random Forest classifier on training set: {:.2f}'\n",
    "       .format(rf_model.score(X_train, y_train)))\n",
    "print('Accuracy of Random Forest classifier on test set: {:.2f}'\n",
    "       .format(rf_model.score(X_test[X_train.columns], y_test)))\n",
    "y_pred = rf_model.predict(X_test)\n",
    "print(classification_report(y_test, y_pred))"
   ]
  },
  {
   "cell_type": "code",
   "execution_count": 58,
   "metadata": {
    "_cell_guid": "c2707bf1-3fa2-459e-8635-a6af66a2a307",
    "_uuid": "60deda03-805a-4b5b-a72b-7ed9c92e294e",
    "collapsed": false,
    "execution": {
     "iopub.execute_input": "2024-11-06T17:50:59.468174Z",
     "iopub.status.busy": "2024-11-06T17:50:59.467876Z",
     "iopub.status.idle": "2024-11-06T17:51:00.064384Z",
     "shell.execute_reply": "2024-11-06T17:51:00.063365Z",
     "shell.execute_reply.started": "2024-11-06T17:50:59.468138Z"
    },
    "jupyter": {
     "outputs_hidden": false
    },
    "trusted": true
   },
   "outputs": [
    {
     "name": "stdout",
     "output_type": "stream",
     "text": [
      "Accuracy of XGB classifier on training set: 1.00\n",
      "Accuracy of XGB classifier on test set: 0.89\n",
      "              precision    recall  f1-score   support\n",
      "\n",
      "           0       0.93      0.93      0.93       862\n",
      "           1       0.70      0.72      0.71       201\n",
      "\n",
      "    accuracy                           0.89      1063\n",
      "   macro avg       0.82      0.82      0.82      1063\n",
      "weighted avg       0.89      0.89      0.89      1063\n",
      "\n"
     ]
    }
   ],
   "source": [
    "xgb_model = xgb.XGBClassifier().fit(X_train, y_train)\n",
    "\n",
    "print('Accuracy of XGB classifier on training set: {:.2f}'\n",
    "       .format(xgb_model.score(X_train, y_train)))\n",
    "print('Accuracy of XGB classifier on test set: {:.2f}'\n",
    "       .format(xgb_model.score(X_test[X_train.columns], y_test)))\n",
    "\n",
    "y_pred = xgb_model.predict(X_test)\n",
    "print(classification_report(y_test, y_pred))"
   ]
  },
  {
   "cell_type": "markdown",
   "metadata": {
    "_cell_guid": "5c8dae09-e5dc-4e4f-a1d9-ad737c5d7106",
    "_uuid": "91162fb3-11c1-4f10-8f61-f5dfcbd3639b",
    "trusted": true
   },
   "source": []
  },
  {
   "cell_type": "markdown",
   "metadata": {
    "_cell_guid": "977689e9-3df0-4aaa-b335-397e96ffc99a",
    "_uuid": "574434a5-9e37-425f-9290-f8ae670bbdb3",
    "trusted": true
   },
   "source": [
    "Let's see how we could improve the existing model XGB by finding suitable parameters via the process of hyperparameter tuning using GridSearchCV."
   ]
  },
  {
   "cell_type": "code",
   "execution_count": 59,
   "metadata": {
    "_cell_guid": "083cf4a0-9851-4788-9702-4c38b3f57eb2",
    "_uuid": "ab187057-45d2-43b0-9cfb-4bf34cffc840",
    "collapsed": false,
    "execution": {
     "iopub.execute_input": "2024-11-06T17:51:00.065770Z",
     "iopub.status.busy": "2024-11-06T17:51:00.065544Z",
     "iopub.status.idle": "2024-11-06T17:55:58.521062Z",
     "shell.execute_reply": "2024-11-06T17:55:58.519140Z",
     "shell.execute_reply.started": "2024-11-06T17:51:00.065742Z"
    },
    "jupyter": {
     "outputs_hidden": false
    },
    "trusted": true
   },
   "outputs": [
    {
     "data": {
      "text/html": [
       "<style>#sk-container-id-1 {\n",
       "  /* Definition of color scheme common for light and dark mode */\n",
       "  --sklearn-color-text: black;\n",
       "  --sklearn-color-line: gray;\n",
       "  /* Definition of color scheme for unfitted estimators */\n",
       "  --sklearn-color-unfitted-level-0: #fff5e6;\n",
       "  --sklearn-color-unfitted-level-1: #f6e4d2;\n",
       "  --sklearn-color-unfitted-level-2: #ffe0b3;\n",
       "  --sklearn-color-unfitted-level-3: chocolate;\n",
       "  /* Definition of color scheme for fitted estimators */\n",
       "  --sklearn-color-fitted-level-0: #f0f8ff;\n",
       "  --sklearn-color-fitted-level-1: #d4ebff;\n",
       "  --sklearn-color-fitted-level-2: #b3dbfd;\n",
       "  --sklearn-color-fitted-level-3: cornflowerblue;\n",
       "\n",
       "  /* Specific color for light theme */\n",
       "  --sklearn-color-text-on-default-background: var(--sg-text-color, var(--theme-code-foreground, var(--jp-content-font-color1, black)));\n",
       "  --sklearn-color-background: var(--sg-background-color, var(--theme-background, var(--jp-layout-color0, white)));\n",
       "  --sklearn-color-border-box: var(--sg-text-color, var(--theme-code-foreground, var(--jp-content-font-color1, black)));\n",
       "  --sklearn-color-icon: #696969;\n",
       "\n",
       "  @media (prefers-color-scheme: dark) {\n",
       "    /* Redefinition of color scheme for dark theme */\n",
       "    --sklearn-color-text-on-default-background: var(--sg-text-color, var(--theme-code-foreground, var(--jp-content-font-color1, white)));\n",
       "    --sklearn-color-background: var(--sg-background-color, var(--theme-background, var(--jp-layout-color0, #111)));\n",
       "    --sklearn-color-border-box: var(--sg-text-color, var(--theme-code-foreground, var(--jp-content-font-color1, white)));\n",
       "    --sklearn-color-icon: #878787;\n",
       "  }\n",
       "}\n",
       "\n",
       "#sk-container-id-1 {\n",
       "  color: var(--sklearn-color-text);\n",
       "}\n",
       "\n",
       "#sk-container-id-1 pre {\n",
       "  padding: 0;\n",
       "}\n",
       "\n",
       "#sk-container-id-1 input.sk-hidden--visually {\n",
       "  border: 0;\n",
       "  clip: rect(1px 1px 1px 1px);\n",
       "  clip: rect(1px, 1px, 1px, 1px);\n",
       "  height: 1px;\n",
       "  margin: -1px;\n",
       "  overflow: hidden;\n",
       "  padding: 0;\n",
       "  position: absolute;\n",
       "  width: 1px;\n",
       "}\n",
       "\n",
       "#sk-container-id-1 div.sk-dashed-wrapped {\n",
       "  border: 1px dashed var(--sklearn-color-line);\n",
       "  margin: 0 0.4em 0.5em 0.4em;\n",
       "  box-sizing: border-box;\n",
       "  padding-bottom: 0.4em;\n",
       "  background-color: var(--sklearn-color-background);\n",
       "}\n",
       "\n",
       "#sk-container-id-1 div.sk-container {\n",
       "  /* jupyter's `normalize.less` sets `[hidden] { display: none; }`\n",
       "     but bootstrap.min.css set `[hidden] { display: none !important; }`\n",
       "     so we also need the `!important` here to be able to override the\n",
       "     default hidden behavior on the sphinx rendered scikit-learn.org.\n",
       "     See: https://github.com/scikit-learn/scikit-learn/issues/21755 */\n",
       "  display: inline-block !important;\n",
       "  position: relative;\n",
       "}\n",
       "\n",
       "#sk-container-id-1 div.sk-text-repr-fallback {\n",
       "  display: none;\n",
       "}\n",
       "\n",
       "div.sk-parallel-item,\n",
       "div.sk-serial,\n",
       "div.sk-item {\n",
       "  /* draw centered vertical line to link estimators */\n",
       "  background-image: linear-gradient(var(--sklearn-color-text-on-default-background), var(--sklearn-color-text-on-default-background));\n",
       "  background-size: 2px 100%;\n",
       "  background-repeat: no-repeat;\n",
       "  background-position: center center;\n",
       "}\n",
       "\n",
       "/* Parallel-specific style estimator block */\n",
       "\n",
       "#sk-container-id-1 div.sk-parallel-item::after {\n",
       "  content: \"\";\n",
       "  width: 100%;\n",
       "  border-bottom: 2px solid var(--sklearn-color-text-on-default-background);\n",
       "  flex-grow: 1;\n",
       "}\n",
       "\n",
       "#sk-container-id-1 div.sk-parallel {\n",
       "  display: flex;\n",
       "  align-items: stretch;\n",
       "  justify-content: center;\n",
       "  background-color: var(--sklearn-color-background);\n",
       "  position: relative;\n",
       "}\n",
       "\n",
       "#sk-container-id-1 div.sk-parallel-item {\n",
       "  display: flex;\n",
       "  flex-direction: column;\n",
       "}\n",
       "\n",
       "#sk-container-id-1 div.sk-parallel-item:first-child::after {\n",
       "  align-self: flex-end;\n",
       "  width: 50%;\n",
       "}\n",
       "\n",
       "#sk-container-id-1 div.sk-parallel-item:last-child::after {\n",
       "  align-self: flex-start;\n",
       "  width: 50%;\n",
       "}\n",
       "\n",
       "#sk-container-id-1 div.sk-parallel-item:only-child::after {\n",
       "  width: 0;\n",
       "}\n",
       "\n",
       "/* Serial-specific style estimator block */\n",
       "\n",
       "#sk-container-id-1 div.sk-serial {\n",
       "  display: flex;\n",
       "  flex-direction: column;\n",
       "  align-items: center;\n",
       "  background-color: var(--sklearn-color-background);\n",
       "  padding-right: 1em;\n",
       "  padding-left: 1em;\n",
       "}\n",
       "\n",
       "\n",
       "/* Toggleable style: style used for estimator/Pipeline/ColumnTransformer box that is\n",
       "clickable and can be expanded/collapsed.\n",
       "- Pipeline and ColumnTransformer use this feature and define the default style\n",
       "- Estimators will overwrite some part of the style using the `sk-estimator` class\n",
       "*/\n",
       "\n",
       "/* Pipeline and ColumnTransformer style (default) */\n",
       "\n",
       "#sk-container-id-1 div.sk-toggleable {\n",
       "  /* Default theme specific background. It is overwritten whether we have a\n",
       "  specific estimator or a Pipeline/ColumnTransformer */\n",
       "  background-color: var(--sklearn-color-background);\n",
       "}\n",
       "\n",
       "/* Toggleable label */\n",
       "#sk-container-id-1 label.sk-toggleable__label {\n",
       "  cursor: pointer;\n",
       "  display: block;\n",
       "  width: 100%;\n",
       "  margin-bottom: 0;\n",
       "  padding: 0.5em;\n",
       "  box-sizing: border-box;\n",
       "  text-align: center;\n",
       "}\n",
       "\n",
       "#sk-container-id-1 label.sk-toggleable__label-arrow:before {\n",
       "  /* Arrow on the left of the label */\n",
       "  content: \"▸\";\n",
       "  float: left;\n",
       "  margin-right: 0.25em;\n",
       "  color: var(--sklearn-color-icon);\n",
       "}\n",
       "\n",
       "#sk-container-id-1 label.sk-toggleable__label-arrow:hover:before {\n",
       "  color: var(--sklearn-color-text);\n",
       "}\n",
       "\n",
       "/* Toggleable content - dropdown */\n",
       "\n",
       "#sk-container-id-1 div.sk-toggleable__content {\n",
       "  max-height: 0;\n",
       "  max-width: 0;\n",
       "  overflow: hidden;\n",
       "  text-align: left;\n",
       "  /* unfitted */\n",
       "  background-color: var(--sklearn-color-unfitted-level-0);\n",
       "}\n",
       "\n",
       "#sk-container-id-1 div.sk-toggleable__content.fitted {\n",
       "  /* fitted */\n",
       "  background-color: var(--sklearn-color-fitted-level-0);\n",
       "}\n",
       "\n",
       "#sk-container-id-1 div.sk-toggleable__content pre {\n",
       "  margin: 0.2em;\n",
       "  border-radius: 0.25em;\n",
       "  color: var(--sklearn-color-text);\n",
       "  /* unfitted */\n",
       "  background-color: var(--sklearn-color-unfitted-level-0);\n",
       "}\n",
       "\n",
       "#sk-container-id-1 div.sk-toggleable__content.fitted pre {\n",
       "  /* unfitted */\n",
       "  background-color: var(--sklearn-color-fitted-level-0);\n",
       "}\n",
       "\n",
       "#sk-container-id-1 input.sk-toggleable__control:checked~div.sk-toggleable__content {\n",
       "  /* Expand drop-down */\n",
       "  max-height: 200px;\n",
       "  max-width: 100%;\n",
       "  overflow: auto;\n",
       "}\n",
       "\n",
       "#sk-container-id-1 input.sk-toggleable__control:checked~label.sk-toggleable__label-arrow:before {\n",
       "  content: \"▾\";\n",
       "}\n",
       "\n",
       "/* Pipeline/ColumnTransformer-specific style */\n",
       "\n",
       "#sk-container-id-1 div.sk-label input.sk-toggleable__control:checked~label.sk-toggleable__label {\n",
       "  color: var(--sklearn-color-text);\n",
       "  background-color: var(--sklearn-color-unfitted-level-2);\n",
       "}\n",
       "\n",
       "#sk-container-id-1 div.sk-label.fitted input.sk-toggleable__control:checked~label.sk-toggleable__label {\n",
       "  background-color: var(--sklearn-color-fitted-level-2);\n",
       "}\n",
       "\n",
       "/* Estimator-specific style */\n",
       "\n",
       "/* Colorize estimator box */\n",
       "#sk-container-id-1 div.sk-estimator input.sk-toggleable__control:checked~label.sk-toggleable__label {\n",
       "  /* unfitted */\n",
       "  background-color: var(--sklearn-color-unfitted-level-2);\n",
       "}\n",
       "\n",
       "#sk-container-id-1 div.sk-estimator.fitted input.sk-toggleable__control:checked~label.sk-toggleable__label {\n",
       "  /* fitted */\n",
       "  background-color: var(--sklearn-color-fitted-level-2);\n",
       "}\n",
       "\n",
       "#sk-container-id-1 div.sk-label label.sk-toggleable__label,\n",
       "#sk-container-id-1 div.sk-label label {\n",
       "  /* The background is the default theme color */\n",
       "  color: var(--sklearn-color-text-on-default-background);\n",
       "}\n",
       "\n",
       "/* On hover, darken the color of the background */\n",
       "#sk-container-id-1 div.sk-label:hover label.sk-toggleable__label {\n",
       "  color: var(--sklearn-color-text);\n",
       "  background-color: var(--sklearn-color-unfitted-level-2);\n",
       "}\n",
       "\n",
       "/* Label box, darken color on hover, fitted */\n",
       "#sk-container-id-1 div.sk-label.fitted:hover label.sk-toggleable__label.fitted {\n",
       "  color: var(--sklearn-color-text);\n",
       "  background-color: var(--sklearn-color-fitted-level-2);\n",
       "}\n",
       "\n",
       "/* Estimator label */\n",
       "\n",
       "#sk-container-id-1 div.sk-label label {\n",
       "  font-family: monospace;\n",
       "  font-weight: bold;\n",
       "  display: inline-block;\n",
       "  line-height: 1.2em;\n",
       "}\n",
       "\n",
       "#sk-container-id-1 div.sk-label-container {\n",
       "  text-align: center;\n",
       "}\n",
       "\n",
       "/* Estimator-specific */\n",
       "#sk-container-id-1 div.sk-estimator {\n",
       "  font-family: monospace;\n",
       "  border: 1px dotted var(--sklearn-color-border-box);\n",
       "  border-radius: 0.25em;\n",
       "  box-sizing: border-box;\n",
       "  margin-bottom: 0.5em;\n",
       "  /* unfitted */\n",
       "  background-color: var(--sklearn-color-unfitted-level-0);\n",
       "}\n",
       "\n",
       "#sk-container-id-1 div.sk-estimator.fitted {\n",
       "  /* fitted */\n",
       "  background-color: var(--sklearn-color-fitted-level-0);\n",
       "}\n",
       "\n",
       "/* on hover */\n",
       "#sk-container-id-1 div.sk-estimator:hover {\n",
       "  /* unfitted */\n",
       "  background-color: var(--sklearn-color-unfitted-level-2);\n",
       "}\n",
       "\n",
       "#sk-container-id-1 div.sk-estimator.fitted:hover {\n",
       "  /* fitted */\n",
       "  background-color: var(--sklearn-color-fitted-level-2);\n",
       "}\n",
       "\n",
       "/* Specification for estimator info (e.g. \"i\" and \"?\") */\n",
       "\n",
       "/* Common style for \"i\" and \"?\" */\n",
       "\n",
       ".sk-estimator-doc-link,\n",
       "a:link.sk-estimator-doc-link,\n",
       "a:visited.sk-estimator-doc-link {\n",
       "  float: right;\n",
       "  font-size: smaller;\n",
       "  line-height: 1em;\n",
       "  font-family: monospace;\n",
       "  background-color: var(--sklearn-color-background);\n",
       "  border-radius: 1em;\n",
       "  height: 1em;\n",
       "  width: 1em;\n",
       "  text-decoration: none !important;\n",
       "  margin-left: 1ex;\n",
       "  /* unfitted */\n",
       "  border: var(--sklearn-color-unfitted-level-1) 1pt solid;\n",
       "  color: var(--sklearn-color-unfitted-level-1);\n",
       "}\n",
       "\n",
       ".sk-estimator-doc-link.fitted,\n",
       "a:link.sk-estimator-doc-link.fitted,\n",
       "a:visited.sk-estimator-doc-link.fitted {\n",
       "  /* fitted */\n",
       "  border: var(--sklearn-color-fitted-level-1) 1pt solid;\n",
       "  color: var(--sklearn-color-fitted-level-1);\n",
       "}\n",
       "\n",
       "/* On hover */\n",
       "div.sk-estimator:hover .sk-estimator-doc-link:hover,\n",
       ".sk-estimator-doc-link:hover,\n",
       "div.sk-label-container:hover .sk-estimator-doc-link:hover,\n",
       ".sk-estimator-doc-link:hover {\n",
       "  /* unfitted */\n",
       "  background-color: var(--sklearn-color-unfitted-level-3);\n",
       "  color: var(--sklearn-color-background);\n",
       "  text-decoration: none;\n",
       "}\n",
       "\n",
       "div.sk-estimator.fitted:hover .sk-estimator-doc-link.fitted:hover,\n",
       ".sk-estimator-doc-link.fitted:hover,\n",
       "div.sk-label-container:hover .sk-estimator-doc-link.fitted:hover,\n",
       ".sk-estimator-doc-link.fitted:hover {\n",
       "  /* fitted */\n",
       "  background-color: var(--sklearn-color-fitted-level-3);\n",
       "  color: var(--sklearn-color-background);\n",
       "  text-decoration: none;\n",
       "}\n",
       "\n",
       "/* Span, style for the box shown on hovering the info icon */\n",
       ".sk-estimator-doc-link span {\n",
       "  display: none;\n",
       "  z-index: 9999;\n",
       "  position: relative;\n",
       "  font-weight: normal;\n",
       "  right: .2ex;\n",
       "  padding: .5ex;\n",
       "  margin: .5ex;\n",
       "  width: min-content;\n",
       "  min-width: 20ex;\n",
       "  max-width: 50ex;\n",
       "  color: var(--sklearn-color-text);\n",
       "  box-shadow: 2pt 2pt 4pt #999;\n",
       "  /* unfitted */\n",
       "  background: var(--sklearn-color-unfitted-level-0);\n",
       "  border: .5pt solid var(--sklearn-color-unfitted-level-3);\n",
       "}\n",
       "\n",
       ".sk-estimator-doc-link.fitted span {\n",
       "  /* fitted */\n",
       "  background: var(--sklearn-color-fitted-level-0);\n",
       "  border: var(--sklearn-color-fitted-level-3);\n",
       "}\n",
       "\n",
       ".sk-estimator-doc-link:hover span {\n",
       "  display: block;\n",
       "}\n",
       "\n",
       "/* \"?\"-specific style due to the `<a>` HTML tag */\n",
       "\n",
       "#sk-container-id-1 a.estimator_doc_link {\n",
       "  float: right;\n",
       "  font-size: 1rem;\n",
       "  line-height: 1em;\n",
       "  font-family: monospace;\n",
       "  background-color: var(--sklearn-color-background);\n",
       "  border-radius: 1rem;\n",
       "  height: 1rem;\n",
       "  width: 1rem;\n",
       "  text-decoration: none;\n",
       "  /* unfitted */\n",
       "  color: var(--sklearn-color-unfitted-level-1);\n",
       "  border: var(--sklearn-color-unfitted-level-1) 1pt solid;\n",
       "}\n",
       "\n",
       "#sk-container-id-1 a.estimator_doc_link.fitted {\n",
       "  /* fitted */\n",
       "  border: var(--sklearn-color-fitted-level-1) 1pt solid;\n",
       "  color: var(--sklearn-color-fitted-level-1);\n",
       "}\n",
       "\n",
       "/* On hover */\n",
       "#sk-container-id-1 a.estimator_doc_link:hover {\n",
       "  /* unfitted */\n",
       "  background-color: var(--sklearn-color-unfitted-level-3);\n",
       "  color: var(--sklearn-color-background);\n",
       "  text-decoration: none;\n",
       "}\n",
       "\n",
       "#sk-container-id-1 a.estimator_doc_link.fitted:hover {\n",
       "  /* fitted */\n",
       "  background-color: var(--sklearn-color-fitted-level-3);\n",
       "}\n",
       "</style><div id=\"sk-container-id-1\" class=\"sk-top-container\"><div class=\"sk-text-repr-fallback\"><pre>GridSearchCV(cv=2,\n",
       "             estimator=XGBClassifier(base_score=None, booster=None,\n",
       "                                     callbacks=None, colsample_bylevel=None,\n",
       "                                     colsample_bynode=None,\n",
       "                                     colsample_bytree=None, device=None,\n",
       "                                     early_stopping_rounds=None,\n",
       "                                     enable_categorical=False,\n",
       "                                     eval_metric=&#x27;mlogloss&#x27;, feature_types=None,\n",
       "                                     gamma=None, grow_policy=None,\n",
       "                                     importance_type=None,\n",
       "                                     interaction_constraints=None,\n",
       "                                     learning_rate...\n",
       "                                     max_cat_threshold=None,\n",
       "                                     max_cat_to_onehot=None,\n",
       "                                     max_delta_step=None, max_depth=None,\n",
       "                                     max_leaves=None, min_child_weight=None,\n",
       "                                     missing=nan, monotone_constraints=None,\n",
       "                                     multi_strategy=None, n_estimators=None,\n",
       "                                     n_jobs=None, num_parallel_tree=None,\n",
       "                                     random_state=None, ...),\n",
       "             n_jobs=-1,\n",
       "             param_grid={&#x27;max_depth&#x27;: range(3, 10, 2),\n",
       "                         &#x27;min_child_weight&#x27;: range(1, 5, 2)},\n",
       "             scoring=&#x27;accuracy&#x27;)</pre><b>In a Jupyter environment, please rerun this cell to show the HTML representation or trust the notebook. <br />On GitHub, the HTML representation is unable to render, please try loading this page with nbviewer.org.</b></div><div class=\"sk-container\" hidden><div class=\"sk-item sk-dashed-wrapped\"><div class=\"sk-label-container\"><div class=\"sk-label fitted sk-toggleable\"><input class=\"sk-toggleable__control sk-hidden--visually\" id=\"sk-estimator-id-1\" type=\"checkbox\" ><label for=\"sk-estimator-id-1\" class=\"sk-toggleable__label fitted sk-toggleable__label-arrow fitted\">&nbsp;&nbsp;GridSearchCV<a class=\"sk-estimator-doc-link fitted\" rel=\"noreferrer\" target=\"_blank\" href=\"https://scikit-learn.org/1.5/modules/generated/sklearn.model_selection.GridSearchCV.html\">?<span>Documentation for GridSearchCV</span></a><span class=\"sk-estimator-doc-link fitted\">i<span>Fitted</span></span></label><div class=\"sk-toggleable__content fitted\"><pre>GridSearchCV(cv=2,\n",
       "             estimator=XGBClassifier(base_score=None, booster=None,\n",
       "                                     callbacks=None, colsample_bylevel=None,\n",
       "                                     colsample_bynode=None,\n",
       "                                     colsample_bytree=None, device=None,\n",
       "                                     early_stopping_rounds=None,\n",
       "                                     enable_categorical=False,\n",
       "                                     eval_metric=&#x27;mlogloss&#x27;, feature_types=None,\n",
       "                                     gamma=None, grow_policy=None,\n",
       "                                     importance_type=None,\n",
       "                                     interaction_constraints=None,\n",
       "                                     learning_rate...\n",
       "                                     max_cat_threshold=None,\n",
       "                                     max_cat_to_onehot=None,\n",
       "                                     max_delta_step=None, max_depth=None,\n",
       "                                     max_leaves=None, min_child_weight=None,\n",
       "                                     missing=nan, monotone_constraints=None,\n",
       "                                     multi_strategy=None, n_estimators=None,\n",
       "                                     n_jobs=None, num_parallel_tree=None,\n",
       "                                     random_state=None, ...),\n",
       "             n_jobs=-1,\n",
       "             param_grid={&#x27;max_depth&#x27;: range(3, 10, 2),\n",
       "                         &#x27;min_child_weight&#x27;: range(1, 5, 2)},\n",
       "             scoring=&#x27;accuracy&#x27;)</pre></div> </div></div><div class=\"sk-parallel\"><div class=\"sk-parallel-item\"><div class=\"sk-item\"><div class=\"sk-label-container\"><div class=\"sk-label fitted sk-toggleable\"><input class=\"sk-toggleable__control sk-hidden--visually\" id=\"sk-estimator-id-2\" type=\"checkbox\" ><label for=\"sk-estimator-id-2\" class=\"sk-toggleable__label fitted sk-toggleable__label-arrow fitted\">best_estimator_: XGBClassifier</label><div class=\"sk-toggleable__content fitted\"><pre>XGBClassifier(base_score=None, booster=None, callbacks=None,\n",
       "              colsample_bylevel=None, colsample_bynode=None,\n",
       "              colsample_bytree=None, device=None, early_stopping_rounds=None,\n",
       "              enable_categorical=False, eval_metric=&#x27;mlogloss&#x27;,\n",
       "              feature_types=None, gamma=None, grow_policy=None,\n",
       "              importance_type=None, interaction_constraints=None,\n",
       "              learning_rate=None, max_bin=None, max_cat_threshold=None,\n",
       "              max_cat_to_onehot=None, max_delta_step=None, max_depth=3,\n",
       "              max_leaves=None, min_child_weight=3, missing=nan,\n",
       "              monotone_constraints=None, multi_strategy=None, n_estimators=None,\n",
       "              n_jobs=None, num_parallel_tree=None, random_state=None, ...)</pre></div> </div></div><div class=\"sk-serial\"><div class=\"sk-item\"><div class=\"sk-estimator fitted sk-toggleable\"><input class=\"sk-toggleable__control sk-hidden--visually\" id=\"sk-estimator-id-3\" type=\"checkbox\" ><label for=\"sk-estimator-id-3\" class=\"sk-toggleable__label fitted sk-toggleable__label-arrow fitted\">XGBClassifier</label><div class=\"sk-toggleable__content fitted\"><pre>XGBClassifier(base_score=None, booster=None, callbacks=None,\n",
       "              colsample_bylevel=None, colsample_bynode=None,\n",
       "              colsample_bytree=None, device=None, early_stopping_rounds=None,\n",
       "              enable_categorical=False, eval_metric=&#x27;mlogloss&#x27;,\n",
       "              feature_types=None, gamma=None, grow_policy=None,\n",
       "              importance_type=None, interaction_constraints=None,\n",
       "              learning_rate=None, max_bin=None, max_cat_threshold=None,\n",
       "              max_cat_to_onehot=None, max_delta_step=None, max_depth=3,\n",
       "              max_leaves=None, min_child_weight=3, missing=nan,\n",
       "              monotone_constraints=None, multi_strategy=None, n_estimators=None,\n",
       "              n_jobs=None, num_parallel_tree=None, random_state=None, ...)</pre></div> </div></div></div></div></div></div></div></div></div>"
      ],
      "text/plain": [
       "GridSearchCV(cv=2,\n",
       "             estimator=XGBClassifier(base_score=None, booster=None,\n",
       "                                     callbacks=None, colsample_bylevel=None,\n",
       "                                     colsample_bynode=None,\n",
       "                                     colsample_bytree=None, device=None,\n",
       "                                     early_stopping_rounds=None,\n",
       "                                     enable_categorical=False,\n",
       "                                     eval_metric='mlogloss', feature_types=None,\n",
       "                                     gamma=None, grow_policy=None,\n",
       "                                     importance_type=None,\n",
       "                                     interaction_constraints=None,\n",
       "                                     learning_rate...\n",
       "                                     max_cat_threshold=None,\n",
       "                                     max_cat_to_onehot=None,\n",
       "                                     max_delta_step=None, max_depth=None,\n",
       "                                     max_leaves=None, min_child_weight=None,\n",
       "                                     missing=nan, monotone_constraints=None,\n",
       "                                     multi_strategy=None, n_estimators=None,\n",
       "                                     n_jobs=None, num_parallel_tree=None,\n",
       "                                     random_state=None, ...),\n",
       "             n_jobs=-1,\n",
       "             param_grid={'max_depth': range(3, 10, 2),\n",
       "                         'min_child_weight': range(1, 5, 2)},\n",
       "             scoring='accuracy')"
      ]
     },
     "execution_count": 59,
     "metadata": {},
     "output_type": "execute_result"
    }
   ],
   "source": [
    "parameter = {\n",
    "    'max_depth':range(3,10,2), \n",
    "    'min_child_weight':range(1,5,2)\n",
    "    }\n",
    "\n",
    "p_grid_search = GridSearchCV(estimator = xgb.XGBClassifier(eval_metric='mlogloss'), \n",
    "                             param_grid = parameter, \n",
    "                             scoring='accuracy', \n",
    "                             n_jobs=-1, \n",
    "                             #iid=False, \n",
    "                             cv=2\n",
    "                            )\n",
    "\n",
    "p_grid_search.fit(X_train, y_train)"
   ]
  },
  {
   "cell_type": "code",
   "execution_count": 60,
   "metadata": {
    "_cell_guid": "07703d20-c0b9-423c-839b-42bb782c4187",
    "_uuid": "361f3497-3b36-429e-8fb3-cf168f2b2f5e",
    "collapsed": false,
    "execution": {
     "iopub.execute_input": "2024-11-06T17:55:58.522692Z",
     "iopub.status.busy": "2024-11-06T17:55:58.522428Z",
     "iopub.status.idle": "2024-11-06T17:55:58.529579Z",
     "shell.execute_reply": "2024-11-06T17:55:58.528617Z",
     "shell.execute_reply.started": "2024-11-06T17:55:58.522658Z"
    },
    "jupyter": {
     "outputs_hidden": false
    },
    "trusted": true
   },
   "outputs": [
    {
     "data": {
      "text/plain": [
       "({'max_depth': 3, 'min_child_weight': 3}, 0.8953172486304023)"
      ]
     },
     "execution_count": 60,
     "metadata": {},
     "output_type": "execute_result"
    }
   ],
   "source": [
    "p_grid_search.best_params_, p_grid_search.best_score_"
   ]
  },
  {
   "cell_type": "code",
   "execution_count": 61,
   "metadata": {
    "_cell_guid": "ed85ad09-8c2f-4bf1-8b6f-65ae4267f646",
    "_uuid": "20728b56-8279-419c-91b9-db98bf4de539",
    "collapsed": false,
    "execution": {
     "iopub.execute_input": "2024-11-06T17:55:58.536703Z",
     "iopub.status.busy": "2024-11-06T17:55:58.536421Z",
     "iopub.status.idle": "2024-11-06T17:55:58.921627Z",
     "shell.execute_reply": "2024-11-06T17:55:58.920167Z",
     "shell.execute_reply.started": "2024-11-06T17:55:58.536672Z"
    },
    "jupyter": {
     "outputs_hidden": false
    },
    "trusted": true
   },
   "outputs": [
    {
     "name": "stdout",
     "output_type": "stream",
     "text": [
      "Accuracy of XGB classifier on training set: 0.92\n",
      "Accuracy of XGB classifier on test set: 0.90\n"
     ]
    }
   ],
   "source": [
    "refined_xgb_model = xgb.XGBClassifier(eval_metric='logloss', \n",
    "                                      max_depth=list(p_grid_search.best_params_.values())[0]-1, \n",
    "                                      min_child_weight=list(p_grid_search.best_params_.values())[-1]+4\n",
    "                                     ).fit(X_train, y_train)\n",
    "\n",
    "print('Accuracy of XGB classifier on training set: {:.2f}'.format(refined_xgb_model.score(X_train, y_train)))\n",
    "print('Accuracy of XGB classifier on test set: {:.2f}'.format(refined_xgb_model.score(X_test[X_train.columns], y_test)))"
   ]
  },
  {
   "cell_type": "code",
   "execution_count": 62,
   "metadata": {
    "_cell_guid": "6a7de162-953c-48e7-b1ba-bc94b179eebf",
    "_uuid": "02efe417-2a69-4e9e-91ef-4bbe4ad37d81",
    "collapsed": false,
    "execution": {
     "iopub.execute_input": "2024-11-06T17:55:58.923671Z",
     "iopub.status.busy": "2024-11-06T17:55:58.923378Z",
     "iopub.status.idle": "2024-11-06T17:55:58.934478Z",
     "shell.execute_reply": "2024-11-06T17:55:58.933609Z",
     "shell.execute_reply.started": "2024-11-06T17:55:58.923638Z"
    },
    "jupyter": {
     "outputs_hidden": false
    },
    "trusted": true
   },
   "outputs": [],
   "source": [
    "ref_xgb_pred_y = refined_xgb_model.predict(X_test)"
   ]
  },
  {
   "cell_type": "code",
   "execution_count": 63,
   "metadata": {
    "_cell_guid": "a4d8468a-ef1d-4887-af52-b698223d3b90",
    "_uuid": "cae97cf8-a686-4aa1-82da-8623d0a2fcc4",
    "collapsed": false,
    "execution": {
     "iopub.execute_input": "2024-11-06T17:55:58.936612Z",
     "iopub.status.busy": "2024-11-06T17:55:58.935858Z",
     "iopub.status.idle": "2024-11-06T17:55:58.960754Z",
     "shell.execute_reply": "2024-11-06T17:55:58.960114Z",
     "shell.execute_reply.started": "2024-11-06T17:55:58.936564Z"
    },
    "jupyter": {
     "outputs_hidden": false
    },
    "trusted": true
   },
   "outputs": [
    {
     "data": {
      "text/html": [
       "<div>\n",
       "<style scoped>\n",
       "    .dataframe tbody tr th:only-of-type {\n",
       "        vertical-align: middle;\n",
       "    }\n",
       "\n",
       "    .dataframe tbody tr th {\n",
       "        vertical-align: top;\n",
       "    }\n",
       "\n",
       "    .dataframe thead th {\n",
       "        text-align: right;\n",
       "    }\n",
       "</style>\n",
       "<table border=\"1\" class=\"dataframe\">\n",
       "  <thead>\n",
       "    <tr style=\"text-align: right;\">\n",
       "      <th></th>\n",
       "      <th>CustomerID</th>\n",
       "      <th>predictions</th>\n",
       "    </tr>\n",
       "  </thead>\n",
       "  <tbody>\n",
       "    <tr>\n",
       "      <th>0</th>\n",
       "      <td>13085.0</td>\n",
       "      <td>0</td>\n",
       "    </tr>\n",
       "    <tr>\n",
       "      <th>1</th>\n",
       "      <td>17519.0</td>\n",
       "      <td>1</td>\n",
       "    </tr>\n",
       "    <tr>\n",
       "      <th>2</th>\n",
       "      <td>12362.0</td>\n",
       "      <td>1</td>\n",
       "    </tr>\n",
       "    <tr>\n",
       "      <th>3</th>\n",
       "      <td>15712.0</td>\n",
       "      <td>1</td>\n",
       "    </tr>\n",
       "    <tr>\n",
       "      <th>4</th>\n",
       "      <td>16128.0</td>\n",
       "      <td>1</td>\n",
       "    </tr>\n",
       "    <tr>\n",
       "      <th>...</th>\n",
       "      <td>...</td>\n",
       "      <td>...</td>\n",
       "    </tr>\n",
       "    <tr>\n",
       "      <th>5309</th>\n",
       "      <td>13089.0</td>\n",
       "      <td>1</td>\n",
       "    </tr>\n",
       "    <tr>\n",
       "      <th>5310</th>\n",
       "      <td>14298.0</td>\n",
       "      <td>1</td>\n",
       "    </tr>\n",
       "    <tr>\n",
       "      <th>5311</th>\n",
       "      <td>14911.0</td>\n",
       "      <td>1</td>\n",
       "    </tr>\n",
       "    <tr>\n",
       "      <th>5312</th>\n",
       "      <td>18102.0</td>\n",
       "      <td>1</td>\n",
       "    </tr>\n",
       "    <tr>\n",
       "      <th>5313</th>\n",
       "      <td>14646.0</td>\n",
       "      <td>1</td>\n",
       "    </tr>\n",
       "  </tbody>\n",
       "</table>\n",
       "<p>5314 rows × 2 columns</p>\n",
       "</div>"
      ],
      "text/plain": [
       "      CustomerID  predictions\n",
       "0        13085.0            0\n",
       "1        17519.0            1\n",
       "2        12362.0            1\n",
       "3        15712.0            1\n",
       "4        16128.0            1\n",
       "...          ...          ...\n",
       "5309     13089.0            1\n",
       "5310     14298.0            1\n",
       "5311     14911.0            1\n",
       "5312     18102.0            1\n",
       "5313     14646.0            1\n",
       "\n",
       "[5314 rows x 2 columns]"
      ]
     },
     "execution_count": 63,
     "metadata": {},
     "output_type": "execute_result"
    }
   ],
   "source": [
    "#Merge predictions to original data \n",
    "ref_xgb_pred_y = refined_xgb_model.predict(X)\n",
    "\n",
    "ctm_class['predictions'] = ref_xgb_pred_y\n",
    "\n",
    "ctm_class_final = ctm_class[['CustomerID', 'predictions']]\n",
    "ctm_class_final"
   ]
  },
  {
   "cell_type": "code",
   "execution_count": 64,
   "metadata": {
    "_cell_guid": "6219b0a0-edd2-45df-89ee-e84668a35cb7",
    "_uuid": "d7226ab3-dca6-43bf-b7ee-431f7b675514",
    "collapsed": false,
    "execution": {
     "iopub.execute_input": "2024-11-06T18:29:08.254863Z",
     "iopub.status.busy": "2024-11-06T18:29:08.254542Z",
     "iopub.status.idle": "2024-11-06T18:29:08.274876Z",
     "shell.execute_reply": "2024-11-06T18:29:08.273681Z",
     "shell.execute_reply.started": "2024-11-06T18:29:08.254824Z"
    },
    "jupyter": {
     "outputs_hidden": false
    },
    "trusted": true
   },
   "outputs": [],
   "source": [
    "ctm_class_final.to_csv(\"./submission.csv\")"
   ]
  },
  {
   "cell_type": "markdown",
   "metadata": {
    "_cell_guid": "454122c8-7353-4b7f-8136-cdc15edd71c2",
    "_uuid": "29f5a698-f85d-42d2-8d6c-1baf990b48fb",
    "trusted": true
   },
   "source": [
    "### Plot confusion matrix"
   ]
  },
  {
   "cell_type": "code",
   "execution_count": 65,
   "metadata": {
    "_cell_guid": "27ec696f-ee41-4e95-911f-4b73a9280126",
    "_uuid": "d32ee85e-2129-46c0-90c3-03842d31d3a6",
    "collapsed": false,
    "execution": {
     "iopub.execute_input": "2024-11-06T17:55:58.967634Z",
     "iopub.status.busy": "2024-11-06T17:55:58.967378Z",
     "iopub.status.idle": "2024-11-06T17:55:58.982821Z",
     "shell.execute_reply": "2024-11-06T17:55:58.981314Z",
     "shell.execute_reply.started": "2024-11-06T17:55:58.967603Z"
    },
    "jupyter": {
     "outputs_hidden": false
    },
    "trusted": true
   },
   "outputs": [],
   "source": [
    "def get_confusion_matrix(y_test, y_pred):\n",
    "    \"\"\"\n",
    "    Displays the confusion matrix of the input numpy arrays y_test and y_pred.\n",
    "    \n",
    "    INPUT: \n",
    "        y_test - A numpy array \n",
    "        y_pred - A numpy array\n",
    "        \n",
    "    OUTPUT:\n",
    "        NoneType\n",
    "    \"\"\"\n",
    "    \n",
    "    data = {'y_Actual': y_test, 'y_Predicted': y_pred}\n",
    "\n",
    "    df = pd.DataFrame(data, columns=['y_Actual','y_Predicted'])\n",
    "    conf_matrix = pd.crosstab(df['y_Actual'], df['y_Predicted'], \n",
    "                              rownames=['Actual'], \n",
    "                              colnames=['Predicted'])\n",
    "    \n",
    "    sns.heatmap(conf_matrix, annot=True, fmt = \"d\", cmap=\"Spectral\")\n",
    "    plt.show()"
   ]
  },
  {
   "cell_type": "code",
   "execution_count": 66,
   "metadata": {
    "_cell_guid": "03da0d76-9b9e-4403-a5d8-5ebab6e29873",
    "_uuid": "e0320e50-d784-4409-8154-91a7b823e033",
    "collapsed": false,
    "execution": {
     "iopub.execute_input": "2024-11-06T17:55:58.984786Z",
     "iopub.status.busy": "2024-11-06T17:55:58.984472Z",
     "iopub.status.idle": "2024-11-06T17:55:59.246253Z",
     "shell.execute_reply": "2024-11-06T17:55:59.244848Z",
     "shell.execute_reply.started": "2024-11-06T17:55:58.984749Z"
    },
    "jupyter": {
     "outputs_hidden": false
    },
    "trusted": true
   },
   "outputs": [
    {
     "ename": "ValueError",
     "evalue": "All arrays must be of the same length",
     "output_type": "error",
     "traceback": [
      "\u001b[0;31m---------------------------------------------------------------------------\u001b[0m",
      "\u001b[0;31mValueError\u001b[0m                                Traceback (most recent call last)",
      "Cell \u001b[0;32mIn[66], line 1\u001b[0m\n\u001b[0;32m----> 1\u001b[0m \u001b[43mget_confusion_matrix\u001b[49m\u001b[43m(\u001b[49m\u001b[43mnp\u001b[49m\u001b[38;5;241;43m.\u001b[39;49m\u001b[43marray\u001b[49m\u001b[43m(\u001b[49m\u001b[43my_test\u001b[49m\u001b[43m)\u001b[49m\u001b[43m,\u001b[49m\u001b[43m \u001b[49m\u001b[43mref_xgb_pred_y\u001b[49m\u001b[43m)\u001b[49m\n",
      "Cell \u001b[0;32mIn[65], line 15\u001b[0m, in \u001b[0;36mget_confusion_matrix\u001b[0;34m(y_test, y_pred)\u001b[0m\n\u001b[1;32m      2\u001b[0m \u001b[38;5;250m\u001b[39m\u001b[38;5;124;03m\"\"\"\u001b[39;00m\n\u001b[1;32m      3\u001b[0m \u001b[38;5;124;03mDisplays the confusion matrix of the input numpy arrays y_test and y_pred.\u001b[39;00m\n\u001b[1;32m      4\u001b[0m \u001b[38;5;124;03m\u001b[39;00m\n\u001b[0;32m   (...)\u001b[0m\n\u001b[1;32m     10\u001b[0m \u001b[38;5;124;03m    NoneType\u001b[39;00m\n\u001b[1;32m     11\u001b[0m \u001b[38;5;124;03m\"\"\"\u001b[39;00m\n\u001b[1;32m     13\u001b[0m data \u001b[38;5;241m=\u001b[39m {\u001b[38;5;124m'\u001b[39m\u001b[38;5;124my_Actual\u001b[39m\u001b[38;5;124m'\u001b[39m: y_test, \u001b[38;5;124m'\u001b[39m\u001b[38;5;124my_Predicted\u001b[39m\u001b[38;5;124m'\u001b[39m: y_pred}\n\u001b[0;32m---> 15\u001b[0m df \u001b[38;5;241m=\u001b[39m \u001b[43mpd\u001b[49m\u001b[38;5;241;43m.\u001b[39;49m\u001b[43mDataFrame\u001b[49m\u001b[43m(\u001b[49m\u001b[43mdata\u001b[49m\u001b[43m,\u001b[49m\u001b[43m \u001b[49m\u001b[43mcolumns\u001b[49m\u001b[38;5;241;43m=\u001b[39;49m\u001b[43m[\u001b[49m\u001b[38;5;124;43m'\u001b[39;49m\u001b[38;5;124;43my_Actual\u001b[39;49m\u001b[38;5;124;43m'\u001b[39;49m\u001b[43m,\u001b[49m\u001b[38;5;124;43m'\u001b[39;49m\u001b[38;5;124;43my_Predicted\u001b[39;49m\u001b[38;5;124;43m'\u001b[39;49m\u001b[43m]\u001b[49m\u001b[43m)\u001b[49m\n\u001b[1;32m     16\u001b[0m conf_matrix \u001b[38;5;241m=\u001b[39m pd\u001b[38;5;241m.\u001b[39mcrosstab(df[\u001b[38;5;124m'\u001b[39m\u001b[38;5;124my_Actual\u001b[39m\u001b[38;5;124m'\u001b[39m], df[\u001b[38;5;124m'\u001b[39m\u001b[38;5;124my_Predicted\u001b[39m\u001b[38;5;124m'\u001b[39m], \n\u001b[1;32m     17\u001b[0m                           rownames\u001b[38;5;241m=\u001b[39m[\u001b[38;5;124m'\u001b[39m\u001b[38;5;124mActual\u001b[39m\u001b[38;5;124m'\u001b[39m], \n\u001b[1;32m     18\u001b[0m                           colnames\u001b[38;5;241m=\u001b[39m[\u001b[38;5;124m'\u001b[39m\u001b[38;5;124mPredicted\u001b[39m\u001b[38;5;124m'\u001b[39m])\n\u001b[1;32m     20\u001b[0m sns\u001b[38;5;241m.\u001b[39mheatmap(conf_matrix, annot\u001b[38;5;241m=\u001b[39m\u001b[38;5;28;01mTrue\u001b[39;00m, fmt \u001b[38;5;241m=\u001b[39m \u001b[38;5;124m\"\u001b[39m\u001b[38;5;124md\u001b[39m\u001b[38;5;124m\"\u001b[39m, cmap\u001b[38;5;241m=\u001b[39m\u001b[38;5;124m\"\u001b[39m\u001b[38;5;124mSpectral\u001b[39m\u001b[38;5;124m\"\u001b[39m)\n",
      "File \u001b[0;32m~/.local/lib/python3.10/site-packages/pandas/core/frame.py:733\u001b[0m, in \u001b[0;36mDataFrame.__init__\u001b[0;34m(self, data, index, columns, dtype, copy)\u001b[0m\n\u001b[1;32m    727\u001b[0m     mgr \u001b[38;5;241m=\u001b[39m \u001b[38;5;28mself\u001b[39m\u001b[38;5;241m.\u001b[39m_init_mgr(\n\u001b[1;32m    728\u001b[0m         data, axes\u001b[38;5;241m=\u001b[39m{\u001b[38;5;124m\"\u001b[39m\u001b[38;5;124mindex\u001b[39m\u001b[38;5;124m\"\u001b[39m: index, \u001b[38;5;124m\"\u001b[39m\u001b[38;5;124mcolumns\u001b[39m\u001b[38;5;124m\"\u001b[39m: columns}, dtype\u001b[38;5;241m=\u001b[39mdtype, copy\u001b[38;5;241m=\u001b[39mcopy\n\u001b[1;32m    729\u001b[0m     )\n\u001b[1;32m    731\u001b[0m \u001b[38;5;28;01melif\u001b[39;00m \u001b[38;5;28misinstance\u001b[39m(data, \u001b[38;5;28mdict\u001b[39m):\n\u001b[1;32m    732\u001b[0m     \u001b[38;5;66;03m# GH#38939 de facto copy defaults to False only in non-dict cases\u001b[39;00m\n\u001b[0;32m--> 733\u001b[0m     mgr \u001b[38;5;241m=\u001b[39m \u001b[43mdict_to_mgr\u001b[49m\u001b[43m(\u001b[49m\u001b[43mdata\u001b[49m\u001b[43m,\u001b[49m\u001b[43m \u001b[49m\u001b[43mindex\u001b[49m\u001b[43m,\u001b[49m\u001b[43m \u001b[49m\u001b[43mcolumns\u001b[49m\u001b[43m,\u001b[49m\u001b[43m \u001b[49m\u001b[43mdtype\u001b[49m\u001b[38;5;241;43m=\u001b[39;49m\u001b[43mdtype\u001b[49m\u001b[43m,\u001b[49m\u001b[43m \u001b[49m\u001b[43mcopy\u001b[49m\u001b[38;5;241;43m=\u001b[39;49m\u001b[43mcopy\u001b[49m\u001b[43m,\u001b[49m\u001b[43m \u001b[49m\u001b[43mtyp\u001b[49m\u001b[38;5;241;43m=\u001b[39;49m\u001b[43mmanager\u001b[49m\u001b[43m)\u001b[49m\n\u001b[1;32m    734\u001b[0m \u001b[38;5;28;01melif\u001b[39;00m \u001b[38;5;28misinstance\u001b[39m(data, ma\u001b[38;5;241m.\u001b[39mMaskedArray):\n\u001b[1;32m    735\u001b[0m     \u001b[38;5;28;01mfrom\u001b[39;00m \u001b[38;5;21;01mnumpy\u001b[39;00m\u001b[38;5;21;01m.\u001b[39;00m\u001b[38;5;21;01mma\u001b[39;00m \u001b[38;5;28;01mimport\u001b[39;00m mrecords\n",
      "File \u001b[0;32m~/.local/lib/python3.10/site-packages/pandas/core/internals/construction.py:448\u001b[0m, in \u001b[0;36mdict_to_mgr\u001b[0;34m(data, index, columns, dtype, typ, copy)\u001b[0m\n\u001b[1;32m    444\u001b[0m missing \u001b[38;5;241m=\u001b[39m arrays\u001b[38;5;241m.\u001b[39misna()\n\u001b[1;32m    445\u001b[0m \u001b[38;5;28;01mif\u001b[39;00m index \u001b[38;5;129;01mis\u001b[39;00m \u001b[38;5;28;01mNone\u001b[39;00m:\n\u001b[1;32m    446\u001b[0m     \u001b[38;5;66;03m# GH10856\u001b[39;00m\n\u001b[1;32m    447\u001b[0m     \u001b[38;5;66;03m# raise ValueError if only scalars in dict\u001b[39;00m\n\u001b[0;32m--> 448\u001b[0m     index \u001b[38;5;241m=\u001b[39m \u001b[43m_extract_index\u001b[49m\u001b[43m(\u001b[49m\u001b[43marrays\u001b[49m\u001b[43m[\u001b[49m\u001b[38;5;241;43m~\u001b[39;49m\u001b[43mmissing\u001b[49m\u001b[43m]\u001b[49m\u001b[43m)\u001b[49m\n\u001b[1;32m    449\u001b[0m \u001b[38;5;28;01melse\u001b[39;00m:\n\u001b[1;32m    450\u001b[0m     index \u001b[38;5;241m=\u001b[39m ensure_index(index)\n",
      "File \u001b[0;32m~/.local/lib/python3.10/site-packages/pandas/core/internals/construction.py:677\u001b[0m, in \u001b[0;36m_extract_index\u001b[0;34m(data)\u001b[0m\n\u001b[1;32m    675\u001b[0m lengths \u001b[38;5;241m=\u001b[39m \u001b[38;5;28mlist\u001b[39m(\u001b[38;5;28mset\u001b[39m(raw_lengths))\n\u001b[1;32m    676\u001b[0m \u001b[38;5;28;01mif\u001b[39;00m \u001b[38;5;28mlen\u001b[39m(lengths) \u001b[38;5;241m>\u001b[39m \u001b[38;5;241m1\u001b[39m:\n\u001b[0;32m--> 677\u001b[0m     \u001b[38;5;28;01mraise\u001b[39;00m \u001b[38;5;167;01mValueError\u001b[39;00m(\u001b[38;5;124m\"\u001b[39m\u001b[38;5;124mAll arrays must be of the same length\u001b[39m\u001b[38;5;124m\"\u001b[39m)\n\u001b[1;32m    679\u001b[0m \u001b[38;5;28;01mif\u001b[39;00m have_dicts:\n\u001b[1;32m    680\u001b[0m     \u001b[38;5;28;01mraise\u001b[39;00m \u001b[38;5;167;01mValueError\u001b[39;00m(\n\u001b[1;32m    681\u001b[0m         \u001b[38;5;124m\"\u001b[39m\u001b[38;5;124mMixing dicts with non-Series may lead to ambiguous ordering.\u001b[39m\u001b[38;5;124m\"\u001b[39m\n\u001b[1;32m    682\u001b[0m     )\n",
      "\u001b[0;31mValueError\u001b[0m: All arrays must be of the same length"
     ]
    }
   ],
   "source": [
    "get_confusion_matrix(np.array(y_test), ref_xgb_pred_y)"
   ]
  },
  {
   "cell_type": "markdown",
   "metadata": {
    "_cell_guid": "d7b5c624-9c9d-4a71-b4fc-1d02955432ef",
    "_uuid": "b18281a5-fb39-4155-9af5-d3257314fa54",
    "trusted": true
   },
   "source": [
    "### Plot AUC Curve"
   ]
  },
  {
   "cell_type": "code",
   "execution_count": null,
   "metadata": {
    "_cell_guid": "0f99f6da-9703-4dd3-a4dd-ced6479783a4",
    "_uuid": "9838c2f7-54cd-449c-9e98-a2fe351727e8",
    "collapsed": false,
    "execution": {
     "iopub.execute_input": "2024-11-06T18:28:56.641993Z",
     "iopub.status.busy": "2024-11-06T18:28:56.641497Z",
     "iopub.status.idle": "2024-11-06T18:28:56.680541Z",
     "shell.execute_reply": "2024-11-06T18:28:56.679203Z",
     "shell.execute_reply.started": "2024-11-06T18:28:56.641934Z"
    },
    "jupyter": {
     "outputs_hidden": false
    },
    "trusted": true
   },
   "outputs": [
    {
     "ename": "ValueError",
     "evalue": "Found input variables with inconsistent numbers of samples: [1063, 5314]",
     "output_type": "error",
     "traceback": [
      "\u001b[0;31m---------------------------------------------------------------------------\u001b[0m",
      "\u001b[0;31mValueError\u001b[0m                                Traceback (most recent call last)",
      "\u001b[0;32m/tmp/ipykernel_17/1975916415.py\u001b[0m in \u001b[0;36m<module>\u001b[0;34m\u001b[0m\n\u001b[1;32m      3\u001b[0m \u001b[0;34m\u001b[0m\u001b[0m\n\u001b[1;32m      4\u001b[0m \u001b[0;31m# Compute fpr, tpr, thresholds and roc auc\u001b[0m\u001b[0;34m\u001b[0m\u001b[0;34m\u001b[0m\u001b[0;34m\u001b[0m\u001b[0m\n\u001b[0;32m----> 5\u001b[0;31m \u001b[0mfpr\u001b[0m\u001b[0;34m,\u001b[0m \u001b[0mtpr\u001b[0m\u001b[0;34m,\u001b[0m \u001b[0mthresholds\u001b[0m \u001b[0;34m=\u001b[0m \u001b[0mroc_curve\u001b[0m\u001b[0;34m(\u001b[0m\u001b[0my_test\u001b[0m\u001b[0;34m,\u001b[0m \u001b[0mref_xgb_pred_y\u001b[0m\u001b[0;34m)\u001b[0m\u001b[0;34m\u001b[0m\u001b[0;34m\u001b[0m\u001b[0m\n\u001b[0m\u001b[1;32m      6\u001b[0m \u001b[0mroc_auc\u001b[0m \u001b[0;34m=\u001b[0m \u001b[0mauc\u001b[0m\u001b[0;34m(\u001b[0m\u001b[0mfpr\u001b[0m\u001b[0;34m,\u001b[0m \u001b[0mtpr\u001b[0m\u001b[0;34m)\u001b[0m\u001b[0;34m\u001b[0m\u001b[0;34m\u001b[0m\u001b[0m\n\u001b[1;32m      7\u001b[0m \u001b[0;34m\u001b[0m\u001b[0m\n",
      "\u001b[0;32m/opt/conda/lib/python3.7/site-packages/sklearn/metrics/_ranking.py\u001b[0m in \u001b[0;36mroc_curve\u001b[0;34m(y_true, y_score, pos_label, sample_weight, drop_intermediate)\u001b[0m\n\u001b[1;32m    961\u001b[0m     \"\"\"\n\u001b[1;32m    962\u001b[0m     fps, tps, thresholds = _binary_clf_curve(\n\u001b[0;32m--> 963\u001b[0;31m         \u001b[0my_true\u001b[0m\u001b[0;34m,\u001b[0m \u001b[0my_score\u001b[0m\u001b[0;34m,\u001b[0m \u001b[0mpos_label\u001b[0m\u001b[0;34m=\u001b[0m\u001b[0mpos_label\u001b[0m\u001b[0;34m,\u001b[0m \u001b[0msample_weight\u001b[0m\u001b[0;34m=\u001b[0m\u001b[0msample_weight\u001b[0m\u001b[0;34m\u001b[0m\u001b[0;34m\u001b[0m\u001b[0m\n\u001b[0m\u001b[1;32m    964\u001b[0m     )\n\u001b[1;32m    965\u001b[0m \u001b[0;34m\u001b[0m\u001b[0m\n",
      "\u001b[0;32m/opt/conda/lib/python3.7/site-packages/sklearn/metrics/_ranking.py\u001b[0m in \u001b[0;36m_binary_clf_curve\u001b[0;34m(y_true, y_score, pos_label, sample_weight)\u001b[0m\n\u001b[1;32m    731\u001b[0m         \u001b[0;32mraise\u001b[0m \u001b[0mValueError\u001b[0m\u001b[0;34m(\u001b[0m\u001b[0;34m\"{0} format is not supported\"\u001b[0m\u001b[0;34m.\u001b[0m\u001b[0mformat\u001b[0m\u001b[0;34m(\u001b[0m\u001b[0my_type\u001b[0m\u001b[0;34m)\u001b[0m\u001b[0;34m)\u001b[0m\u001b[0;34m\u001b[0m\u001b[0;34m\u001b[0m\u001b[0m\n\u001b[1;32m    732\u001b[0m \u001b[0;34m\u001b[0m\u001b[0m\n\u001b[0;32m--> 733\u001b[0;31m     \u001b[0mcheck_consistent_length\u001b[0m\u001b[0;34m(\u001b[0m\u001b[0my_true\u001b[0m\u001b[0;34m,\u001b[0m \u001b[0my_score\u001b[0m\u001b[0;34m,\u001b[0m \u001b[0msample_weight\u001b[0m\u001b[0;34m)\u001b[0m\u001b[0;34m\u001b[0m\u001b[0;34m\u001b[0m\u001b[0m\n\u001b[0m\u001b[1;32m    734\u001b[0m     \u001b[0my_true\u001b[0m \u001b[0;34m=\u001b[0m \u001b[0mcolumn_or_1d\u001b[0m\u001b[0;34m(\u001b[0m\u001b[0my_true\u001b[0m\u001b[0;34m)\u001b[0m\u001b[0;34m\u001b[0m\u001b[0;34m\u001b[0m\u001b[0m\n\u001b[1;32m    735\u001b[0m     \u001b[0my_score\u001b[0m \u001b[0;34m=\u001b[0m \u001b[0mcolumn_or_1d\u001b[0m\u001b[0;34m(\u001b[0m\u001b[0my_score\u001b[0m\u001b[0;34m)\u001b[0m\u001b[0;34m\u001b[0m\u001b[0;34m\u001b[0m\u001b[0m\n",
      "\u001b[0;32m/opt/conda/lib/python3.7/site-packages/sklearn/utils/validation.py\u001b[0m in \u001b[0;36mcheck_consistent_length\u001b[0;34m(*arrays)\u001b[0m\n\u001b[1;32m    331\u001b[0m         raise ValueError(\n\u001b[1;32m    332\u001b[0m             \u001b[0;34m\"Found input variables with inconsistent numbers of samples: %r\"\u001b[0m\u001b[0;34m\u001b[0m\u001b[0;34m\u001b[0m\u001b[0m\n\u001b[0;32m--> 333\u001b[0;31m             \u001b[0;34m%\u001b[0m \u001b[0;34m[\u001b[0m\u001b[0mint\u001b[0m\u001b[0;34m(\u001b[0m\u001b[0ml\u001b[0m\u001b[0;34m)\u001b[0m \u001b[0;32mfor\u001b[0m \u001b[0ml\u001b[0m \u001b[0;32min\u001b[0m \u001b[0mlengths\u001b[0m\u001b[0;34m]\u001b[0m\u001b[0;34m\u001b[0m\u001b[0;34m\u001b[0m\u001b[0m\n\u001b[0m\u001b[1;32m    334\u001b[0m         )\n\u001b[1;32m    335\u001b[0m \u001b[0;34m\u001b[0m\u001b[0m\n",
      "\u001b[0;31mValueError\u001b[0m: Found input variables with inconsistent numbers of samples: [1063, 5314]"
     ]
    }
   ],
   "source": [
    "from sklearn.metrics import roc_curve\n",
    "from sklearn.metrics import auc\n",
    "\n",
    "# Compute fpr, tpr, thresholds and roc auc\n",
    "fpr, tpr, thresholds = roc_curve(y_test, ref_xgb_pred_y)\n",
    "roc_auc = auc(fpr, tpr)\n",
    "\n",
    "# Plot ROC curve\n",
    "plt.plot(fpr, tpr, label='ROC curve (area = %0.3f)' % roc_auc)\n",
    "plt.plot([0, 1], [0, 1], 'k--')  # random predictions curve\n",
    "plt.xlim([0.0, 1.0])\n",
    "plt.ylim([0.0, 1.0])\n",
    "plt.xlabel('False Positive Rate or (1 - Specifity)')\n",
    "plt.ylabel('True Positive Rate or (Sensitivity)')\n",
    "plt.title('Receiver Operating Characteristic')\n",
    "plt.legend(loc=\"lower right\")"
   ]
  },
  {
   "cell_type": "code",
   "execution_count": null,
   "metadata": {
    "_cell_guid": "21f7107c-0145-4b08-aa04-0b006117da52",
    "_uuid": "41b48785-d091-4ea1-8462-8386f2edf439",
    "collapsed": false,
    "jupyter": {
     "outputs_hidden": false
    },
    "trusted": true
   },
   "outputs": [],
   "source": []
  }
 ],
 "metadata": {
  "kaggle": {
   "accelerator": "none",
   "dataSources": [
    {
     "datasetId": 1988857,
     "sourceId": 3284019,
     "sourceType": "datasetVersion"
    }
   ],
   "dockerImageVersionId": 30170,
   "isGpuEnabled": false,
   "isInternetEnabled": false,
   "language": "python",
   "sourceType": "notebook"
  },
  "kernelspec": {
   "display_name": "usr",
   "language": "python",
   "name": "python3"
  },
  "language_info": {
   "codemirror_mode": {
    "name": "ipython",
    "version": 3
   },
   "file_extension": ".py",
   "mimetype": "text/x-python",
   "name": "python",
   "nbconvert_exporter": "python",
   "pygments_lexer": "ipython3",
   "version": "3.10.12"
  }
 },
 "nbformat": 4,
 "nbformat_minor": 4
}
